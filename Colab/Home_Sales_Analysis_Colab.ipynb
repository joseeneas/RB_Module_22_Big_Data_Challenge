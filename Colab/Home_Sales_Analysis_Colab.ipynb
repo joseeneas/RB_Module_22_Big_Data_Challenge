{
  "cells": [
    {
      "cell_type": "markdown",
      "metadata": {
        "id": "ARyWLJN1d6Yl"
      },
      "source": [
        "# MODULE 22 - BIG DATA ANALYSIS WITH SPARK"
      ]
    },
    {
      "cell_type": "markdown",
      "metadata": {
        "id": "ERtYS3wXd6Ym"
      },
      "source": [
        "Step 00 - Environment Setup"
      ]
    },
    {
      "cell_type": "code",
      "execution_count": 7,
      "metadata": {
        "colab": {
          "base_uri": "https://localhost:8080/"
        },
        "id": "a_KW73O2e3dw",
        "notebookRunGroups": {
          "groupValue": ""
        },
        "outputId": "8aea1f48-adb8-4ab3-9464-8605825d2a56"
      },
      "outputs": [
        {
          "output_type": "stream",
          "name": "stdout",
          "text": [
            "\r0% [Working]\r            \rHit:1 http://security.ubuntu.com/ubuntu jammy-security InRelease\n",
            "\r0% [Waiting for headers] [Connected to cloud.r-project.org (65.9.86.118)] [Conn\r                                                                               \rHit:2 http://archive.ubuntu.com/ubuntu jammy InRelease\n",
            "\r                                                                               \rHit:3 http://archive.ubuntu.com/ubuntu jammy-updates InRelease\n",
            "\r0% [Waiting for headers] [Waiting for headers] [Connected to ppa.launchpadconte\r                                                                               \rHit:4 https://cloud.r-project.org/bin/linux/ubuntu jammy-cran40/ InRelease\n",
            "\r0% [Waiting for headers] [Connected to ppa.launchpadcontent.net (185.125.190.52\r                                                                               \rHit:5 http://archive.ubuntu.com/ubuntu jammy-backports InRelease\n",
            "\r0% [Connected to ppa.launchpadcontent.net (185.125.190.52)] [Waiting for header\r                                                                               \rHit:6 https://ppa.launchpadcontent.net/c2d4u.team/c2d4u4.0+/ubuntu jammy InRelease\n",
            "\r                                                                               \r0% [Connecting to ppa.launchpadcontent.net] [Waiting for headers]\r                                                                 \rHit:7 https://developer.download.nvidia.com/compute/cuda/repos/ubuntu2204/x86_64  InRelease\n",
            "Hit:8 https://ppa.launchpadcontent.net/deadsnakes/ppa/ubuntu jammy InRelease\n",
            "Hit:9 https://ppa.launchpadcontent.net/graphics-drivers/ppa/ubuntu jammy InRelease\n",
            "Hit:10 https://ppa.launchpadcontent.net/ubuntugis/ppa/ubuntu jammy InRelease\n",
            "Reading package lists... Done\n",
            "Requirement already satisfied: colorama in /usr/local/lib/python3.10/dist-packages (0.4.6)\n",
            "\u001b[37m2023-09-05 22:35:53.058052\u001b[33m STEP 00 - ENVIRONMENT PREPARATION\u001b[37m----------------------------------------------------\n",
            "Copyright        : Copyright (c) 2001-2023 Python Software Foundation.\n",
            "All Rights Reserved.\n",
            "\n",
            "Copyright (c) 2000 BeOpen.com.\n",
            "All Rights Reserved.\n",
            "\n",
            "Copyright (c) 1995-2001 Corporation for National Research Initiatives.\n",
            "All Rights Reserved.\n",
            "\n",
            "Copyright (c) 1991-1995 Stichting Mathematisch Centrum, Amsterdam.\n",
            "All Rights Reserved.\n",
            "OS Platform      : linux\n",
            "OS Name          : posix\n",
            "OS HOME          : /root\n",
            "OS uName         : Linux\n",
            "OS NodeName      : 49df4030fcb1\n",
            "OS Release       : 5.15.109+\n",
            "OS Release Ver   : #1 SMP Fri Jun 9 10:57:30 UTC 2023\n",
            "OS Machine       : x86_64\n",
            "Process ID       : 706\n",
            "Parent Process   : 78\n",
            "Current dir      : /content\n",
            "Python version   : 3.10.12 (main, Jun 11 2023, 05:26:28) [GCC 11.4.0]\n",
            "Version info     : sys.version_info(major=3, minor=10, micro=12, releaselevel='final', serial=0)\n",
            "Python API Ver   : 1013\n",
            "Executable       : /usr/bin/python3\n",
            "Hadoop home      : None\n",
            "Spark version    : 2.0.1\n",
            "Spark home(Find) : /content/spark-3.4.1-bin-hadoop3\n",
            "Spark Home(Env)  : /content/spark-3.4.1-bin-hadoop3\n",
            "Spark UI         : http://localhost:4040\n",
            "Spark submit     : /usr/local/lib/python3.10/dist-packages/ipykernel_launcher.py\n",
            "Java home        : /usr/lib/jvm/java-11-openjdk-amd64\n",
            "\u001b[37m2023-09-05 22:35:53.062382\u001b[33m STEP 00 - DONE\u001b[37m-----------------------------------------------------------------------\n",
            "\u001b[37m2023-09-05 22:35:53.065445\u001b[33m STEP 00 - ELAPSED TIME: 0:00:00.007572 seconds\u001b[37m---------------------------------------\n"
          ]
        }
      ],
      "source": [
        "#\n",
        "# Step 00 - Environment Setup\n",
        "#\n",
        "\n",
        "import sys\n",
        "import os\n",
        "import shutil          as shu\n",
        "import datetime\n",
        "import warnings\n",
        "\n",
        "\n",
        "spark_version = 'spark-3.4.1'\n",
        "os.environ['SPARK_VERSION']=spark_version\n",
        "\n",
        "# Install Spark and Java\n",
        "!apt-get update\n",
        "!apt-get install openjdk-11-jdk-headless -qq > /dev/null\n",
        "!wget -q http://www.apache.org/dist/spark/$SPARK_VERSION/$SPARK_VERSION-bin-hadoop3.tgz\n",
        "!tar xf $SPARK_VERSION-bin-hadoop3.tgz\n",
        "!pip install -q findspark\n",
        "!pip install colorama\n",
        "\n",
        "import findspark\n",
        "from   colorama    import Fore\n",
        "from   pyspark     import SparkFiles\n",
        "from   pyspark.sql import SparkSession\n",
        "\n",
        "# Set Environment Variables\n",
        "os.environ[\"JAVA_HOME\"] = \"/usr/lib/jvm/java-11-openjdk-amd64\"\n",
        "os.environ[\"SPARK_HOME\"] = f\"/content/{spark_version}-bin-hadoop3\"\n",
        "\n",
        "start_time = datetime.datetime.now()\n",
        "w, h       = shu.get_terminal_size()\n",
        "\n",
        "def logStep(msg):\n",
        "    l1 = len(msg)\n",
        "    l2 = w - l1\n",
        "    print(Fore.WHITE + str(datetime.datetime.now()) +  Fore.YELLOW + ' STEP ' + msg + Fore.WHITE + '-' * l2  )\n",
        "    sys.stdout.flush()\n",
        "\n",
        "def printSeparator():\n",
        "    print(Fore.GREEN + '-' * w + Fore.WHITE)\n",
        "\n",
        "logStep('00 - ENVIRONMENT PREPARATION')\n",
        "\n",
        "\n",
        "warnings.filterwarnings('ignore')\n",
        "\n",
        "print(F'Copyright        : {sys.copyright}')\n",
        "print(F'OS Platform      : {sys.platform}')\n",
        "print(F'OS Name          : {os.name}')\n",
        "print(F'OS HOME          : {os.environ.get(\"HOME\")}')\n",
        "print(F'OS uName         : {os.uname().sysname}')\n",
        "print(F'OS NodeName      : {os.uname().nodename}')\n",
        "print(F'OS Release       : {os.uname().release}')\n",
        "print(F'OS Release Ver   : {os.uname().version}')\n",
        "print(F'OS Machine       : {os.uname().machine}')\n",
        "print(F'Process ID       : {os.getpid()}')\n",
        "print(F'Parent Process   : {os.getppid()}')\n",
        "#print(F'OS User          : {os.getlogin()}')\n",
        "#print(F'OS User ID       : {os.getuid()}')\n",
        "#print(F'OS Group ID      : {os.getgid()}')\n",
        "#print(F'OS Effective ID  : {os.geteuid()}')\n",
        "#print(F'OS Effective GID : {os.getegid()}')\n",
        "print(F'Current dir      : {os.getcwd()}')\n",
        "print(F'Python version   : {sys.version}')\n",
        "print(F'Version info     : {sys.version_info}')\n",
        "print(F'Python API Ver   : {sys.api_version}')\n",
        "print(F'Executable       : {sys.executable}')\n",
        "print(F'Hadoop home      : {os.environ.get(\"HADOOP_HOME\")}')\n",
        "print(F'Spark version    : {findspark.__version__}')\n",
        "print(F'Spark home(Find) : {findspark.find()}')\n",
        "print(F'Spark Home(Env)  : {os.environ.get(\"SPARK_HOME\")}')\n",
        "print(F'Spark UI         : http://localhost:4040')\n",
        "print(F'Spark submit     : {sys.argv[0]}')\n",
        "print(F'Java home        : {os.environ.get(\"JAVA_HOME\")}')\n",
        "\n",
        "logStep(\"00 - DONE\");\n",
        "end_time           = datetime.datetime.now()\n",
        "step00_elapsed_time = end_time - start_time\n",
        "logStep(F\"00 - ELAPSED TIME: {step00_elapsed_time} seconds\")"
      ]
    },
    {
      "cell_type": "markdown",
      "metadata": {
        "id": "n8fpxoFKd6Yo"
      },
      "source": [
        "Step 01 - Read in the source file into a DataFrame"
      ]
    },
    {
      "cell_type": "code",
      "execution_count": 8,
      "metadata": {
        "colab": {
          "base_uri": "https://localhost:8080/"
        },
        "id": "wOJqxG_RPSwp",
        "outputId": "cdc12d3b-40fd-4941-abeb-bb4c80016ee4"
      },
      "outputs": [
        {
          "output_type": "stream",
          "name": "stdout",
          "text": [
            "\u001b[37m2023-09-05 22:36:01.348835\u001b[33m STEP 01 - READ SOURCE DATA\u001b[37m-----------------------------------------------------------\n",
            "+--------------------+----------+----------+------+--------+---------+-----------+--------+------+----------+----+\n",
            "|                  id|      date|date_built| price|bedrooms|bathrooms|sqft_living|sqft_lot|floors|waterfront|view|\n",
            "+--------------------+----------+----------+------+--------+---------+-----------+--------+------+----------+----+\n",
            "|f8a53099-ba1c-47d...|2022-04-08|      2016|936923|       4|        3|       3167|   11733|     2|         1|  76|\n",
            "|7530a2d8-1ae3-451...|2021-06-13|      2013|379628|       2|        2|       2235|   14384|     1|         0|  23|\n",
            "|43de979c-0bf0-4c9...|2019-04-12|      2014|417866|       2|        2|       2127|   10575|     2|         0|   0|\n",
            "|b672c137-b88c-48b...|2019-10-16|      2016|239895|       2|        2|       1631|   11149|     2|         0|   0|\n",
            "|e0726d4d-d595-407...|2022-01-08|      2017|424418|       3|        2|       2249|   13878|     2|         0|   4|\n",
            "+--------------------+----------+----------+------+--------+---------+-----------+--------+------+----------+----+\n",
            "only showing top 5 rows\n",
            "\n",
            "\u001b[37m2023-09-05 22:36:22.647134\u001b[33m STEP 01 - Spark operation - Source data read successfully\u001b[37m----------------------------\n",
            "\u001b[37m2023-09-05 22:36:22.649537\u001b[33m STEP 01 - DONE\u001b[37m-----------------------------------------------------------------------\n",
            "\u001b[37m2023-09-05 22:36:22.655273\u001b[33m STEP 01 - ELAPSED TIME: 0:00:21.306308 seconds\u001b[37m---------------------------------------\n"
          ]
        }
      ],
      "source": [
        "#\n",
        "# Step 01 - Read in the source file into a DataFrame.\n",
        "#\n",
        "\n",
        "start_time = datetime.datetime.now()\n",
        "logStep(\"01 - READ SOURCE DATA\");\n",
        "\n",
        "try:\n",
        "  findspark.init()\n",
        "  spark = SparkSession.builder.appName(\"SparkSQL\").getOrCreate()\n",
        "  spark.sparkContext.setLogLevel(\"ERROR\")\n",
        "  url   = \"https://2u-data-curriculum-team.s3.amazonaws.com/dataviz-classroom/v1.2/22-big-data/home_sales_revised.csv\"\n",
        "  spark.sparkContext.addFile(url)\n",
        "  home_df = spark.read.csv(SparkFiles.get(\"home_sales_revised.csv\"), sep=\",\", header=True, ignoreLeadingWhiteSpace=True)\n",
        "  home_df.show(5)\n",
        "except Exception as e:\n",
        "  logStep(F\"Exception: {e}\")\n",
        "  sys.exit(1)\n",
        "else:\n",
        "  logStep(\"01 - Spark operation - Source data read successfully\")\n",
        "\n",
        "logStep(\"01 - DONE\");\n",
        "end_time           = datetime.datetime.now()\n",
        "step01_elapsed_time = end_time - start_time\n",
        "logStep(F\"01 - ELAPSED TIME: {step01_elapsed_time} seconds\")"
      ]
    },
    {
      "cell_type": "markdown",
      "metadata": {
        "id": "__nYOhFQd6Yp"
      },
      "source": [
        "Step 02 - Create a temporary view of the DataFrame."
      ]
    },
    {
      "cell_type": "code",
      "execution_count": 9,
      "metadata": {
        "id": "RoljcJ7WPpnm",
        "colab": {
          "base_uri": "https://localhost:8080/"
        },
        "outputId": "91d4b209-af2a-4208-f691-8188ba654c09"
      },
      "outputs": [
        {
          "output_type": "stream",
          "name": "stdout",
          "text": [
            "\u001b[37m2023-09-05 22:36:26.642003\u001b[33m STEP 02 - CREATE A TEMPORARY VIEW\u001b[37m----------------------------------------------------\n",
            "\u001b[37m2023-09-05 22:36:26.717108\u001b[33m STEP 02 - Spark operation - Temporary view created successfully\u001b[37m----------------------\n",
            "\u001b[37m2023-09-05 22:36:26.719812\u001b[33m STEP 02 - DONE\u001b[37m-----------------------------------------------------------------------\n",
            "\u001b[37m2023-09-05 22:36:26.722166\u001b[33m STEP 02 - ELAPSED TIME: 0:00:00.080088 seconds\u001b[37m---------------------------------------\n"
          ]
        }
      ],
      "source": [
        "#\n",
        "# Step 02 - Create a temporary view of the DataFrame.\n",
        "#\n",
        "\n",
        "start_time         = datetime.datetime.now()\n",
        "logStep(\"02 - CREATE A TEMPORARY VIEW\")\n",
        "\n",
        "try:\n",
        "  home_df.createOrReplaceTempView('home_sales')\n",
        "except Exception as e:\n",
        "  logStep(F\"Exception: {e}\")\n",
        "  sys.exit(1)\n",
        "else:\n",
        "  logStep(\"02 - Spark operation - Temporary view created successfully\")\n",
        "\n",
        "logStep(\"02 - DONE\")\n",
        "end_time           = datetime.datetime.now()\n",
        "step02_elapsed_time = end_time - start_time\n",
        "logStep(F\"02 - ELAPSED TIME: {step02_elapsed_time} seconds\")"
      ]
    },
    {
      "cell_type": "markdown",
      "metadata": {
        "id": "sgaa8ukyd6Yp"
      },
      "source": [
        "Step 03 - What is the average price for a four bedroom house sold in each year rounded to two decimal places?"
      ]
    },
    {
      "cell_type": "code",
      "execution_count": 10,
      "metadata": {
        "colab": {
          "base_uri": "https://localhost:8080/"
        },
        "id": "L6fkwOeOmqvq",
        "outputId": "5c82e20e-d0a6-4844-968b-7bb0ccdbde7a"
      },
      "outputs": [
        {
          "output_type": "stream",
          "name": "stdout",
          "text": [
            "\u001b[37m2023-09-05 22:36:32.602668\u001b[33m STEP 03 - WHAT IS THE AVERAGE PRICE?=4BR\u001b[37m---------------------------------------------\n",
            "+----+---------+\n",
            "|YEAR|  AVERAGE|\n",
            "+----+---------+\n",
            "|2022|296363.88|\n",
            "|2021|301819.44|\n",
            "|2020|298353.78|\n",
            "|2019| 300263.7|\n",
            "+----+---------+\n",
            "\n",
            "\u001b[37m2023-09-05 22:36:35.460996\u001b[33m STEP 03 - Spark operation - Query executed successfully\u001b[37m------------------------------\n",
            "\u001b[37m2023-09-05 22:36:35.463985\u001b[33m STEP 03 - DONE\u001b[37m-----------------------------------------------------------------------\n",
            "\u001b[37m2023-09-05 22:36:35.465383\u001b[33m STEP 03 - ELAPSED TIME: 0:00:02.862640 seconds\u001b[37m---------------------------------------\n"
          ]
        }
      ],
      "source": [
        "#\n",
        "# Step 03 - What is the average price for a four bedroom house sold in each year rounded to two decimal places?\n",
        "#\n",
        "\n",
        "start_time         = datetime.datetime.now()\n",
        "logStep(\"03 - WHAT IS THE AVERAGE PRICE?=4BR\")\n",
        "\n",
        "try:\n",
        "  spark.sql(\"SELECT YEAR(date)          AS YEAR, \\\n",
        "                    ROUND(AVG(price),2) AS AVERAGE \\\n",
        "               FROM home_sales \\\n",
        "              WHERE bedrooms == 4 \\\n",
        "           GROUP BY YEAR(date) \\\n",
        "           ORDER BY YEAR(date) DESC\").show(5)\n",
        "except Exception as e:\n",
        "     logStep(F\"Exception: {e}\")\n",
        "     sys.exit(1)\n",
        "else:\n",
        "     logStep(\"03 - Spark operation - Query executed successfully\")\n",
        "\n",
        "\n",
        "logStep(\"03 - DONE\")\n",
        "end_time           = datetime.datetime.now()\n",
        "step03_elapsed_time = end_time - start_time\n",
        "logStep(F\"03 - ELAPSED TIME: {step03_elapsed_time} seconds\")"
      ]
    },
    {
      "cell_type": "markdown",
      "metadata": {
        "id": "eIqWtU70d6Yq"
      },
      "source": [
        "Step 04 - What is the average price of a home for each year the home was built that have 3 bedrooms and 3 bathrooms rounded to two decimal places?"
      ]
    },
    {
      "cell_type": "code",
      "execution_count": 11,
      "metadata": {
        "colab": {
          "base_uri": "https://localhost:8080/"
        },
        "id": "l8p_tUS8h8it",
        "outputId": "40f23fbe-64ae-44a9-8455-4e17a6f2f579"
      },
      "outputs": [
        {
          "output_type": "stream",
          "name": "stdout",
          "text": [
            "\u001b[37m2023-09-05 22:36:38.346564\u001b[33m STEP 04 - WHAT IS THE AVERAGE PRICE?=3BR/3B\u001b[37m------------------------------------------\n",
            "+----+---------+\n",
            "|YEAR|  AVERAGE|\n",
            "+----+---------+\n",
            "|2017|292676.79|\n",
            "|2016|290555.07|\n",
            "|2015| 288770.3|\n",
            "|2014|290852.27|\n",
            "|2013|295962.27|\n",
            "+----+---------+\n",
            "only showing top 5 rows\n",
            "\n",
            "\u001b[37m2023-09-05 22:36:39.651162\u001b[33m STEP 04 - Spark operation - Query executed successfully\u001b[37m------------------------------\n",
            "\u001b[37m2023-09-05 22:36:39.662736\u001b[33m STEP 04 - DONE\u001b[37m-----------------------------------------------------------------------\n",
            "\u001b[37m2023-09-05 22:36:39.665115\u001b[33m STEP 04 - ELAPSED TIME: 0:00:01.316172 seconds\u001b[37m---------------------------------------\n"
          ]
        }
      ],
      "source": [
        "#\n",
        "# Step 04 - What is the average price of a home for each year the home was built that have 3 bedrooms and 3 bathrooms rounded to two decimal places?\n",
        "#\n",
        "\n",
        "start_time         = datetime.datetime.now()\n",
        "logStep(\"04 - WHAT IS THE AVERAGE PRICE?=3BR/3B\")\n",
        "\n",
        "try:\n",
        "  spark.sql(\"SELECT date_built          AS YEAR , \\\n",
        "                    ROUND(AVG(price),2) AS AVERAGE  \\\n",
        "               FROM home_sales \\\n",
        "              WHERE bedrooms == 3 AND \\\n",
        "                    bathrooms == 3 \\\n",
        "          GROUP BY date_built \\\n",
        "          ORDER BY date_built DESC\").show(5)\n",
        "except Exception as e:\n",
        "     logStep(F\"Exception: {e}\")\n",
        "     sys.exit(1)\n",
        "else:\n",
        "     logStep(\"04 - Spark operation - Query executed successfully\")\n",
        "\n",
        "\n",
        "end_time           = datetime.datetime.now()\n",
        "logStep(\"04 - DONE\")\n",
        "step04_elapsed_time = end_time - start_time\n",
        "logStep(F\"04 - ELAPSED TIME: {step04_elapsed_time} seconds\")\n"
      ]
    },
    {
      "cell_type": "markdown",
      "metadata": {
        "id": "3GdRzLDRd6Yq"
      },
      "source": [
        "Step 05 - What is the average price of a home for each year built that have 3 bedrooms, 3 bathrooms, with two floors, and are greater than or equal to 2,000 square feet rounded to two decimal places?"
      ]
    },
    {
      "cell_type": "code",
      "execution_count": 12,
      "metadata": {
        "colab": {
          "base_uri": "https://localhost:8080/"
        },
        "id": "Y-Eytz64liDU",
        "outputId": "b6192ce6-c48a-4d5d-858f-3380b76b3846"
      },
      "outputs": [
        {
          "output_type": "stream",
          "name": "stdout",
          "text": [
            "\u001b[37m2023-09-05 22:36:42.349339\u001b[33m STEP 05 - WHAT IS THE AVERAGE PRICE?=3R/3/2\u001b[37m------------------------------------------\n",
            "+----+---------+\n",
            "|YEAR|  AVERAGE|\n",
            "+----+---------+\n",
            "|2017|280317.58|\n",
            "|2016| 293965.1|\n",
            "|2015|297609.97|\n",
            "|2014|298264.72|\n",
            "|2013|303676.79|\n",
            "+----+---------+\n",
            "only showing top 5 rows\n",
            "\n",
            "\u001b[37m2023-09-05 22:36:43.293848\u001b[33m STEP 05 = Spark operation - Query executed successfully\u001b[37m------------------------------\n",
            "\u001b[37m2023-09-05 22:36:43.297598\u001b[33m STEP 05 - DONE\u001b[37m-----------------------------------------------------------------------\n",
            "\u001b[37m2023-09-05 22:36:43.298825\u001b[33m STEP 05 - ELAPSED TIME: 0:00:00.947555 seconds\u001b[37m---------------------------------------\n"
          ]
        }
      ],
      "source": [
        "#\n",
        "# Step 05 - What is the average price of a home for each year built that have 3 bedrooms, 3 bathrooms, with two floors,\n",
        "# and are greater than or equal to 2,000 square feet rounded to two decimal places?\n",
        "#\n",
        "\n",
        "start_time         = datetime.datetime.now()\n",
        "logStep(\"05 - WHAT IS THE AVERAGE PRICE?=3R/3/2\")\n",
        "\n",
        "try:\n",
        "  spark.sql(\"SELECT date_built          AS YEAR, \\\n",
        "                    ROUND(AVG(price),2) AS AVERAGE \\\n",
        "               FROM home_sales \\\n",
        "              WHERE bedrooms    == 3 AND \\\n",
        "                    bathrooms   == 3 AND \\\n",
        "                    floors      == 2 AND \\\n",
        "                    sqft_living >= 2000 \\\n",
        "           GROUP BY date_built \\\n",
        "           ORDER BY date_built DESC\").show(5)\n",
        "except Exception as e:\n",
        "  LogStep(F\"Exception: {e}\")\n",
        "  sys.exit(1)\n",
        "else:\n",
        "  logStep(\"05 = Spark operation - Query executed successfully\")\n",
        "\n",
        "\n",
        "end_time           = datetime.datetime.now()\n",
        "logStep(\"05 - DONE\")\n",
        "step05_elapsed_time = end_time - start_time\n",
        "logStep(F\"05 - ELAPSED TIME: {step05_elapsed_time} seconds\")\n"
      ]
    },
    {
      "cell_type": "markdown",
      "metadata": {
        "id": "mkWhkkBud6Yr"
      },
      "source": [
        "Step 06 - What is the \"view\" rating for the average price of a home, rounded to two decimal places, where the homes are greater than or equal to $350,000? Although this is a small dataset, determine the run time for this query."
      ]
    },
    {
      "cell_type": "code",
      "execution_count": 13,
      "metadata": {
        "colab": {
          "base_uri": "https://localhost:8080/"
        },
        "id": "GUrfgOX1pCRd",
        "outputId": "0e9cab5f-9f89-4b58-aa76-dc268ad003f3"
      },
      "outputs": [
        {
          "output_type": "stream",
          "name": "stdout",
          "text": [
            "\u001b[37m2023-09-05 22:36:46.217178\u001b[33m STEP 06 - WHAT IS THE AVERAGE PRICE?=300K\u001b[37m--------------------------------------------\n",
            "+----+----------+\n",
            "|VIEW|   AVERAGE|\n",
            "+----+----------+\n",
            "|  99|1061201.42|\n",
            "|  98|1053739.33|\n",
            "|  97|1129040.15|\n",
            "|  96|1017815.92|\n",
            "|  95| 1054325.6|\n",
            "+----+----------+\n",
            "only showing top 5 rows\n",
            "\n",
            "\u001b[37m2023-09-05 22:36:47.345257\u001b[33m STEP 06 - Spark operation - Query executed successfully\u001b[37m------------------------------\n",
            "\u001b[37m2023-09-05 22:36:47.348507\u001b[33m STEP 06 - DONE\u001b[37m-----------------------------------------------------------------------\n",
            "\u001b[37m2023-09-05 22:36:47.349767\u001b[33m STEP 06 - ELAPSED TIME: 0:00:01.131316 seconds\u001b[37m---------------------------------------\n"
          ]
        }
      ],
      "source": [
        "#\n",
        "# Ste 06 - What is the \"view\" rating for the average price of a home, rounded to two decimal places, where the homes are greater than or equal to $350,000? Although this is a small dataset, determine the run time for this query.\n",
        "#\n",
        "\n",
        "start_time         = datetime.datetime.now()\n",
        "logStep(\"06 - WHAT IS THE AVERAGE PRICE?=300K\")\n",
        "\n",
        "try:\n",
        "  spark.sql(\"SELECT view                AS VIEW, \\\n",
        "                    ROUND(AVG(price),2) AS AVERAGE \\\n",
        "               FROM home_sales \\\n",
        "           GROUP BY view \\\n",
        "             HAVING ROUND(AVG(price),2) >= 350000 \\\n",
        "           ORDER BY view DESC\").show(5)\n",
        "except Exception as e:\n",
        "  logStep(F\"Exception: {e}\")\n",
        "  sys.exit(1)\n",
        "else:\n",
        "  logStep(\"06 - Spark operation - Query executed successfully\")\n",
        "\n",
        "end_time           = datetime.datetime.now()\n",
        "logStep(\"06 - DONE\")\n",
        "step06_elapsed_time = end_time - start_time\n",
        "logStep(F\"06 - ELAPSED TIME: {step06_elapsed_time} seconds\")\n"
      ]
    },
    {
      "cell_type": "markdown",
      "metadata": {
        "id": "O--pkcmAd6Yr"
      },
      "source": [
        "Step 07 - Cache the the temporary table home_sales."
      ]
    },
    {
      "cell_type": "code",
      "execution_count": 14,
      "metadata": {
        "colab": {
          "base_uri": "https://localhost:8080/"
        },
        "id": "KAhk3ZD2tFy8",
        "outputId": "f75656eb-31f5-4dd0-c5fc-dd7561893643"
      },
      "outputs": [
        {
          "output_type": "stream",
          "name": "stdout",
          "text": [
            "\u001b[37m2023-09-05 22:36:51.692801\u001b[33m STEP 07 - CACHE HOME DATA\u001b[37m------------------------------------------------------------\n",
            "\u001b[37m2023-09-05 22:36:53.430359\u001b[33m STEP 07 - Spark operation - Cache executed successfully\u001b[37m------------------------------\n",
            "\u001b[37m2023-09-05 22:36:53.433387\u001b[33m STEP 07 - DONE\u001b[37m-----------------------------------------------------------------------\n",
            "\u001b[37m2023-09-05 22:36:53.435419\u001b[33m STEP 07 - ELAPSED TIME: 0:00:01.740567 seconds\u001b[37m---------------------------------------\n"
          ]
        }
      ],
      "source": [
        "#\n",
        "# Step 07 - Cache the the temporary table home_sales.\n",
        "#\n",
        "\n",
        "start_time         = datetime.datetime.now()\n",
        "logStep(\"07 - CACHE HOME DATA\")\n",
        "\n",
        "try:\n",
        "  spark.sql(\"cache table home_sales\")\n",
        "except Exception as e:\n",
        "    logStep(F\"Exception: {e}\")\n",
        "    sys.exit(1)\n",
        "else:\n",
        "    logStep(\"07 - Spark operation - Cache executed successfully\")\n",
        "\n",
        "\n",
        "end_time           = datetime.datetime.now()\n",
        "logStep(\"07 - DONE\")\n",
        "step07_elapsed_time = end_time - start_time\n",
        "logStep(F\"07 - ELAPSED TIME: {step07_elapsed_time} seconds\")"
      ]
    },
    {
      "cell_type": "markdown",
      "metadata": {
        "id": "7aOaAJ8Dd6Ys"
      },
      "source": [
        "Step 08 - Check if the table is cached."
      ]
    },
    {
      "cell_type": "code",
      "execution_count": 15,
      "metadata": {
        "colab": {
          "base_uri": "https://localhost:8080/"
        },
        "id": "4opVhbvxtL-i",
        "outputId": "0ce27e93-a651-46a2-d93f-6594efb65356"
      },
      "outputs": [
        {
          "output_type": "stream",
          "name": "stdout",
          "text": [
            "\u001b[37m2023-09-05 22:36:56.376028\u001b[33m STEP 08 - IS THE DATA CACHED?\u001b[37m--------------------------------------------------------\n",
            "\u001b[37m2023-09-05 22:36:56.409225\u001b[33m STEP 08 - home_sales is cached\u001b[37m-------------------------------------------------------\n",
            "\u001b[37m2023-09-05 22:36:56.412834\u001b[33m STEP 08 - Spark operation - Cache check executed successfully\u001b[37m------------------------\n",
            "\u001b[37m2023-09-05 22:36:56.414250\u001b[33m STEP 08 - DONE\u001b[37m-----------------------------------------------------------------------\n",
            "\u001b[37m2023-09-05 22:36:56.417342\u001b[33m STEP 08 - ELAPSED TIME: 0:00:00.038201 seconds\u001b[37m---------------------------------------\n"
          ]
        }
      ],
      "source": [
        "#\n",
        "# Step 08 - Check if the table is cached.\n",
        "#\n",
        "\n",
        "start_time         = datetime.datetime.now()\n",
        "logStep(\"08 - IS THE DATA CACHED?\")\n",
        "\n",
        "try:\n",
        "  if (spark.catalog.isCached('home_sales') == False):\n",
        "    logStep(\"08 - home_sales is not cached\")\n",
        "  else:\n",
        "    logStep(\"08 - home_sales is cached\")\n",
        "except Exception as e:\n",
        "    logStep(F\"Exception: {e}\")\n",
        "    sys.exit(1)\n",
        "else:\n",
        "    logStep(\"08 - Spark operation - Cache check executed successfully\")\n",
        "\n",
        "end_time           = datetime.datetime.now()\n",
        "logStep(\"08 - DONE\")\n",
        "step08_elapsed_time = end_time - start_time\n",
        "logStep(F\"08 - ELAPSED TIME: {step08_elapsed_time} seconds\")"
      ]
    },
    {
      "cell_type": "markdown",
      "metadata": {
        "id": "JfxFJOhqd6Ys"
      },
      "source": [
        "Step 09 - Using the cached data, run the query that filters out the view ratings with average price greater than or equal to $350,000. Determine the runtime and compare it to uncached runtime."
      ]
    },
    {
      "cell_type": "code",
      "execution_count": 16,
      "metadata": {
        "colab": {
          "base_uri": "https://localhost:8080/"
        },
        "id": "5GnL46lwTSEk",
        "outputId": "b92a5085-a48a-4b20-9067-f75e67840413"
      },
      "outputs": [
        {
          "output_type": "stream",
          "name": "stdout",
          "text": [
            "\u001b[37m2023-09-05 22:37:00.187264\u001b[33m STEP 09 - REPEAT QUERY\u001b[37m---------------------------------------------------------------\n",
            "+----+----------+\n",
            "|VIEW|   AVERAGE|\n",
            "+----+----------+\n",
            "|  99|1061201.42|\n",
            "|  98|1053739.33|\n",
            "|  97|1129040.15|\n",
            "|  96|1017815.92|\n",
            "|  95| 1054325.6|\n",
            "+----+----------+\n",
            "only showing top 5 rows\n",
            "\n",
            "\u001b[37m2023-09-05 22:37:01.141111\u001b[33m STEP 09 - Spark operation - Query executed successfully\u001b[37m------------------------------\n",
            "\u001b[37m2023-09-05 22:37:01.144391\u001b[33m STEP 09 - DONE\u001b[37m-----------------------------------------------------------------------\n",
            "\u001b[37m2023-09-05 22:37:01.145736\u001b[33m STEP 09 - ELAPSED TIME: 0:00:00.957106 seconds\u001b[37m---------------------------------------\n"
          ]
        }
      ],
      "source": [
        "#\n",
        "# Step 09 - Using the cached data, run the query that filters out the view ratings with average price greater than or equal to $350,000. Determine the runtime and compare it to uncached runtime.\n",
        "#\n",
        "\n",
        "start_time         = datetime.datetime.now()\n",
        "logStep(\"09 - REPEAT QUERY\")\n",
        "\n",
        "try:\n",
        "  spark.sql(\"SELECT view                AS VIEW, \\\n",
        "                    ROUND(AVG(price),2) AS AVERAGE \\\n",
        "               FROM home_sales \\\n",
        "           GROUP BY view \\\n",
        "             HAVING ROUND(AVG(price),2) >= 350000 \\\n",
        "           ORDER BY view DESC\").show(5)\n",
        "except Exception as e:\n",
        "  logStep(F\"Exception: {e}\")\n",
        "  sys.exit(1)\n",
        "else:\n",
        "  logStep(\"09 - Spark operation - Query executed successfully\")\n",
        "\n",
        "end_time           = datetime.datetime.now()\n",
        "logStep(\"09 - DONE\")\n",
        "step09_elapsed_time = end_time - start_time\n",
        "logStep(F\"09 - ELAPSED TIME: {step09_elapsed_time} seconds\")\n"
      ]
    },
    {
      "cell_type": "markdown",
      "metadata": {
        "id": "IP3XJmHgd6Yt"
      },
      "source": [
        "Step 10 - Determine the runtime and compare to the original runtime"
      ]
    },
    {
      "cell_type": "code",
      "execution_count": 17,
      "metadata": {
        "colab": {
          "base_uri": "https://localhost:8080/"
        },
        "id": "GAYsuFaZuCmw",
        "outputId": "5c23be62-4237-4f32-8ba7-de16b3cc18ab"
      },
      "outputs": [
        {
          "output_type": "stream",
          "name": "stdout",
          "text": [
            "\u001b[37m2023-09-05 22:37:03.964999\u001b[33m STEP 10 - RUNTIME DIFFERENCE\u001b[37m---------------------------------------------------------\n",
            "\u001b[37m2023-09-05 22:37:03.971376\u001b[33m STEP 10 - Time required for a non-cached Query: 0:00:01.131316\u001b[37m-----------------------\n",
            "\u001b[37m2023-09-05 22:37:03.973660\u001b[33m STEP 10 - Time required for a cached Query    : 0:00:00.957106\u001b[37m-----------------------\n",
            "\u001b[37m2023-09-05 22:37:03.977854\u001b[33m STEP 10 - Time difference                     : 0:00:00.174210\u001b[37m-----------------------\n",
            "\u001b[37m2023-09-05 22:37:03.981258\u001b[33m STEP 10 - DONE\u001b[37m-----------------------------------------------------------------------\n",
            "\u001b[37m2023-09-05 22:37:03.982480\u001b[33m STEP 10 - ELAPSED TIME: 0:00:00.016276 seconds\u001b[37m---------------------------------------\n"
          ]
        }
      ],
      "source": [
        "#\n",
        "# Step 10 Determine the runtime and compare to the original runtime\n",
        "#\n",
        "\n",
        "start_time         = datetime.datetime.now()\n",
        "logStep(\"10 - RUNTIME DIFFERENCE\")\n",
        "\n",
        "time_difference = step06_elapsed_time - step09_elapsed_time\n",
        "logStep(F\"10 - Time required for a non-cached Query: {step06_elapsed_time}\")\n",
        "logStep(F\"10 - Time required for a cached Query    : {step09_elapsed_time}\")\n",
        "logStep(F\"10 - Time difference                     : {time_difference}\")\n",
        "\n",
        "\n",
        "end_time           = datetime.datetime.now()\n",
        "logStep(\"10 - DONE\")\n",
        "step10_elapsed_time = end_time - start_time\n",
        "logStep(F\"10 - ELAPSED TIME: {step10_elapsed_time} seconds\")"
      ]
    },
    {
      "cell_type": "markdown",
      "metadata": {
        "id": "8ZWQE2r_d6Yt"
      },
      "source": [
        "Step 11 - Partition by the \"date_built\" field on the formatted parquet home sales data"
      ]
    },
    {
      "cell_type": "code",
      "execution_count": 18,
      "metadata": {
        "id": "Qm12WN9isHBR",
        "colab": {
          "base_uri": "https://localhost:8080/"
        },
        "outputId": "70f1b661-1524-42c0-d39c-e81ee95c2c20"
      },
      "outputs": [
        {
          "output_type": "stream",
          "name": "stdout",
          "text": [
            "\u001b[37m2023-09-05 22:37:18.149520\u001b[33m STEP 11 - FORMATTED PARQUET\u001b[37m----------------------------------------------------------\n",
            "+--------------------+----------+----------+------+--------+---------+-----------+--------+------+----------+----+\n",
            "|                  id|      date|date_built| price|bedrooms|bathrooms|sqft_living|sqft_lot|floors|waterfront|view|\n",
            "+--------------------+----------+----------+------+--------+---------+-----------+--------+------+----------+----+\n",
            "|f8a53099-ba1c-47d...|2022-04-08|      2016|936923|       4|        3|       3167|   11733|     2|         1|  76|\n",
            "|7530a2d8-1ae3-451...|2021-06-13|      2013|379628|       2|        2|       2235|   14384|     1|         0|  23|\n",
            "|43de979c-0bf0-4c9...|2019-04-12|      2014|417866|       2|        2|       2127|   10575|     2|         0|   0|\n",
            "|b672c137-b88c-48b...|2019-10-16|      2016|239895|       2|        2|       1631|   11149|     2|         0|   0|\n",
            "|e0726d4d-d595-407...|2022-01-08|      2017|424418|       3|        2|       2249|   13878|     2|         0|   4|\n",
            "+--------------------+----------+----------+------+--------+---------+-----------+--------+------+----------+----+\n",
            "only showing top 5 rows\n",
            "\n",
            "\u001b[37m2023-09-05 22:37:21.669071\u001b[33m STEP 11 - Spark operation - Parquet file created successfully.\u001b[37m-----------------------\n",
            "\u001b[37m2023-09-05 22:37:21.671948\u001b[33m STEP 11 - DONE\u001b[37m-----------------------------------------------------------------------\n",
            "\u001b[37m2023-09-05 22:37:21.685083\u001b[33m STEP 11 - ELAPSED TIME: 0:00:03.522394 seconds\u001b[37m---------------------------------------\n"
          ]
        }
      ],
      "source": [
        "#\n",
        "# Step 11 - Partition by the \"date_built\" field on the formatted parquet home sales data\n",
        "#\n",
        "\n",
        "start_time         = datetime.datetime.now()\n",
        "logStep(\"11 - FORMATTED PARQUET\")\n",
        "\n",
        "try:\n",
        "  home_df.write.parquet('home_parquet', mode='overwrite',partitionBy='date_built')\n",
        "  home_df.show(5)\n",
        "except Exception as e:\n",
        "  logStep(F\"Exception: {e}\")\n",
        "  sys.exit(1)\n",
        "else:\n",
        "  logStep(\"11 - Spark operation - Parquet file created successfully.\")\n",
        "\n",
        "end_time           = datetime.datetime.now()\n",
        "logStep(\"11 - DONE\")\n",
        "step11_elapsed_time = end_time - start_time\n",
        "logStep(F\"11 - ELAPSED TIME: {step11_elapsed_time} seconds\")"
      ]
    },
    {
      "cell_type": "markdown",
      "metadata": {
        "id": "y6RVDCk0d6Yt"
      },
      "source": [
        "Step 12 - Read the parquet formatted data."
      ]
    },
    {
      "cell_type": "code",
      "execution_count": 19,
      "metadata": {
        "id": "AZ7BgY61sRqY",
        "colab": {
          "base_uri": "https://localhost:8080/"
        },
        "outputId": "ba904256-a6fb-48f3-eba0-3995b3483efd"
      },
      "outputs": [
        {
          "output_type": "stream",
          "name": "stdout",
          "text": [
            "\u001b[37m2023-09-05 22:37:24.435999\u001b[33m STEP 12 - READ PARQUET\u001b[37m---------------------------------------------------------------\n",
            "+--------------------+----------+------+--------+---------+-----------+--------+------+----------+----+----------+\n",
            "|                  id|      date| price|bedrooms|bathrooms|sqft_living|sqft_lot|floors|waterfront|view|date_built|\n",
            "+--------------------+----------+------+--------+---------+-----------+--------+------+----------+----+----------+\n",
            "|2ed8d509-7372-46d...|2021-08-06|258710|       3|        3|       1918|    9666|     1|         0|  25|      2015|\n",
            "|941bad30-eb49-4a7...|2020-05-09|229896|       3|        3|       2197|    8641|     1|         0|   3|      2015|\n",
            "|c797ca12-52cd-4b1...|2019-06-08|288650|       2|        3|       2100|   10419|     2|         0|   7|      2015|\n",
            "|0cfe57f3-28c2-472...|2019-10-04|308313|       3|        3|       1960|    9453|     2|         0|   2|      2015|\n",
            "|d715f295-2fbf-4e9...|2021-05-17|391574|       3|        2|       1635|    8040|     2|         0|  10|      2015|\n",
            "+--------------------+----------+------+--------+---------+-----------+--------+------+----------+----+----------+\n",
            "only showing top 5 rows\n",
            "\n",
            "\u001b[37m2023-09-05 22:37:25.187130\u001b[33m STEP 12 - Spark operation - Parquet file read successfully\u001b[37m---------------------------\n",
            "\u001b[37m2023-09-05 22:37:25.193416\u001b[33m STEP 12 - DONE\u001b[37m-----------------------------------------------------------------------\n",
            "\u001b[37m2023-09-05 22:37:25.197801\u001b[33m STEP 12 - ELAPSED TIME: 0:00:00.757413 seconds\u001b[37m---------------------------------------\n"
          ]
        }
      ],
      "source": [
        "#\n",
        "# Step 12 - Read the parquet formatted data.\n",
        "#\n",
        "\n",
        "start_time         = datetime.datetime.now()\n",
        "logStep(\"12 - READ PARQUET\")\n",
        "\n",
        "try:\n",
        "  parquet_home_df = spark.read.parquet('home_parquet')\n",
        "  parquet_home_df.show(5)\n",
        "except Exception as e:\n",
        "  logStep(Fore.RED + F\"Exception: {e}\")\n",
        "  sys.exit(1)\n",
        "else:\n",
        "  logStep(\"12 - Spark operation - Parquet file read successfully\")\n",
        "\n",
        "end_time           = datetime.datetime.now()\n",
        "logStep(\"12 - DONE\")\n",
        "step12_elapsed_time = end_time - start_time\n",
        "logStep(F\"12 - ELAPSED TIME: {step12_elapsed_time} seconds\")"
      ]
    },
    {
      "cell_type": "markdown",
      "metadata": {
        "id": "xwgUy1Qfd6Yu"
      },
      "source": [
        "Step 13 - Create a temporary table for the parquet data."
      ]
    },
    {
      "cell_type": "code",
      "execution_count": 20,
      "metadata": {
        "id": "J6MJkHfvVcvh",
        "colab": {
          "base_uri": "https://localhost:8080/"
        },
        "outputId": "77168da0-27c5-45af-c33c-78c42b99c99c"
      },
      "outputs": [
        {
          "output_type": "stream",
          "name": "stdout",
          "text": [
            "\u001b[37m2023-09-05 22:37:28.183355\u001b[33m STEP 13 - CREATE PARQUET VIEW\u001b[37m--------------------------------------------------------\n",
            "+--------------------+----------+------+--------+---------+-----------+--------+------+----------+----+----------+\n",
            "|                  id|      date| price|bedrooms|bathrooms|sqft_living|sqft_lot|floors|waterfront|view|date_built|\n",
            "+--------------------+----------+------+--------+---------+-----------+--------+------+----------+----+----------+\n",
            "|2ed8d509-7372-46d...|2021-08-06|258710|       3|        3|       1918|    9666|     1|         0|  25|      2015|\n",
            "|941bad30-eb49-4a7...|2020-05-09|229896|       3|        3|       2197|    8641|     1|         0|   3|      2015|\n",
            "|c797ca12-52cd-4b1...|2019-06-08|288650|       2|        3|       2100|   10419|     2|         0|   7|      2015|\n",
            "|0cfe57f3-28c2-472...|2019-10-04|308313|       3|        3|       1960|    9453|     2|         0|   2|      2015|\n",
            "|d715f295-2fbf-4e9...|2021-05-17|391574|       3|        2|       1635|    8040|     2|         0|  10|      2015|\n",
            "+--------------------+----------+------+--------+---------+-----------+--------+------+----------+----+----------+\n",
            "only showing top 5 rows\n",
            "\n",
            "\u001b[37m2023-09-05 22:37:28.426489\u001b[33m STEP 13 - Spark operation - Parquet view created successfully\u001b[37m------------------------\n",
            "\u001b[37m2023-09-05 22:37:28.429771\u001b[33m STEP 13 - DONE\u001b[37m-----------------------------------------------------------------------\n",
            "\u001b[37m2023-09-05 22:37:28.431881\u001b[33m STEP 13 - ELAPSED TIME: 0:00:00.246398 seconds\u001b[37m---------------------------------------\n"
          ]
        }
      ],
      "source": [
        "#\n",
        "# Step 13 - Create a temporary table for the parquet data.\n",
        "#\n",
        "\n",
        "start_time         = datetime.datetime.now()\n",
        "logStep(\"13 - CREATE PARQUET VIEW\")\n",
        "\n",
        "try:\n",
        "  parquet_home_df.createOrReplaceTempView('parquet_temp_home')\n",
        "  parquet_home_df.show(5)\n",
        "except Exception as e:\n",
        "  print(Fore.RED + F\"Exception: {e}\")\n",
        "  sys.exit(1)\n",
        "else:\n",
        "  logStep(\"13 - Spark operation - Parquet view created successfully\")\n",
        "\n",
        "end_time           = datetime.datetime.now()\n",
        "logStep(\"13 - DONE\")\n",
        "step13_elapsed_time = end_time - start_time\n",
        "logStep(F\"13 - ELAPSED TIME: {step13_elapsed_time} seconds\")"
      ]
    },
    {
      "cell_type": "markdown",
      "metadata": {
        "id": "5P6NJJacd6Yu"
      },
      "source": [
        "Step 14 - Run the query that filters out the view ratings with average price of greater than or equal to $350,000 with the parquet DataFrame. Round your average to two decimal places"
      ]
    },
    {
      "cell_type": "code",
      "execution_count": 21,
      "metadata": {
        "colab": {
          "base_uri": "https://localhost:8080/"
        },
        "id": "G_Vhb52rU1Sn",
        "outputId": "809c20d6-b400-4ec7-8f9c-dc4ae999bf4f"
      },
      "outputs": [
        {
          "output_type": "stream",
          "name": "stdout",
          "text": [
            "\u001b[37m2023-09-05 22:37:33.089387\u001b[33m STEP 14 - REPEAT QUERY\u001b[37m---------------------------------------------------------------\n",
            "+----+----------+\n",
            "|VIEW|   AVERAGE|\n",
            "+----+----------+\n",
            "|  99|1061201.42|\n",
            "|  98|1053739.33|\n",
            "|  97|1129040.15|\n",
            "|  96|1017815.92|\n",
            "|  95| 1054325.6|\n",
            "+----+----------+\n",
            "only showing top 5 rows\n",
            "\n",
            "\u001b[37m2023-09-05 22:37:34.004986\u001b[33m STEP 14 - Spark operation - Parquet query executed successfully.\u001b[37m---------------------\n",
            "\u001b[37m2023-09-05 22:37:34.011370\u001b[33m STEP 14 - DONE\u001b[37m-----------------------------------------------------------------------\n",
            "\u001b[37m2023-09-05 22:37:34.013122\u001b[33m STEP 14 - ELAPSED TIME: 0:00:00.921964 seconds\u001b[37m---------------------------------------\n"
          ]
        }
      ],
      "source": [
        "#\n",
        "# Step 14 - Run the query that filters out the view ratings with average price of greater than or equal to $350,000 with the parquet DataFrame. Round your average to two decimal places.\n",
        "#\n",
        "\n",
        "start_time         = datetime.datetime.now()\n",
        "logStep(\"14 - REPEAT QUERY\")\n",
        "\n",
        "try:\n",
        "  spark.sql(\"SELECT view                AS VIEW, \\\n",
        "                    ROUND(AVG(price),2) AS AVERAGE \\\n",
        "               FROM parquet_temp_home \\\n",
        "           GROUP BY view \\\n",
        "             HAVING ROUND(AVG(price),2) >= 350000 \\\n",
        "           ORDER BY view DESC\").show(5)\n",
        "except Exception as e:\n",
        "  logStep(Fore.RED + F\"Exception: {e}\")\n",
        "  sys.exit(1)\n",
        "else:\n",
        "  logStep(\"14 - Spark operation - Parquet query executed successfully.\")\n",
        "\n",
        "end_time           = datetime.datetime.now()\n",
        "logStep(\"14 - DONE\")\n",
        "step14_elapsed_time = end_time - start_time\n",
        "logStep(F\"14 - ELAPSED TIME: {step14_elapsed_time} seconds\")"
      ]
    },
    {
      "cell_type": "markdown",
      "metadata": {
        "id": "GKzo6jebd6Yu"
      },
      "source": [
        "Step 15 Determine the runtime and compare to the original runtime"
      ]
    },
    {
      "cell_type": "code",
      "execution_count": 22,
      "metadata": {
        "colab": {
          "base_uri": "https://localhost:8080/"
        },
        "id": "oEkIu5yYuWlW",
        "outputId": "81e154e5-3ed4-4d2f-d605-108fcebc21ba"
      },
      "outputs": [
        {
          "output_type": "stream",
          "name": "stdout",
          "text": [
            "\u001b[37m2023-09-05 22:37:37.018650\u001b[33m STEP 15 - RUNTIME DIFFERENCE\u001b[37m---------------------------------------------------------\n",
            "\u001b[37m2023-09-05 22:37:37.020596\u001b[33m STEP 15 - Time required for a non-cached Query    : 0:00:01.131316\u001b[37m-------------------\n",
            "\u001b[37m2023-09-05 22:37:37.021855\u001b[33m STEP 15 - Time required for a parquet cached Query: 0:00:00.921964\u001b[37m-------------------\n",
            "\u001b[37m2023-09-05 22:37:37.022783\u001b[33m STEP 15 - Time difference                         : 0:00:00.209352\u001b[37m-------------------\n",
            "\u001b[37m2023-09-05 22:37:37.026816\u001b[33m STEP 15 - DONE\u001b[37m-----------------------------------------------------------------------\n",
            "\u001b[37m2023-09-05 22:37:37.028005\u001b[33m STEP 15 - ELAPSED TIME: 0:00:00.009268 seconds\u001b[37m---------------------------------------\n"
          ]
        }
      ],
      "source": [
        "#\n",
        "# Step 15 - Determine the runtime and compare it to the cached version.\n",
        "#\n",
        "\n",
        "start_time          = datetime.datetime.now()\n",
        "logStep(\"15 - RUNTIME DIFFERENCE\")\n",
        "\n",
        "time_difference     = step06_elapsed_time - step14_elapsed_time\n",
        "logStep(F\"15 - Time required for a non-cached Query    : {step06_elapsed_time}\")\n",
        "logStep(F\"15 - Time required for a parquet cached Query: {step14_elapsed_time}\")\n",
        "logStep(F\"15 - Time difference                         : {time_difference}\")\n",
        "logStep(\"15 - DONE\")\n",
        "end_time            = datetime.datetime.now()\n",
        "step15_elapsed_time = end_time - start_time\n",
        "logStep(F\"15 - ELAPSED TIME: {step15_elapsed_time} seconds\")"
      ]
    },
    {
      "cell_type": "markdown",
      "metadata": {
        "id": "9kiDgFkzd6Yv"
      },
      "source": [
        "Step 16 - Un-cache the home_sales temporary table."
      ]
    },
    {
      "cell_type": "code",
      "execution_count": 23,
      "metadata": {
        "colab": {
          "base_uri": "https://localhost:8080/"
        },
        "id": "hjjYzQGjtbq8",
        "outputId": "29846a12-dda5-4917-c69a-a873bcf2ffde"
      },
      "outputs": [
        {
          "output_type": "stream",
          "name": "stdout",
          "text": [
            "\u001b[37m2023-09-05 22:37:43.143063\u001b[33m STEP 16 - UNCACHE\u001b[37m--------------------------------------------------------------------\n",
            "\u001b[37m2023-09-05 22:37:43.212787\u001b[33m STEP 16 - Spark operation - Uncache executed successfully\u001b[37m----------------------------\n",
            "\u001b[37m2023-09-05 22:37:43.215839\u001b[33m STEP 16 - DONE\u001b[37m-----------------------------------------------------------------------\n",
            "\u001b[37m2023-09-05 22:37:43.217274\u001b[33m STEP 16 - ELAPSED TIME: 0:00:00.072774 seconds\u001b[37m---------------------------------------\n"
          ]
        }
      ],
      "source": [
        "#\n",
        "# Step 16 - Un-cache the home_sales temporary table.\n",
        "#\n",
        "\n",
        "start_time         = datetime.datetime.now()\n",
        "logStep(\"16 - UNCACHE\")\n",
        "\n",
        "try:\n",
        "  spark.sql(\"uncache table home_sales\")\n",
        "except Exception as e:\n",
        "  logStep(Fore.RED + F\"Exception: {e}\")\n",
        "  sys.exit(1)\n",
        "else:\n",
        "  logStep(\"16 - Spark operation - Uncache executed successfully\")\n",
        "\n",
        "end_time           = datetime.datetime.now()\n",
        "logStep(\"16 - DONE\")\n",
        "step16_elapsed_time = end_time - start_time\n",
        "logStep(F\"16 - ELAPSED TIME: {step16_elapsed_time} seconds\")"
      ]
    },
    {
      "cell_type": "markdown",
      "metadata": {
        "id": "pNA_qHJsd6Yv"
      },
      "source": [
        "Step 17 - Check if the home_sales is no longer cached"
      ]
    },
    {
      "cell_type": "code",
      "execution_count": 24,
      "metadata": {
        "colab": {
          "base_uri": "https://localhost:8080/"
        },
        "id": "Sy9NBvO7tlmm",
        "outputId": "60cbfb44-5560-459d-b8ec-f1a18574f36e"
      },
      "outputs": [
        {
          "output_type": "stream",
          "name": "stdout",
          "text": [
            "\u001b[37m2023-09-05 22:37:46.143506\u001b[33m STEP 17 - CACHE CHECK\u001b[37m----------------------------------------------------------------\n",
            "\u001b[37m2023-09-05 22:37:46.168541\u001b[33m STEP 17 - home_sales is not cached\u001b[37m---------------------------------------------------\n",
            "\u001b[37m2023-09-05 22:37:46.171386\u001b[33m STEP 17 - Spark operation - Cache check executed successfully\u001b[37m------------------------\n",
            "\u001b[37m2023-09-05 22:37:46.173951\u001b[33m STEP 17 - DONE\u001b[37m-----------------------------------------------------------------------\n",
            "\u001b[37m2023-09-05 22:37:46.178255\u001b[33m STEP 17 - ELAPSED TIME: 0:00:00.030405 seconds\u001b[37m---------------------------------------\n"
          ]
        }
      ],
      "source": [
        "#\n",
        "# Step 17 - Check if the home_sales is no longer cached\n",
        "#\n",
        "start_time         = datetime.datetime.now()\n",
        "logStep(\"17 - CACHE CHECK\")\n",
        "\n",
        "try:\n",
        "  if (spark.catalog.isCached('home_sales') == False):\n",
        "      logStep(\"17 - home_sales is not cached\")\n",
        "  else:\n",
        "      logStep(\"17 - home_sales is cached\")\n",
        "except Exception as e:\n",
        "  logStep(F\"Exception: {e}\")\n",
        "  sys.exit(1)\n",
        "else:\n",
        "  logStep(\"17 - Spark operation - Cache check executed successfully\")\n",
        "\n",
        "end_time           = datetime.datetime.now()\n",
        "logStep(\"17 - DONE\")\n",
        "step17_elapsed_time = end_time - start_time\n",
        "logStep(F\"17 - ELAPSED TIME: {step17_elapsed_time} seconds\")\n"
      ]
    },
    {
      "cell_type": "code",
      "execution_count": 25,
      "metadata": {
        "colab": {
          "base_uri": "https://localhost:8080/"
        },
        "id": "bvi6AKd8d6Yv",
        "outputId": "b129fbf6-448a-4a4c-e57e-7f751903edbd"
      },
      "outputs": [
        {
          "output_type": "stream",
          "name": "stdout",
          "text": [
            "\u001b[37m2023-09-05 22:37:48.913646\u001b[33m STEP TOTAL RUN TIME\u001b[37m------------------------------------------------------------------\n",
            "\u001b[37m2023-09-05 22:37:48.918435\u001b[33m STEP  0:   0:00:00.007572 seconds\u001b[37m----------------------------------------------------\n",
            "\u001b[37m2023-09-05 22:37:48.922817\u001b[33m STEP  1:   0:00:21.306308 seconds\u001b[37m----------------------------------------------------\n",
            "\u001b[37m2023-09-05 22:37:48.924933\u001b[33m STEP  2:   0:00:00.080088 seconds\u001b[37m----------------------------------------------------\n",
            "\u001b[37m2023-09-05 22:37:48.926929\u001b[33m STEP  3:   0:00:02.862640 seconds\u001b[37m----------------------------------------------------\n",
            "\u001b[37m2023-09-05 22:37:48.929196\u001b[33m STEP  4:   0:00:01.316172 seconds\u001b[37m----------------------------------------------------\n",
            "\u001b[37m2023-09-05 22:37:48.930775\u001b[33m STEP  5:   0:00:00.947555 seconds\u001b[37m----------------------------------------------------\n",
            "\u001b[37m2023-09-05 22:37:48.932907\u001b[33m STEP  6:   0:00:01.131316 seconds - non-cached query\u001b[37m---------------------------------\n",
            "\u001b[37m2023-09-05 22:37:48.934769\u001b[33m STEP  7:   0:00:01.740567 seconds\u001b[37m----------------------------------------------------\n",
            "\u001b[37m2023-09-05 22:37:48.935830\u001b[33m STEP  8:   0:00:00.038201 seconds\u001b[37m----------------------------------------------------\n",
            "\u001b[37m2023-09-05 22:37:48.937942\u001b[33m STEP  9:   0:00:00.957106 seconds - cached query\u001b[37m-------------------------------------\n",
            "\u001b[37m2023-09-05 22:37:48.939451\u001b[33m STEP 10:   0:00:00.016276 seconds\u001b[37m----------------------------------------------------\n",
            "\u001b[37m2023-09-05 22:37:48.940973\u001b[33m STEP 11:   0:00:03.522394 seconds\u001b[37m----------------------------------------------------\n",
            "\u001b[37m2023-09-05 22:37:48.942524\u001b[33m STEP 12:   0:00:00.757413 seconds\u001b[37m----------------------------------------------------\n",
            "\u001b[37m2023-09-05 22:37:48.943631\u001b[33m STEP 13:   0:00:00.246398 seconds\u001b[37m----------------------------------------------------\n",
            "\u001b[37m2023-09-05 22:37:48.945421\u001b[33m STEP 14:   0:00:00.921964 seconds - parquet cached query\u001b[37m-----------------------------\n",
            "\u001b[37m2023-09-05 22:37:48.946499\u001b[33m STEP 15:   0:00:00.009268 seconds\u001b[37m----------------------------------------------------\n",
            "\u001b[37m2023-09-05 22:37:48.947930\u001b[33m STEP 16:   0:00:00.072774 seconds\u001b[37m----------------------------------------------------\n",
            "\u001b[37m2023-09-05 22:37:48.949433\u001b[33m STEP 17:   0:00:00.030405 seconds\u001b[37m----------------------------------------------------\n",
            "\u001b[37m2023-09-05 22:37:48.950927\u001b[33m STEP TT:   0:00:35.964417 seconds\u001b[37m----------------------------------------------------\n",
            "\u001b[37m2023-09-05 22:37:48.952457\u001b[33m STEP 06 Cached Query Reduction  : 15.40%\u001b[37m---------------------------------------------\n",
            "\u001b[37m2023-09-05 22:37:48.954101\u001b[33m STEP 14 Parquet Query Reduction : 18.51%\u001b[37m---------------------------------------------\n",
            "\u001b[37m2023-09-05 22:37:48.955585\u001b[33m STEP END OF PROGRAM-\u001b[37m-----------------------------------------------------------------\n"
          ]
        }
      ],
      "source": [
        "logStep(\"TOTAL RUN TIME\")\n",
        "logStep(F\" 0:   {step00_elapsed_time} seconds\")\n",
        "logStep(F\" 1:   {step01_elapsed_time} seconds\")\n",
        "logStep(F\" 2:   {step02_elapsed_time} seconds\")\n",
        "logStep(F\" 3:   {step03_elapsed_time} seconds\")\n",
        "logStep(F\" 4:   {step04_elapsed_time} seconds\")\n",
        "logStep(F\" 5:   {step05_elapsed_time} seconds\")\n",
        "logStep(F\" 6:   {step06_elapsed_time} seconds - non-cached query\")\n",
        "logStep(F\" 7:   {step07_elapsed_time} seconds\")\n",
        "logStep(F\" 8:   {step08_elapsed_time} seconds\")\n",
        "logStep(F\" 9:   {step09_elapsed_time} seconds - cached query\")\n",
        "logStep(F\"10:   {step10_elapsed_time} seconds\")\n",
        "logStep(F\"11:   {step11_elapsed_time} seconds\")\n",
        "logStep(F\"12:   {step12_elapsed_time} seconds\")\n",
        "logStep(F\"13:   {step13_elapsed_time} seconds\")\n",
        "logStep(F\"14:   {step14_elapsed_time} seconds - parquet cached query\")\n",
        "logStep(F\"15:   {step15_elapsed_time} seconds\")\n",
        "logStep(F\"16:   {step16_elapsed_time} seconds\")\n",
        "logStep(F\"17:   {step17_elapsed_time} seconds\")\n",
        "logStep(F\"TT:   {step00_elapsed_time + step01_elapsed_time + step02_elapsed_time + step03_elapsed_time + step04_elapsed_time + step05_elapsed_time + step06_elapsed_time + step07_elapsed_time + step08_elapsed_time + step09_elapsed_time + step10_elapsed_time + step11_elapsed_time + step12_elapsed_time + step13_elapsed_time + step14_elapsed_time + step15_elapsed_time + step16_elapsed_time + step17_elapsed_time} seconds\")\n",
        "logStep(F'06 Cached Query Reduction  : {100-(step09_elapsed_time/step06_elapsed_time*100):.2f}%')\n",
        "logStep(F'14 Parquet Query Reduction : {100-(step14_elapsed_time/step06_elapsed_time*100):.2f}%')\n",
        "logStep(\"END OF PROGRAM-\")"
      ]
    }
  ],
  "metadata": {
    "colab": {
      "provenance": []
    },
    "gpuClass": "standard",
    "kernelspec": {
      "display_name": "Python 3 (ipykernel)",
      "language": "python",
      "name": "python3"
    },
    "language_info": {
      "codemirror_mode": {
        "name": "ipython",
        "version": 3
      },
      "file_extension": ".py",
      "mimetype": "text/x-python",
      "name": "python",
      "nbconvert_exporter": "python",
      "pygments_lexer": "ipython3",
      "version": "3.11.5"
    },
    "nteract": {
      "version": "0.28.0"
    }
  },
  "nbformat": 4,
  "nbformat_minor": 0
}