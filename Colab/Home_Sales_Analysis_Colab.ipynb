{
  "cells": [
    {
      "cell_type": "markdown",
      "metadata": {
        "id": "sZlWhOE3JZb4"
      },
      "source": [
        "# MODULE 22 - BIG DATA ANALYSIS WITH SPARK"
      ]
    },
    {
      "cell_type": "markdown",
      "metadata": {
        "id": "c1au99tFJZb6"
      },
      "source": [
        "Step 0 - Environment Setup\n"
      ]
    },
    {
      "cell_type": "code",
      "execution_count": 21,
      "metadata": {
        "colab": {
          "base_uri": "https://localhost:8080/"
        },
        "id": "Oa3EJlGgJZb7",
        "outputId": "44d0c49b-d29b-472a-9eb7-86c88fa8e72d"
      },
      "outputs": [
        {
          "output_type": "stream",
          "name": "stdout",
          "text": [
            "\r0% [Working]\r            \rHit:1 https://cloud.r-project.org/bin/linux/ubuntu jammy-cran40/ InRelease\n",
            "Hit:2 https://developer.download.nvidia.com/compute/cuda/repos/ubuntu2204/x86_64  InRelease\n",
            "Hit:3 http://security.ubuntu.com/ubuntu jammy-security InRelease\n",
            "Hit:4 http://archive.ubuntu.com/ubuntu jammy InRelease\n",
            "Hit:5 http://archive.ubuntu.com/ubuntu jammy-updates InRelease\n",
            "Hit:6 http://archive.ubuntu.com/ubuntu jammy-backports InRelease\n",
            "Hit:7 https://ppa.launchpadcontent.net/c2d4u.team/c2d4u4.0+/ubuntu jammy InRelease\n",
            "Hit:8 https://ppa.launchpadcontent.net/deadsnakes/ppa/ubuntu jammy InRelease\n",
            "Hit:9 https://ppa.launchpadcontent.net/graphics-drivers/ppa/ubuntu jammy InRelease\n",
            "Hit:10 https://ppa.launchpadcontent.net/ubuntugis/ppa/ubuntu jammy InRelease\n",
            "Reading package lists... Done\n",
            "Requirement already satisfied: colorama in /usr/local/lib/python3.10/dist-packages (0.4.6)\n"
          ]
        }
      ],
      "source": [
        "import sys\n",
        "import os\n",
        "# Find the latest version of spark 3.x  from http://www.apache.org/dist/spark/ and enter as the spark version\n",
        "# For example:\n",
        "# spark_version = 'spark-3.4.0'\n",
        "spark_version = 'spark-3.4.1'\n",
        "os.environ['SPARK_VERSION']=spark_version\n",
        "\n",
        "# Install Spark and Java\n",
        "!apt-get update\n",
        "!apt-get install openjdk-11-jdk-headless -qq > /dev/null\n",
        "!wget -q http://www.apache.org/dist/spark/$SPARK_VERSION/$SPARK_VERSION-bin-hadoop3.tgz\n",
        "!tar xf $SPARK_VERSION-bin-hadoop3.tgz\n",
        "!pip install -q findspark\n",
        "!pip install colorama\n",
        "\n",
        "# Set Environment Variables\n",
        "os.environ[\"JAVA_HOME\"] = \"/usr/lib/jvm/java-11-openjdk-amd64\"\n",
        "os.environ[\"SPARK_HOME\"] = f\"/content/{spark_version}-bin-hadoop3\""
      ]
    },
    {
      "cell_type": "code",
      "execution_count": 22,
      "metadata": {
        "colab": {
          "base_uri": "https://localhost:8080/"
        },
        "id": "a_KW73O2e3dw",
        "notebookRunGroups": {
          "groupValue": ""
        },
        "outputId": "d5c99faa-05de-4647-83b8-c7db6d88a24c"
      },
      "outputs": [
        {
          "output_type": "stream",
          "name": "stdout",
          "text": [
            "Requirement already satisfied: pyspark in /usr/local/lib/python3.10/dist-packages (3.4.1)\n",
            "Requirement already satisfied: py4j==0.10.9.7 in /usr/local/lib/python3.10/dist-packages (from pyspark) (0.10.9.7)\n",
            "\u001b[37m2023-09-04 22:46:59.549578 \u001b[33mSTEP 0 - ENVIRONMENT PREPARATION======================\u001b[37m\n",
            "\u001b[32m\n",
            "Copyright        : Copyright (c) 2001-2023 Python Software Foundation.\n",
            "All Rights Reserved.\n",
            "\n",
            "Copyright (c) 2000 BeOpen.com.\n",
            "All Rights Reserved.\n",
            "\n",
            "Copyright (c) 1995-2001 Corporation for National Research Initiatives.\n",
            "All Rights Reserved.\n",
            "\n",
            "Copyright (c) 1991-1995 Stichting Mathematisch Centrum, Amsterdam.\n",
            "All Rights Reserved.\n",
            "OS Platform      : linux\n",
            "OS Name          : posix\n",
            "OS HOME          : /root\n",
            "OS uName         : Linux\n",
            "OS NodeName      : 98e8a7515dda\n",
            "OS Release       : 5.15.109+\n",
            "OS Release Ver   : #1 SMP Fri Jun 9 10:57:30 UTC 2023\n",
            "OS Machine       : x86_64\n",
            "Process ID       : 3451\n",
            "Parent Process   : 79\n",
            "Current dir      : /content\n",
            "Python version   : 3.10.12 (main, Jun 11 2023, 05:26:28) [GCC 11.4.0]\n",
            "Version info     : sys.version_info(major=3, minor=10, micro=12, releaselevel='final', serial=0)\n",
            "Python API Ver   : 1013\n",
            "Executable       : /usr/bin/python3\n",
            "Hadoop home      : None\n",
            "Spark version    : 2.0.1\n",
            "Spark home(Find) : /content/spark-3.4.1-bin-hadoop3\n",
            "Spark Home(Env)  : /content/spark-3.4.1-bin-hadoop3\n",
            "Spark UI         : http://localhost:4040\n",
            "Spark submit     : /usr/local/lib/python3.10/dist-packages/ipykernel_launcher.py\n",
            "Java home        : /usr/lib/jvm/java-11-openjdk-amd64\n",
            "\n",
            "\u001b[37m2023-09-04 22:46:59.557666 \u001b[33mSTEP 0 - DONE=========================================\u001b[37m\n",
            "\u001b[37m2023-09-04 22:46:59.572397 \u001b[33mSTEP 0 - ELAPSED TIME: 0:00:00.022705 seconds=========\u001b[37m\n"
          ]
        }
      ],
      "source": [
        "#\n",
        "# Step 0 - Environment Setup\n",
        "#\n",
        "!pip install pyspark\n",
        "\n",
        "import sys\n",
        "from   colorama import Fore\n",
        "import datetime\n",
        "\n",
        "def logStep(msg):\n",
        "    print(Fore.WHITE + str(datetime.datetime.now()) + ' ' + Fore.YELLOW + msg + Fore.WHITE)\n",
        "    sys.stdout.flush()\n",
        "\n",
        "start_time = datetime.datetime.now()\n",
        "logStep('STEP 0 - ENVIRONMENT PREPARATION======================')\n",
        "\n",
        "import warnings\n",
        "import findspark\n",
        "from   pyspark     import SparkFiles\n",
        "from   pyspark.sql import SparkSession\n",
        "\n",
        "warnings.filterwarnings('ignore')\n",
        "\n",
        "print(Fore.GREEN)\n",
        "print(F'Copyright        : {sys.copyright}')\n",
        "print(F'OS Platform      : {sys.platform}')\n",
        "print(F'OS Name          : {os.name}')\n",
        "print(F'OS HOME          : {os.environ.get(\"HOME\")}')\n",
        "print(F'OS uName         : {os.uname().sysname}')\n",
        "print(F'OS NodeName      : {os.uname().nodename}')\n",
        "print(F'OS Release       : {os.uname().release}')\n",
        "print(F'OS Release Ver   : {os.uname().version}')\n",
        "print(F'OS Machine       : {os.uname().machine}')\n",
        "print(F'Process ID       : {os.getpid()}')\n",
        "print(F'Parent Process   : {os.getppid()}')\n",
        "#print(F'OS User          : {os.getlogin()}')\n",
        "#print(F'OS User ID       : {os.getuid()}')\n",
        "#print(F'OS Group ID      : {os.getgid()}')\n",
        "#print(F'OS Effective ID  : {os.geteuid()}')\n",
        "#print(F'OS Effective GID : {os.getegid()}')\n",
        "print(F'Current dir      : {os.getcwd()}')\n",
        "print(F'Python version   : {sys.version}')\n",
        "print(F'Version info     : {sys.version_info}')\n",
        "print(F'Python API Ver   : {sys.api_version}')\n",
        "print(F'Executable       : {sys.executable}')\n",
        "print(F'Hadoop home      : {os.environ.get(\"HADOOP_HOME\")}')\n",
        "print(F'Spark version    : {findspark.__version__}')\n",
        "print(F'Spark home(Find) : {findspark.find()}')\n",
        "print(F'Spark Home(Env)  : {os.environ.get(\"SPARK_HOME\")}')\n",
        "print(F'Spark UI         : http://localhost:4040')\n",
        "print(F'Spark submit     : {sys.argv[0]}')\n",
        "print(F'Java home        : {os.environ.get(\"JAVA_HOME\")}')\n",
        "print()\n",
        "\n",
        "logStep(\"STEP 0 - DONE=========================================\");\n",
        "end_time           = datetime.datetime.now()\n",
        "step0_elapsed_time = end_time - start_time\n",
        "logStep(F\"STEP 0 - ELAPSED TIME: {step0_elapsed_time} seconds=========\")"
      ]
    },
    {
      "cell_type": "markdown",
      "metadata": {
        "id": "Zhf45DUdJZb8"
      },
      "source": [
        "Step 1 - Read in the source file into a DataFrame"
      ]
    },
    {
      "cell_type": "code",
      "execution_count": 23,
      "metadata": {
        "colab": {
          "base_uri": "https://localhost:8080/"
        },
        "id": "wOJqxG_RPSwp",
        "outputId": "02a5da9a-07bc-4cb4-ba2c-fc95007332a7"
      },
      "outputs": [
        {
          "output_type": "stream",
          "name": "stdout",
          "text": [
            "\u001b[37m2023-09-04 22:46:59.586099 \u001b[33mSTEP 1 - READ SOURCE DATA=============================\u001b[37m\n",
            "\u001b[32m\n",
            "+--------------------+----------+----------+------+--------+---------+-----------+--------+------+----------+----+\n",
            "|                  id|      date|date_built| price|bedrooms|bathrooms|sqft_living|sqft_lot|floors|waterfront|view|\n",
            "+--------------------+----------+----------+------+--------+---------+-----------+--------+------+----------+----+\n",
            "|f8a53099-ba1c-47d...|2022-04-08|      2016|936923|       4|        3|       3167|   11733|     2|         1|  76|\n",
            "|7530a2d8-1ae3-451...|2021-06-13|      2013|379628|       2|        2|       2235|   14384|     1|         0|  23|\n",
            "|43de979c-0bf0-4c9...|2019-04-12|      2014|417866|       2|        2|       2127|   10575|     2|         0|   0|\n",
            "|b672c137-b88c-48b...|2019-10-16|      2016|239895|       2|        2|       1631|   11149|     2|         0|   0|\n",
            "|e0726d4d-d595-407...|2022-01-08|      2017|424418|       3|        2|       2249|   13878|     2|         0|   4|\n",
            "|5aa00529-0533-46b...|2019-01-30|      2017|218712|       2|        3|       1965|   14375|     2|         0|   7|\n",
            "|131492a1-72e2-4a8...|2020-02-08|      2017|419199|       2|        3|       2062|    8876|     2|         0|   6|\n",
            "|8d54a71b-c520-44e...|2019-07-21|      2010|323956|       2|        3|       1506|   11816|     1|         0|  25|\n",
            "|e81aacfe-17fe-46b...|2020-06-16|      2016|181925|       3|        3|       2137|   11709|     2|         0|  22|\n",
            "|2ed8d509-7372-46d...|2021-08-06|      2015|258710|       3|        3|       1918|    9666|     1|         0|  25|\n",
            "|f876d86f-3c9f-42b...|2019-02-27|      2011|167864|       3|        3|       2471|   13924|     2|         0|  15|\n",
            "|0a2bd445-8508-4d8...|2021-12-30|      2014|337527|       2|        3|       1926|   12556|     1|         0|  23|\n",
            "|941bad30-eb49-4a7...|2020-05-09|      2015|229896|       3|        3|       2197|    8641|     1|         0|   3|\n",
            "|dd61eb34-6589-4c0...|2021-07-25|      2016|210247|       3|        2|       1672|   11986|     2|         0|  28|\n",
            "|f1e4cef7-d151-439...|2019-02-01|      2011|398667|       2|        3|       2331|   11356|     1|         0|   7|\n",
            "|ea620c7b-c2f7-4c6...|2021-05-31|      2011|437958|       3|        3|       2356|   11052|     1|         0|  26|\n",
            "|f233cb41-6f33-4b0...|2021-07-18|      2016|437375|       4|        3|       1704|   11721|     2|         0|  34|\n",
            "|c797ca12-52cd-4b1...|2019-06-08|      2015|288650|       2|        3|       2100|   10419|     2|         0|   7|\n",
            "|0cfe57f3-28c2-472...|2019-10-04|      2015|308313|       3|        3|       1960|    9453|     2|         0|   2|\n",
            "|4566cd2a-ac6e-435...|2019-07-15|      2016|177541|       3|        3|       2130|   10517|     2|         0|  25|\n",
            "+--------------------+----------+----------+------+--------+---------+-----------+--------+------+----------+----+\n",
            "only showing top 20 rows\n",
            "\n",
            "\u001b[37m2023-09-04 22:47:00.657372 \u001b[33mSTEP 1 - DONE=========================================\u001b[37m\n",
            "\u001b[37m2023-09-04 22:47:00.675461 \u001b[33mSTEP 1 - ELAPSED TIME: 0:00:01.089260 seconds=========\u001b[37m\n"
          ]
        }
      ],
      "source": [
        "#\n",
        "# Step 1 - Read in the source file into a DataFrame.\n",
        "#\n",
        "\n",
        "start_time = datetime.datetime.now()\n",
        "logStep(\"STEP 1 - READ SOURCE DATA=============================\");\n",
        "print(Fore.GREEN)\n",
        "findspark.init()\n",
        "spark = SparkSession.builder.appName(\"SparkSQL\").getOrCreate()\n",
        "\n",
        "url = \"https://2u-data-curriculum-team.s3.amazonaws.com/dataviz-classroom/v1.2/22-big-data/home_sales_revised.csv\"\n",
        "\n",
        "spark.sparkContext.addFile(url)\n",
        "home_df = spark.read.csv(SparkFiles.get(\"home_sales_revised.csv\"), sep=\",\", header=True, ignoreLeadingWhiteSpace=True)\n",
        "home_df.show()\n",
        "\n",
        "logStep(\"STEP 1 - DONE=========================================\");\n",
        "end_time           = datetime.datetime.now()\n",
        "step1_elapsed_time = end_time - start_time\n",
        "logStep(F\"STEP 1 - ELAPSED TIME: {step1_elapsed_time} seconds=========\")"
      ]
    },
    {
      "cell_type": "markdown",
      "metadata": {
        "id": "9YUNnUsyJZb9"
      },
      "source": [
        "Step 2 - Create a temporary view of the DataFrame."
      ]
    },
    {
      "cell_type": "code",
      "execution_count": 24,
      "metadata": {
        "colab": {
          "base_uri": "https://localhost:8080/"
        },
        "id": "RoljcJ7WPpnm",
        "outputId": "a9d8a81f-a217-4a82-bf39-4d1c4f41a9a7"
      },
      "outputs": [
        {
          "output_type": "stream",
          "name": "stdout",
          "text": [
            "\u001b[37m2023-09-04 22:47:00.715101 \u001b[33mSTEP 2 - CREATE A TEMPORARY VIEW======================\u001b[37m\n",
            "\u001b[32m\n",
            "\u001b[37m2023-09-04 22:47:00.767316 \u001b[33mSTEP 2 - DONE=========================================\u001b[37m\n",
            "\u001b[37m2023-09-04 22:47:00.770019 \u001b[33mSTEP 2 - ELAPSED TIME: 0:00:00.054797 seconds=========\u001b[37m\n"
          ]
        }
      ],
      "source": [
        "#\n",
        "# Step 2 - Create a temporary view of the DataFrame.\n",
        "#\n",
        "\n",
        "start_time         = datetime.datetime.now()\n",
        "logStep(\"STEP 2 - CREATE A TEMPORARY VIEW======================\")\n",
        "print(Fore.GREEN)\n",
        "\n",
        "home_df.createOrReplaceTempView('home_sales')\n",
        "\n",
        "logStep(\"STEP 2 - DONE=========================================\")\n",
        "end_time           = datetime.datetime.now()\n",
        "step2_elapsed_time = end_time - start_time\n",
        "logStep(F\"STEP 2 - ELAPSED TIME: {step2_elapsed_time} seconds=========\")"
      ]
    },
    {
      "cell_type": "markdown",
      "metadata": {
        "id": "FPHFVKO1JZb-"
      },
      "source": [
        "Step 3 - What is the average price for a four bedroom house sold in each year rounded to two decimal places?\n"
      ]
    },
    {
      "cell_type": "code",
      "execution_count": 25,
      "metadata": {
        "colab": {
          "base_uri": "https://localhost:8080/"
        },
        "id": "L6fkwOeOmqvq",
        "outputId": "911da25a-f847-4aa5-e24c-a10a152f5165"
      },
      "outputs": [
        {
          "output_type": "stream",
          "name": "stdout",
          "text": [
            "\u001b[37m2023-09-04 22:47:00.779144 \u001b[33mSTEP 3 - WHAT IS THE AVERAGE PRICE?=4BR===============\u001b[37m\n",
            "\u001b[32m\n",
            "+----+---------+\n",
            "|YEAR|  AVERAGE|\n",
            "+----+---------+\n",
            "|2022|296363.88|\n",
            "|2021|301819.44|\n",
            "|2020|298353.78|\n",
            "|2019| 300263.7|\n",
            "+----+---------+\n",
            "\n",
            "\u001b[37m2023-09-04 22:47:02.015393 \u001b[33mSTEP 3 - DONE=========================================\u001b[37m\n",
            "\u001b[37m2023-09-04 22:47:02.020687 \u001b[33mSTEP 3 - ELAPSED TIME: 0:00:01.241460 seconds=========\u001b[37m\n"
          ]
        }
      ],
      "source": [
        "#\n",
        "# Step 3 - What is the average price for a four bedroom house sold in each year rounded to two decimal places?\n",
        "#\n",
        "\n",
        "start_time         = datetime.datetime.now()\n",
        "logStep(\"STEP 3 - WHAT IS THE AVERAGE PRICE?=4BR===============\")\n",
        "print(Fore.GREEN)\n",
        "\n",
        "spark.sql(\"SELECT YEAR(date)          as YEAR, \\\n",
        "                  ROUND(AVG(price),2) as AVERAGE \\\n",
        "             FROM home_sales WHERE bedrooms == 4 \\\n",
        "                  GROUP BY YEAR(date) \\\n",
        "                  ORDER BY YEAR(date) desc\").show()\n",
        "\n",
        "logStep(\"STEP 3 - DONE=========================================\")\n",
        "end_time           = datetime.datetime.now()\n",
        "step3_elapsed_time = end_time - start_time\n",
        "logStep(F\"STEP 3 - ELAPSED TIME: {step3_elapsed_time} seconds=========\")"
      ]
    },
    {
      "cell_type": "markdown",
      "metadata": {
        "id": "MKu5xocIJZcW"
      },
      "source": [
        "Set 4 - What is the average price of a home for each year the home was built that have 3 bedrooms and 3 bathrooms rounded to two decimal places?"
      ]
    },
    {
      "cell_type": "code",
      "execution_count": 26,
      "metadata": {
        "colab": {
          "base_uri": "https://localhost:8080/"
        },
        "id": "l8p_tUS8h8it",
        "outputId": "250c8aeb-8190-42f1-cb9e-db848ea06387"
      },
      "outputs": [
        {
          "output_type": "stream",
          "name": "stdout",
          "text": [
            "\u001b[37m2023-09-04 22:47:02.032577 \u001b[33mSTEP 4 - WHAT IS THE AVERAGE PRICE?=3BR/3B============\u001b[37m\n",
            "\u001b[32m\n",
            "+----+---------+\n",
            "|YEAR|  AVERAGE|\n",
            "+----+---------+\n",
            "|2017|292676.79|\n",
            "|2016|290555.07|\n",
            "|2015| 288770.3|\n",
            "|2014|290852.27|\n",
            "|2013|295962.27|\n",
            "|2012|293683.19|\n",
            "|2011|291117.47|\n",
            "|2010|292859.62|\n",
            "+----+---------+\n",
            "\n",
            "\u001b[37m2023-09-04 22:47:03.329508 \u001b[33mSTEP 4 - DONE=========================================\u001b[37m\n",
            "\u001b[37m2023-09-04 22:47:03.332763 \u001b[33mSTEP 4 - ELAPSED TIME: 0:00:01.296885 seconds=========\u001b[37m\n"
          ]
        }
      ],
      "source": [
        "#\n",
        "# 4. What is the average price of a home for each year the home was built that have 3 bedrooms and 3 bathrooms rounded to two decimal places?\n",
        "#\n",
        "\n",
        "start_time         = datetime.datetime.now()\n",
        "logStep(\"STEP 4 - WHAT IS THE AVERAGE PRICE?=3BR/3B============\")\n",
        "print(Fore.GREEN)\n",
        "\n",
        "spark.sql(\"SELECT date_built as YEAR , \\\n",
        "                  ROUND(AVG(price),2) as AVERAGE  \\\n",
        "             FROM home_sales WHERE bedrooms == 3 AND \\\n",
        "                                   bathrooms == 3 \\\n",
        "                  GROUP BY date_built \\\n",
        "                  ORDER BY date_built desc\").show()\n",
        "\n",
        "end_time           = datetime.datetime.now()\n",
        "logStep(\"STEP 4 - DONE=========================================\")\n",
        "step4_elapsed_time = end_time - start_time\n",
        "logStep(F\"STEP 4 - ELAPSED TIME: {step4_elapsed_time} seconds=========\")\n"
      ]
    },
    {
      "cell_type": "markdown",
      "metadata": {
        "id": "_UOPUq_MJZcW"
      },
      "source": [
        "Step 5 - What is the average price of a home for each year built that have 3 bedrooms, 3 bathrooms, with two floors, and are greater than or equal to 2,000 square feet rounded to two decimal places?"
      ]
    },
    {
      "cell_type": "code",
      "execution_count": 27,
      "metadata": {
        "colab": {
          "base_uri": "https://localhost:8080/"
        },
        "id": "Y-Eytz64liDU",
        "outputId": "c9239d70-f43b-4dba-beeb-369d87aed7f8"
      },
      "outputs": [
        {
          "output_type": "stream",
          "name": "stdout",
          "text": [
            "\u001b[37m2023-09-04 22:47:03.354486 \u001b[33mSTEP 5 - WHAT IS THE AVERAGE PRICE?=3R/3/2============\u001b[37m\n",
            "\u001b[32m\n",
            "+----+---------+\n",
            "|YEAR|  AVERAGE|\n",
            "+----+---------+\n",
            "|2017|280317.58|\n",
            "|2016| 293965.1|\n",
            "|2015|297609.97|\n",
            "|2014|298264.72|\n",
            "|2013|303676.79|\n",
            "|2012|307539.97|\n",
            "|2011|276553.81|\n",
            "|2010|285010.22|\n",
            "+----+---------+\n",
            "\n",
            "\u001b[37m2023-09-04 22:47:04.903917 \u001b[33mSTEP 5 - DONE=========================================\u001b[37m\n",
            "\u001b[37m2023-09-04 22:47:04.909984 \u001b[33mSTEP 5 - ELAPSED TIME: 0:00:01.543062 seconds=========\u001b[37m\n"
          ]
        }
      ],
      "source": [
        "#\n",
        "# Step 5 - What is the average price of a home for each year built that have 3 bedrooms, 3 bathrooms, with two floors,\n",
        "# and are greater than or equal to 2,000 square feet rounded to two decimal places?\n",
        "#\n",
        "\n",
        "start_time         = datetime.datetime.now()\n",
        "logStep(\"STEP 5 - WHAT IS THE AVERAGE PRICE?=3R/3/2============\")\n",
        "print(Fore.GREEN)\n",
        "\n",
        "spark.sql(\"SELECT date_built as YEAR, \\\n",
        "           ROUND(AVG(price),2) as AVERAGE from home_sales \\\n",
        "           where bedrooms  == 3 AND \\\n",
        "                 bathrooms == 3 AND \\\n",
        "                    floors == 2 AND \\\n",
        "               sqft_living >= 2000 \\\n",
        "                 group by date_built \\\n",
        "                 order by date_built desc\").show()\n",
        "\n",
        "end_time           = datetime.datetime.now()\n",
        "logStep(\"STEP 5 - DONE=========================================\")\n",
        "step5_elapsed_time = end_time - start_time\n",
        "logStep(F\"STEP 5 - ELAPSED TIME: {step5_elapsed_time} seconds=========\")\n"
      ]
    },
    {
      "cell_type": "markdown",
      "metadata": {
        "id": "VVyZ4j29JZcX"
      },
      "source": [
        "Step 6 - What is the \"view\" rating for the average price of a home, rounded to two decimal places, where the homes are greater than or equal to $350,000? Although this is a small dataset, determine the run time for this query."
      ]
    },
    {
      "cell_type": "code",
      "execution_count": 28,
      "metadata": {
        "colab": {
          "base_uri": "https://localhost:8080/"
        },
        "id": "GUrfgOX1pCRd",
        "outputId": "89e63e75-14d9-4f8b-fb73-a640e022437b"
      },
      "outputs": [
        {
          "output_type": "stream",
          "name": "stdout",
          "text": [
            "\u001b[37m2023-09-04 22:47:04.946580 \u001b[33mSTEP 6 - WHAT IS THE AVERAGE PRICE?=300K==============\u001b[37m\n",
            "\u001b[32m\n",
            "+----+---------+\n",
            "|VIEW|  AVERAGE|\n",
            "+----+---------+\n",
            "| 100|1026669.5|\n",
            "|  51|788128.21|\n",
            "|  52|733780.26|\n",
            "|  53| 755214.8|\n",
            "|  54|798684.82|\n",
            "|  55|771153.32|\n",
            "|  56| 718176.4|\n",
            "|  57| 734340.5|\n",
            "|  58|759764.65|\n",
            "|  59| 791453.0|\n",
            "|  60|754939.65|\n",
            "|  61|746877.59|\n",
            "|  62|759150.14|\n",
            "|  63|711614.55|\n",
            "|  64|767036.67|\n",
            "|  65|736679.93|\n",
            "|  66| 712475.0|\n",
            "|  67|737970.96|\n",
            "|  68|716785.44|\n",
            "|  69|750537.94|\n",
            "+----+---------+\n",
            "only showing top 20 rows\n",
            "\n",
            "\u001b[37m2023-09-04 22:47:06.380453 \u001b[33mSTEP 6 - DONE=========================================\u001b[37m\n",
            "\u001b[37m2023-09-04 22:47:06.383404 \u001b[33mSTEP 6 - ELAPSED TIME: 0:00:01.433867 seconds=========\u001b[37m\n"
          ]
        }
      ],
      "source": [
        "#\n",
        "# Ste 6 - What is the \"view\" rating for the average price of a home, rounded to two decimal places, where the homes are greater than or equal to $350,000? Although this is a small dataset, determine the run time for this query.\n",
        "#\n",
        "\n",
        "start_time         = datetime.datetime.now()\n",
        "logStep(\"STEP 6 - WHAT IS THE AVERAGE PRICE?=300K==============\")\n",
        "print(Fore.GREEN)\n",
        "\n",
        "spark.sql(\"SELECT view as VIEW, \\\n",
        "                  ROUND(AVG(price),2) AS AVERAGE \\\n",
        "             FROM home_sales \\\n",
        "             GROUP BY view \\\n",
        "           HAVING ROUND(AVG(price),2) >= 350000 \\\n",
        "           ORDER BY view\").show()\n",
        "\n",
        "end_time           = datetime.datetime.now()\n",
        "logStep(\"STEP 6 - DONE=========================================\")\n",
        "step6_elapsed_time = end_time - start_time\n",
        "logStep(F\"STEP 6 - ELAPSED TIME: {step6_elapsed_time} seconds=========\")\n"
      ]
    },
    {
      "cell_type": "markdown",
      "metadata": {
        "id": "uNhp7WMFJZcX"
      },
      "source": [
        "Step 7 - Cache the the temporary table home_sales."
      ]
    },
    {
      "cell_type": "code",
      "execution_count": 29,
      "metadata": {
        "colab": {
          "base_uri": "https://localhost:8080/"
        },
        "id": "KAhk3ZD2tFy8",
        "outputId": "5fa3fd8e-eab6-499e-ab3b-fb2d2ed65c0c"
      },
      "outputs": [
        {
          "output_type": "stream",
          "name": "stdout",
          "text": [
            "\u001b[37m2023-09-04 22:47:06.404413 \u001b[33mSTEP 7 - CACHE HOME DATA==============================\u001b[37m\n",
            "\u001b[32m\n",
            "\u001b[37m2023-09-04 22:47:08.833319 \u001b[33mSTEP 7 - DONE=========================================\u001b[37m\n",
            "\u001b[37m2023-09-04 22:47:08.835002 \u001b[33mSTEP 7 - ELAPSED TIME: 0:00:02.428916 seconds=========\u001b[37m\n"
          ]
        }
      ],
      "source": [
        "#\n",
        "# Step 7 - Cache the the temporary table home_sales.\n",
        "#\n",
        "\n",
        "start_time         = datetime.datetime.now()\n",
        "logStep(\"STEP 7 - CACHE HOME DATA==============================\")\n",
        "print(Fore.GREEN)\n",
        "\n",
        "spark.sql(\"cache table home_sales\")\n",
        "\n",
        "end_time           = datetime.datetime.now()\n",
        "logStep(\"STEP 7 - DONE=========================================\")\n",
        "step7_elapsed_time = end_time - start_time\n",
        "logStep(F\"STEP 7 - ELAPSED TIME: {step7_elapsed_time} seconds=========\")"
      ]
    },
    {
      "cell_type": "markdown",
      "metadata": {
        "id": "M7Yn-pbbJZcY"
      },
      "source": [
        "Step 8 - Check if the table is cached."
      ]
    },
    {
      "cell_type": "code",
      "execution_count": 30,
      "metadata": {
        "colab": {
          "base_uri": "https://localhost:8080/"
        },
        "id": "4opVhbvxtL-i",
        "outputId": "e1f78690-a64b-4a84-c111-ff562bec3913"
      },
      "outputs": [
        {
          "output_type": "stream",
          "name": "stdout",
          "text": [
            "\u001b[37m2023-09-04 22:47:08.845558 \u001b[33mSTEP 8 - IS THE DATA CACHED===========================\u001b[37m\n",
            "\u001b[32m\n",
            "home_sales is cached\n",
            "\u001b[32m\n",
            "\u001b[37m2023-09-04 22:47:08.868581 \u001b[33mSTEP 8 - DONE=========================================\u001b[37m\n",
            "\u001b[37m2023-09-04 22:47:08.876496 \u001b[33mSTEP 8 - ELAPSED TIME: 0:00:00.023028 seconds=========\u001b[37m\n"
          ]
        }
      ],
      "source": [
        "#\n",
        "# Step 8 - Check if the table is cached.\n",
        "#\n",
        "\n",
        "start_time         = datetime.datetime.now()\n",
        "logStep(\"STEP 8 - IS THE DATA CACHED===========================\")\n",
        "print(Fore.GREEN)\n",
        "\n",
        "if (spark.catalog.isCached('home_sales') == False):\n",
        "    print(\"home_sales is not cached\")\n",
        "else:\n",
        "    print(\"home_sales is cached\")\n",
        "print(Fore.GREEN)\n",
        "end_time           = datetime.datetime.now()\n",
        "logStep(\"STEP 8 - DONE=========================================\")\n",
        "step8_elapsed_time = end_time - start_time\n",
        "logStep(F\"STEP 8 - ELAPSED TIME: {step8_elapsed_time} seconds=========\")"
      ]
    },
    {
      "cell_type": "markdown",
      "metadata": {
        "id": "yBgGdDGNJZcY"
      },
      "source": [
        "Step 9 - Using the cached data, run the query that filters out the view ratings with average price greater than or equal to $350,000. Determine the runtime and compare it to uncached runtime."
      ]
    },
    {
      "cell_type": "code",
      "execution_count": 31,
      "metadata": {
        "colab": {
          "base_uri": "https://localhost:8080/"
        },
        "id": "5GnL46lwTSEk",
        "outputId": "766df1f2-1531-4aa3-b5eb-7873ddcb62cc"
      },
      "outputs": [
        {
          "output_type": "stream",
          "name": "stdout",
          "text": [
            "\u001b[37m2023-09-04 22:47:08.892363 \u001b[33mSTEP 9 - REPEAT QUERY=================================\u001b[37m\n",
            "\u001b[32m\n",
            "+----+---------+\n",
            "|VIEW|  AVERAGE|\n",
            "+----+---------+\n",
            "| 100|1026669.5|\n",
            "|  51|788128.21|\n",
            "|  52|733780.26|\n",
            "|  53| 755214.8|\n",
            "|  54|798684.82|\n",
            "|  55|771153.32|\n",
            "|  56| 718176.4|\n",
            "|  57| 734340.5|\n",
            "|  58|759764.65|\n",
            "|  59| 791453.0|\n",
            "|  60|754939.65|\n",
            "|  61|746877.59|\n",
            "|  62|759150.14|\n",
            "|  63|711614.55|\n",
            "|  64|767036.67|\n",
            "|  65|736679.93|\n",
            "|  66| 712475.0|\n",
            "|  67|737970.96|\n",
            "|  68|716785.44|\n",
            "|  69|750537.94|\n",
            "+----+---------+\n",
            "only showing top 20 rows\n",
            "\n",
            "\u001b[37m2023-09-04 22:47:09.552206 \u001b[33mSTEP 9 - DONE=========================================\u001b[37m\n",
            "\u001b[37m2023-09-04 22:47:09.556962 \u001b[33mSTEP 9 - ELAPSED TIME: 0:00:00.659833 seconds=========\u001b[37m\n"
          ]
        }
      ],
      "source": [
        "#\n",
        "# Step 9 - Using the cached data, run the query that filters out the view ratings with average price greater than or equal to $350,000. Determine the runtime and compare it to uncached runtime.\n",
        "#\n",
        "\n",
        "start_time         = datetime.datetime.now()\n",
        "logStep(\"STEP 9 - REPEAT QUERY=================================\")\n",
        "print(Fore.GREEN)\n",
        "\n",
        "spark.sql(\"SELECT view as VIEW, \\\n",
        "                  ROUND(AVG(price),2) AS AVERAGE \\\n",
        "             FROM home_sales \\\n",
        "             GROUP BY view \\\n",
        "           HAVING ROUND(AVG(price),2) >= 350000 \\\n",
        "           ORDER BY view\").show()\n",
        "\n",
        "end_time           = datetime.datetime.now()\n",
        "logStep(\"STEP 9 - DONE=========================================\")\n",
        "step9_elapsed_time = end_time - start_time\n",
        "logStep(F\"STEP 9 - ELAPSED TIME: {step9_elapsed_time} seconds=========\")\n"
      ]
    },
    {
      "cell_type": "markdown",
      "metadata": {
        "id": "AQgywhyyJZcY"
      },
      "source": [
        "Step 9.1 - Determine the runtime and compare to the original runtime"
      ]
    },
    {
      "cell_type": "code",
      "execution_count": 32,
      "metadata": {
        "colab": {
          "base_uri": "https://localhost:8080/"
        },
        "id": "GAYsuFaZuCmw",
        "outputId": "d7a8a055-7058-4a26-a328-845e0a8f9a9f"
      },
      "outputs": [
        {
          "output_type": "stream",
          "name": "stdout",
          "text": [
            "\u001b[37m2023-09-04 22:47:09.569638 \u001b[33mSTEP 9.1 - RUNTIME DIFFERENCE =========================\u001b[37m\n",
            "\u001b[32m\n",
            "Time required for a non-cached Query: 0:00:01.433867\n",
            "Time required for a cached Query    : 0:00:00.659833\n",
            "Time difference                     : 0:00:00.774034\n",
            "\u001b[32m\n",
            "\u001b[37m2023-09-04 22:47:09.576140 \u001b[33mSTEP 9.1 - DONE========================================\u001b[37m\n",
            "\u001b[37m2023-09-04 22:47:09.578936 \u001b[33mSTEP 9.1 - ELAPSED TIME: 0:00:00.004246 seconds========\u001b[37m\n"
          ]
        }
      ],
      "source": [
        "#\n",
        "# Step 9.1 Determine the runtime and compare to the original runtime\n",
        "#\n",
        "\n",
        "start_time         = datetime.datetime.now()\n",
        "logStep(\"STEP 9.1 - RUNTIME DIFFERENCE =========================\")\n",
        "print(Fore.GREEN)\n",
        "\n",
        "print(F\"Time required for a non-cached Query: {step6_elapsed_time}\")\n",
        "print(F\"Time required for a cached Query    : {step9_elapsed_time}\")\n",
        "time_difference = step6_elapsed_time - step9_elapsed_time\n",
        "print(F\"Time difference                     : {time_difference}\")\n",
        "end_time           = datetime.datetime.now()\n",
        "print(Fore.GREEN)\n",
        "\n",
        "logStep(\"STEP 9.1 - DONE========================================\")\n",
        "step91_elapsed_time = end_time - start_time\n",
        "logStep(F\"STEP 9.1 - ELAPSED TIME: {step91_elapsed_time} seconds========\")"
      ]
    },
    {
      "cell_type": "markdown",
      "metadata": {
        "id": "iG7Ef4SkJZcY"
      },
      "source": [
        "Step 10 - Partition by the \"date_built\" field on the formatted parquet home sales data\n"
      ]
    },
    {
      "cell_type": "code",
      "execution_count": 33,
      "metadata": {
        "colab": {
          "base_uri": "https://localhost:8080/"
        },
        "id": "Qm12WN9isHBR",
        "outputId": "1c6f1622-376e-476b-cc93-0f5a2af49bae"
      },
      "outputs": [
        {
          "output_type": "stream",
          "name": "stdout",
          "text": [
            "\u001b[37m2023-09-04 22:47:09.591717 \u001b[33mSTEP 10 - FORMATTED PARQUET============================\u001b[37m\n",
            "\u001b[32m\n",
            "+--------------------+----------+----------+------+--------+---------+-----------+--------+------+----------+----+\n",
            "|                  id|      date|date_built| price|bedrooms|bathrooms|sqft_living|sqft_lot|floors|waterfront|view|\n",
            "+--------------------+----------+----------+------+--------+---------+-----------+--------+------+----------+----+\n",
            "|f8a53099-ba1c-47d...|2022-04-08|      2016|936923|       4|        3|       3167|   11733|     2|         1|  76|\n",
            "|7530a2d8-1ae3-451...|2021-06-13|      2013|379628|       2|        2|       2235|   14384|     1|         0|  23|\n",
            "|43de979c-0bf0-4c9...|2019-04-12|      2014|417866|       2|        2|       2127|   10575|     2|         0|   0|\n",
            "|b672c137-b88c-48b...|2019-10-16|      2016|239895|       2|        2|       1631|   11149|     2|         0|   0|\n",
            "|e0726d4d-d595-407...|2022-01-08|      2017|424418|       3|        2|       2249|   13878|     2|         0|   4|\n",
            "|5aa00529-0533-46b...|2019-01-30|      2017|218712|       2|        3|       1965|   14375|     2|         0|   7|\n",
            "|131492a1-72e2-4a8...|2020-02-08|      2017|419199|       2|        3|       2062|    8876|     2|         0|   6|\n",
            "|8d54a71b-c520-44e...|2019-07-21|      2010|323956|       2|        3|       1506|   11816|     1|         0|  25|\n",
            "|e81aacfe-17fe-46b...|2020-06-16|      2016|181925|       3|        3|       2137|   11709|     2|         0|  22|\n",
            "|2ed8d509-7372-46d...|2021-08-06|      2015|258710|       3|        3|       1918|    9666|     1|         0|  25|\n",
            "|f876d86f-3c9f-42b...|2019-02-27|      2011|167864|       3|        3|       2471|   13924|     2|         0|  15|\n",
            "|0a2bd445-8508-4d8...|2021-12-30|      2014|337527|       2|        3|       1926|   12556|     1|         0|  23|\n",
            "|941bad30-eb49-4a7...|2020-05-09|      2015|229896|       3|        3|       2197|    8641|     1|         0|   3|\n",
            "|dd61eb34-6589-4c0...|2021-07-25|      2016|210247|       3|        2|       1672|   11986|     2|         0|  28|\n",
            "|f1e4cef7-d151-439...|2019-02-01|      2011|398667|       2|        3|       2331|   11356|     1|         0|   7|\n",
            "|ea620c7b-c2f7-4c6...|2021-05-31|      2011|437958|       3|        3|       2356|   11052|     1|         0|  26|\n",
            "|f233cb41-6f33-4b0...|2021-07-18|      2016|437375|       4|        3|       1704|   11721|     2|         0|  34|\n",
            "|c797ca12-52cd-4b1...|2019-06-08|      2015|288650|       2|        3|       2100|   10419|     2|         0|   7|\n",
            "|0cfe57f3-28c2-472...|2019-10-04|      2015|308313|       3|        3|       1960|    9453|     2|         0|   2|\n",
            "|4566cd2a-ac6e-435...|2019-07-15|      2016|177541|       3|        3|       2130|   10517|     2|         0|  25|\n",
            "+--------------------+----------+----------+------+--------+---------+-----------+--------+------+----------+----+\n",
            "only showing top 20 rows\n",
            "\n",
            "\u001b[37m2023-09-04 22:47:12.220723 \u001b[33mSTEP 10 - DONE=========================================\u001b[37m\n",
            "\u001b[37m2023-09-04 22:47:12.226508 \u001b[33mSTEP 10 - ELAPSED TIME: 0:00:02.628984 seconds=========\u001b[37m\n"
          ]
        }
      ],
      "source": [
        "#\n",
        "# Step 10 - Partition by the \"date_built\" field on the formatted parquet home sales data\n",
        "#\n",
        "\n",
        "start_time         = datetime.datetime.now()\n",
        "logStep(\"STEP 10 - FORMATTED PARQUET============================\")\n",
        "print(Fore.GREEN)\n",
        "home_df.write.parquet('home_parquet', mode='overwrite',partitionBy='date_built')\n",
        "home_df.show()\n",
        "\n",
        "\n",
        "end_time           = datetime.datetime.now()\n",
        "logStep(\"STEP 10 - DONE=========================================\")\n",
        "step10_elapsed_time = end_time - start_time\n",
        "logStep(F\"STEP 10 - ELAPSED TIME: {step10_elapsed_time} seconds=========\")"
      ]
    },
    {
      "cell_type": "code",
      "execution_count": 34,
      "metadata": {
        "colab": {
          "base_uri": "https://localhost:8080/"
        },
        "id": "AZ7BgY61sRqY",
        "outputId": "6307b7a1-311c-4d8f-edf1-d898183de145"
      },
      "outputs": [
        {
          "output_type": "stream",
          "name": "stdout",
          "text": [
            "\u001b[37m2023-09-04 22:47:12.235102 \u001b[33mSTEP 11 - READ PARQUET=================================\u001b[37m\n",
            "\u001b[32m\n",
            "+--------------------+----------+------+--------+---------+-----------+--------+------+----------+----+----------+\n",
            "|                  id|      date| price|bedrooms|bathrooms|sqft_living|sqft_lot|floors|waterfront|view|date_built|\n",
            "+--------------------+----------+------+--------+---------+-----------+--------+------+----------+----+----------+\n",
            "|2ed8d509-7372-46d...|2021-08-06|258710|       3|        3|       1918|    9666|     1|         0|  25|      2015|\n",
            "|941bad30-eb49-4a7...|2020-05-09|229896|       3|        3|       2197|    8641|     1|         0|   3|      2015|\n",
            "|c797ca12-52cd-4b1...|2019-06-08|288650|       2|        3|       2100|   10419|     2|         0|   7|      2015|\n",
            "|0cfe57f3-28c2-472...|2019-10-04|308313|       3|        3|       1960|    9453|     2|         0|   2|      2015|\n",
            "|d715f295-2fbf-4e9...|2021-05-17|391574|       3|        2|       1635|    8040|     2|         0|  10|      2015|\n",
            "|a18515a2-86f3-46b...|2022-02-18|419543|       3|        2|       1642|   12826|     2|         0|  24|      2015|\n",
            "|98f6a9ad-8870-474...|2022-05-07|136752|       2|        3|       1701|   10771|     2|         0|   5|      2015|\n",
            "|7ac67498-b6f3-403...|2021-05-12|349318|       4|        3|       2417|   11304|     2|         0|  37|      2015|\n",
            "|c9bfdb1c-2499-4e3...|2021-12-07|268874|       2|        2|       1537|   12177|     1|         0|  10|      2015|\n",
            "|34c31a34-220d-469...|2019-02-06|409011|       3|        3|       2356|   10507|     1|         0|   1|      2015|\n",
            "|be0ccb95-415d-411...|2020-05-15|425154|       4|        3|       2120|   14229|     2|         0|   4|      2015|\n",
            "|e9031a86-1294-444...|2021-10-09|222322|       4|        3|       1928|   10510|     1|         0|  38|      2015|\n",
            "|e6d7c2a7-596e-4ec...|2019-03-15|131201|       4|        3|       1633|   14655|     1|         0|  22|      2015|\n",
            "|6683714b-3df7-454...|2022-02-01|333403|       4|        2|       2059|    9793|     2|         0|   4|      2015|\n",
            "|00fc996f-508c-430...|2021-07-15|373139|       3|        3|       1763|   11363|     1|         0|  39|      2015|\n",
            "|3d5545f8-bd3b-476...|2020-09-19|797862|       4|        6|       3494|   10385|     2|         0|  90|      2015|\n",
            "|ec6d357c-2435-43e...|2019-05-28|401792|       3|        2|       1627|   10765|     1|         0|  50|      2015|\n",
            "|c2be38fb-814a-403...|2020-03-20|352237|       3|        3|       2485|   10954|     2|         0|   6|      2015|\n",
            "|9570de1f-5a74-45b...|2021-11-29|298453|       3|        2|       2222|   10634|     1|         0|   6|      2015|\n",
            "|1baeff4f-fc00-489...|2020-12-17|152775|       3|        2|       1623|   13851|     1|         0|  41|      2015|\n",
            "+--------------------+----------+------+--------+---------+-----------+--------+------+----------+----+----------+\n",
            "only showing top 20 rows\n",
            "\n",
            "\u001b[37m2023-09-04 22:47:12.915786 \u001b[33mSTEP 11 - DONE=========================================\u001b[37m\n",
            "\u001b[37m2023-09-04 22:47:12.919298 \u001b[33mSTEP 11 - ELAPSED TIME: 0:00:00.680673 seconds=========\u001b[37m\n"
          ]
        }
      ],
      "source": [
        "#\n",
        "# Step 11 - Read the parquet formatted data.\n",
        "#\n",
        "\n",
        "start_time         = datetime.datetime.now()\n",
        "logStep(\"STEP 11 - READ PARQUET=================================\")\n",
        "print(Fore.GREEN)\n",
        "\n",
        "parquet_home_df = spark.read.parquet('home_parquet')\n",
        "parquet_home_df.show()\n",
        "\n",
        "end_time           = datetime.datetime.now()\n",
        "logStep(\"STEP 11 - DONE=========================================\")\n",
        "step11_elapsed_time = end_time - start_time\n",
        "logStep(F\"STEP 11 - ELAPSED TIME: {step11_elapsed_time} seconds=========\")"
      ]
    },
    {
      "cell_type": "markdown",
      "metadata": {
        "id": "2scshuaWJZcZ"
      },
      "source": [
        "Step 12 - Create a temporary table for the parquet data."
      ]
    },
    {
      "cell_type": "code",
      "execution_count": 35,
      "metadata": {
        "colab": {
          "base_uri": "https://localhost:8080/"
        },
        "id": "J6MJkHfvVcvh",
        "outputId": "99f296d1-981a-4a53-9960-569b3079f32d"
      },
      "outputs": [
        {
          "output_type": "stream",
          "name": "stdout",
          "text": [
            "\u001b[37m2023-09-04 22:47:12.930760 \u001b[33mSTEP 12 - CREATE PARQUET VIEW==========================\u001b[37m\n",
            "\u001b[32m\n",
            "+--------------------+----------+------+--------+---------+-----------+--------+------+----------+----+----------+\n",
            "|                  id|      date| price|bedrooms|bathrooms|sqft_living|sqft_lot|floors|waterfront|view|date_built|\n",
            "+--------------------+----------+------+--------+---------+-----------+--------+------+----------+----+----------+\n",
            "|2ed8d509-7372-46d...|2021-08-06|258710|       3|        3|       1918|    9666|     1|         0|  25|      2015|\n",
            "|941bad30-eb49-4a7...|2020-05-09|229896|       3|        3|       2197|    8641|     1|         0|   3|      2015|\n",
            "|c797ca12-52cd-4b1...|2019-06-08|288650|       2|        3|       2100|   10419|     2|         0|   7|      2015|\n",
            "|0cfe57f3-28c2-472...|2019-10-04|308313|       3|        3|       1960|    9453|     2|         0|   2|      2015|\n",
            "|d715f295-2fbf-4e9...|2021-05-17|391574|       3|        2|       1635|    8040|     2|         0|  10|      2015|\n",
            "|a18515a2-86f3-46b...|2022-02-18|419543|       3|        2|       1642|   12826|     2|         0|  24|      2015|\n",
            "|98f6a9ad-8870-474...|2022-05-07|136752|       2|        3|       1701|   10771|     2|         0|   5|      2015|\n",
            "|7ac67498-b6f3-403...|2021-05-12|349318|       4|        3|       2417|   11304|     2|         0|  37|      2015|\n",
            "|c9bfdb1c-2499-4e3...|2021-12-07|268874|       2|        2|       1537|   12177|     1|         0|  10|      2015|\n",
            "|34c31a34-220d-469...|2019-02-06|409011|       3|        3|       2356|   10507|     1|         0|   1|      2015|\n",
            "|be0ccb95-415d-411...|2020-05-15|425154|       4|        3|       2120|   14229|     2|         0|   4|      2015|\n",
            "|e9031a86-1294-444...|2021-10-09|222322|       4|        3|       1928|   10510|     1|         0|  38|      2015|\n",
            "|e6d7c2a7-596e-4ec...|2019-03-15|131201|       4|        3|       1633|   14655|     1|         0|  22|      2015|\n",
            "|6683714b-3df7-454...|2022-02-01|333403|       4|        2|       2059|    9793|     2|         0|   4|      2015|\n",
            "|00fc996f-508c-430...|2021-07-15|373139|       3|        3|       1763|   11363|     1|         0|  39|      2015|\n",
            "|3d5545f8-bd3b-476...|2020-09-19|797862|       4|        6|       3494|   10385|     2|         0|  90|      2015|\n",
            "|ec6d357c-2435-43e...|2019-05-28|401792|       3|        2|       1627|   10765|     1|         0|  50|      2015|\n",
            "|c2be38fb-814a-403...|2020-03-20|352237|       3|        3|       2485|   10954|     2|         0|   6|      2015|\n",
            "|9570de1f-5a74-45b...|2021-11-29|298453|       3|        2|       2222|   10634|     1|         0|   6|      2015|\n",
            "|1baeff4f-fc00-489...|2020-12-17|152775|       3|        2|       1623|   13851|     1|         0|  41|      2015|\n",
            "+--------------------+----------+------+--------+---------+-----------+--------+------+----------+----+----------+\n",
            "only showing top 20 rows\n",
            "\n",
            "\u001b[37m2023-09-04 22:47:13.145824 \u001b[33mSTEP 12 - DONE=========================================\u001b[37m\n",
            "\u001b[37m2023-09-04 22:47:13.148905 \u001b[33mSTEP 12 - ELAPSED TIME: 0:00:00.215039 seconds=========\u001b[37m\n"
          ]
        }
      ],
      "source": [
        "#\n",
        "# Step 12 - Create a temporary table for the parquet data.\n",
        "#\n",
        "\n",
        "start_time         = datetime.datetime.now()\n",
        "logStep(\"STEP 12 - CREATE PARQUET VIEW==========================\")\n",
        "print(Fore.GREEN)\n",
        "\n",
        "parquet_home_df.createOrReplaceTempView('parquet_temp_home')\n",
        "parquet_home_df.show()\n",
        "\n",
        "end_time           = datetime.datetime.now()\n",
        "logStep(\"STEP 12 - DONE=========================================\")\n",
        "step12_elapsed_time = end_time - start_time\n",
        "logStep(F\"STEP 12 - ELAPSED TIME: {step12_elapsed_time} seconds=========\")"
      ]
    },
    {
      "cell_type": "markdown",
      "metadata": {
        "id": "J002yT2JJZcZ"
      },
      "source": [
        "Step 13 - Run the query that filters out the view ratings with average price of greater than or equal to $350,000 with the parquet DataFrame. Round your average to two decimal places"
      ]
    },
    {
      "cell_type": "code",
      "execution_count": 36,
      "metadata": {
        "colab": {
          "base_uri": "https://localhost:8080/"
        },
        "id": "G_Vhb52rU1Sn",
        "outputId": "ec2c8f6d-ce9f-4f3c-b0a2-4c1bad61a89e"
      },
      "outputs": [
        {
          "output_type": "stream",
          "name": "stdout",
          "text": [
            "\u001b[37m2023-09-04 22:47:13.157767 \u001b[33mSTEP 13 - REPEAT QUERY=================================\u001b[37m\n",
            "\u001b[32m\n",
            "+----+---------+\n",
            "|VIEW|  AVERAGE|\n",
            "+----+---------+\n",
            "| 100|1026669.5|\n",
            "|  51|788128.21|\n",
            "|  52|733780.26|\n",
            "|  53| 755214.8|\n",
            "|  54|798684.82|\n",
            "|  55|771153.32|\n",
            "|  56| 718176.4|\n",
            "|  57| 734340.5|\n",
            "|  58|759764.65|\n",
            "|  59| 791453.0|\n",
            "|  60|754939.65|\n",
            "|  61|746877.59|\n",
            "|  62|759150.14|\n",
            "|  63|711614.55|\n",
            "|  64|767036.67|\n",
            "|  65|736679.93|\n",
            "|  66| 712475.0|\n",
            "|  67|737970.96|\n",
            "|  68|716785.44|\n",
            "|  69|750537.94|\n",
            "+----+---------+\n",
            "only showing top 20 rows\n",
            "\n",
            "\u001b[37m2023-09-04 22:47:13.722215 \u001b[33mSTEP 13 - DONE=========================================\u001b[37m\n",
            "\u001b[37m2023-09-04 22:47:13.725371 \u001b[33mSTEP 13 - ELAPSED TIME: 0:00:00.564421 seconds=========\u001b[37m\n"
          ]
        }
      ],
      "source": [
        "#\n",
        "# Step 13 - Run the query that filters out the view ratings with average price of greater than or equal to $350,000 with the parquet DataFrame. Round your average to two decimal places.\n",
        "#\n",
        "\n",
        "start_time         = datetime.datetime.now()\n",
        "logStep(\"STEP 13 - REPEAT QUERY=================================\")\n",
        "print(Fore.GREEN)\n",
        "\n",
        "spark.sql(\"SELECT view as VIEW, \\\n",
        "                  ROUND(AVG(price),2) AS AVERAGE \\\n",
        "             FROM parquet_temp_home \\\n",
        "             GROUP BY view \\\n",
        "           HAVING ROUND(AVG(price),2) >= 350000 \\\n",
        "           ORDER BY view\").show()\n",
        "\n",
        "end_time           = datetime.datetime.now()\n",
        "logStep(\"STEP 13 - DONE=========================================\")\n",
        "step13_elapsed_time = end_time - start_time\n",
        "logStep(F\"STEP 13 - ELAPSED TIME: {step13_elapsed_time} seconds=========\")"
      ]
    },
    {
      "cell_type": "code",
      "execution_count": 37,
      "metadata": {
        "colab": {
          "base_uri": "https://localhost:8080/"
        },
        "id": "oEkIu5yYuWlW",
        "outputId": "ffdcb679-cf0d-47ee-b8b0-b73f3ac7a9db"
      },
      "outputs": [
        {
          "output_type": "stream",
          "name": "stdout",
          "text": [
            "\u001b[37m2023-09-04 22:47:13.736739 \u001b[33mSTEP 13.1 - RUNTIME DIFFERENCE ========================\u001b[37m\n",
            "\u001b[32m\n",
            "Time required for a non-cached Query    : 0:00:01.433867\n",
            "Time required for a parquet cached Query: 0:00:00.564421\n",
            "Time difference                         : 0:00:00.869446\n",
            "\u001b[32m\n",
            "\u001b[37m2023-09-04 22:47:13.740055 \u001b[33mSTEP 13.1 - DONE=======================================\u001b[37m\n",
            "\u001b[37m2023-09-04 22:47:13.741566 \u001b[33mSTEP 13.1 - ELAPSED TIME: 0:00:00.003354 seconds=======\u001b[37m\n"
          ]
        }
      ],
      "source": [
        "#\n",
        "# Step 13.1 - Determine the runtime and compare it to the cached version.\n",
        "#\n",
        "\n",
        "start_time         = datetime.datetime.now()\n",
        "logStep(\"STEP 13.1 - RUNTIME DIFFERENCE ========================\")\n",
        "print(Fore.GREEN)\n",
        "print(F\"Time required for a non-cached Query    : {step6_elapsed_time}\")\n",
        "print(F\"Time required for a parquet cached Query: {step13_elapsed_time}\")\n",
        "time_difference = step6_elapsed_time - step13_elapsed_time\n",
        "print(F\"Time difference                         : {time_difference}\")\n",
        "print(Fore.GREEN)\n",
        "end_time           = datetime.datetime.now()\n",
        "logStep(\"STEP 13.1 - DONE=======================================\")\n",
        "step131_elapsed_time = end_time - start_time\n",
        "logStep(F\"STEP 13.1 - ELAPSED TIME: {step131_elapsed_time} seconds=======\")"
      ]
    },
    {
      "cell_type": "code",
      "execution_count": 38,
      "metadata": {
        "colab": {
          "base_uri": "https://localhost:8080/"
        },
        "id": "hjjYzQGjtbq8",
        "outputId": "8dffb0bf-ad67-4468-d40a-a17741f1c7bb"
      },
      "outputs": [
        {
          "output_type": "stream",
          "name": "stdout",
          "text": [
            "\u001b[37m2023-09-04 22:47:13.753919 \u001b[33mSTEP 14 - UN-CACHE=====================================\u001b[37m\n",
            "\u001b[32m\n",
            "\u001b[37m2023-09-04 22:47:13.780680 \u001b[33mSTEP 14 - DONE=========================================\u001b[37m\n",
            "\u001b[37m2023-09-04 22:47:13.782286 \u001b[33mSTEP 14 - ELAPSED TIME: 0:00:00.026760 seconds=========\u001b[37m\n"
          ]
        }
      ],
      "source": [
        "#\n",
        "# 14. Un-cache the home_sales temporary table.\n",
        "#\n",
        "\n",
        "start_time         = datetime.datetime.now()\n",
        "logStep(\"STEP 14 - UN-CACHE=====================================\")\n",
        "print(Fore.GREEN)\n",
        "\n",
        "spark.sql(\"uncache table home_sales\")\n",
        "\n",
        "end_time           = datetime.datetime.now()\n",
        "logStep(\"STEP 14 - DONE=========================================\")\n",
        "step14_elapsed_time = end_time - start_time\n",
        "logStep(F\"STEP 14 - ELAPSED TIME: {step14_elapsed_time} seconds=========\")"
      ]
    },
    {
      "cell_type": "code",
      "execution_count": 39,
      "metadata": {
        "colab": {
          "base_uri": "https://localhost:8080/"
        },
        "id": "Sy9NBvO7tlmm",
        "outputId": "8aa2d9ce-a3e1-4a53-9912-9b5e63474e22"
      },
      "outputs": [
        {
          "output_type": "stream",
          "name": "stdout",
          "text": [
            "\u001b[37m2023-09-04 22:47:13.793801 \u001b[33mSTEP 15 - CACHE= CHECK=================================\u001b[37m\n",
            "\u001b[32m\n",
            "home_sales is not cached\n",
            "\u001b[32m\n",
            "\u001b[37m2023-09-04 22:47:13.808059 \u001b[33mSTEP 15 - DONE=========================================\u001b[37m\n",
            "\u001b[37m2023-09-04 22:47:13.811154 \u001b[33mSTEP 15 - ELAPSED TIME: 0:00:00.014259 seconds=========\u001b[37m\n"
          ]
        }
      ],
      "source": [
        "#\n",
        "# Step 15. Check if the home_sales is no longer cached\n",
        "#\n",
        "start_time         = datetime.datetime.now()\n",
        "logStep(\"STEP 15 - CACHE= CHECK=================================\")\n",
        "print(Fore.GREEN)\n",
        "\n",
        "if (spark.catalog.isCached('home_sales') == False):\n",
        "    print(\"home_sales is not cached\")\n",
        "else:\n",
        "    print(\"home_sales is cached\")\n",
        "print(Fore.GREEN)\n",
        "\n",
        "end_time           = datetime.datetime.now()\n",
        "logStep(\"STEP 15 - DONE=========================================\")\n",
        "step15_elapsed_time = end_time - start_time\n",
        "logStep(F\"STEP 15 - ELAPSED TIME: {step15_elapsed_time} seconds=========\")\n"
      ]
    },
    {
      "cell_type": "code",
      "execution_count": 40,
      "metadata": {
        "colab": {
          "base_uri": "https://localhost:8080/"
        },
        "id": "vBGDrQnjJZca",
        "outputId": "4a26d2a0-84c4-4886-d396-5bc703655572"
      },
      "outputs": [
        {
          "output_type": "stream",
          "name": "stdout",
          "text": [
            "\u001b[37m2023-09-04 22:47:13.828006 \u001b[33m=========TOTAL RUN TIME================================\u001b[37m\n",
            "\u001b[32m\n",
            "Total Runtime, per Step\n",
            "\n",
            "Step  0:   0:00:00.022705 seconds\n",
            "Step  1:   0:00:01.089260 seconds\n",
            "Step  2:   0:00:00.054797 seconds\n",
            "Step  3:   0:00:01.241460 seconds\n",
            "Step  4:   0:00:01.296885 seconds\n",
            "Step  5:   0:00:01.543062 seconds\n",
            "\u001b[31mStep  6:   0:00:01.433867 seconds - non-cached query\u001b[32m\n",
            "\u001b[32mStep  7:   0:00:02.428916 seconds\n",
            "Step  8:   0:00:00.023028 seconds\n",
            "\u001b[31mStep  9:   0:00:00.659833 seconds - cached query\n",
            "\u001b[32mStep  9.1: 0:00:00.004246 seconds\n",
            "Step 10:   0:00:02.628984 seconds\n",
            "Step 11:   0:00:00.680673 seconds\n",
            "Step 12:   0:00:00.215039 seconds\n",
            "\u001b[31mStep 13:   0:00:00.564421 seconds - parquet cached query\n",
            "\u001b[32mStep 13.1: 0:00:00.003354 seconds\n",
            "Step 14:   0:00:00.026760 seconds\n",
            "Step 15:   0:00:00.014259 seconds\n",
            "\u001b[33mTotal  :   0:00:13.931549 seconds\n",
            "\n",
            "\u001b[32mRuntime Reduction\n",
            "\n",
            "\u001b[31mCached Query Reduction  : 53.98%\n",
            "Parquet Query Reduction : 60.64%\n",
            "\n",
            "\u001b[37m2023-09-04 22:47:13.840328 \u001b[33m=========END============================================\u001b[37m\n"
          ]
        }
      ],
      "source": [
        "logStep(\"=========TOTAL RUN TIME================================\")\n",
        "print(Fore.GREEN)\n",
        "print('Total Runtime, per Step')\n",
        "print('')\n",
        "print(F\"Step  0:   {step0_elapsed_time} seconds\")\n",
        "print(F\"Step  1:   {step1_elapsed_time} seconds\")\n",
        "print(F\"Step  2:   {step2_elapsed_time} seconds\")\n",
        "print(F\"Step  3:   {step3_elapsed_time} seconds\")\n",
        "print(F\"Step  4:   {step4_elapsed_time} seconds\")\n",
        "print(F\"Step  5:   {step5_elapsed_time} seconds\")\n",
        "print(F\"{Fore.RED}Step  6:   {step6_elapsed_time} seconds - non-cached query{Fore.GREEN}\")\n",
        "print(F\"{Fore.GREEN}Step  7:   {step7_elapsed_time} seconds\")\n",
        "print(F\"Step  8:   {step8_elapsed_time} seconds\")\n",
        "print(F\"{Fore.RED}Step  9:   {step9_elapsed_time} seconds - cached query\")\n",
        "print(F\"{Fore.GREEN}Step  9.1: {step91_elapsed_time} seconds\")\n",
        "print(F\"Step 10:   {step10_elapsed_time} seconds\")\n",
        "print(F\"Step 11:   {step11_elapsed_time} seconds\")\n",
        "print(F\"Step 12:   {step12_elapsed_time} seconds\")\n",
        "print(F\"{Fore.RED}Step 13:   {step13_elapsed_time} seconds - parquet cached query\")\n",
        "print(F\"{Fore.GREEN}Step 13.1: {step131_elapsed_time} seconds\")\n",
        "print(F\"Step 14:   {step14_elapsed_time} seconds\")\n",
        "print(F\"Step 15:   {step15_elapsed_time} seconds\")\n",
        "print(F\"{Fore.YELLOW}Total  :   {step0_elapsed_time + step1_elapsed_time + step2_elapsed_time + step3_elapsed_time + step4_elapsed_time + step5_elapsed_time + step6_elapsed_time + step7_elapsed_time + step8_elapsed_time + step9_elapsed_time + step91_elapsed_time + step10_elapsed_time + step11_elapsed_time + step12_elapsed_time + step13_elapsed_time + step131_elapsed_time + step14_elapsed_time + step15_elapsed_time} seconds\")\n",
        "print('')\n",
        "print(Fore.GREEN + 'Runtime Reduction')\n",
        "print('')\n",
        "print(F'{Fore.RED}Cached Query Reduction  : {100-(step9_elapsed_time/step6_elapsed_time*100):.2f}%')\n",
        "print(F'Parquet Query Reduction : {100-(step13_elapsed_time/step6_elapsed_time*100):.2f}%')\n",
        "print('')\n",
        "logStep(\"=========END============================================\")"
      ]
    }
  ],
  "metadata": {
    "colab": {
      "provenance": []
    },
    "gpuClass": "standard",
    "kernelspec": {
      "display_name": "Python 3 (ipykernel)",
      "language": "python",
      "name": "python3"
    },
    "language_info": {
      "codemirror_mode": {
        "name": "ipython",
        "version": 3
      },
      "file_extension": ".py",
      "mimetype": "text/x-python",
      "name": "python",
      "nbconvert_exporter": "python",
      "pygments_lexer": "ipython3",
      "version": "3.10.8"
    },
    "nteract": {
      "version": "0.28.0"
    }
  },
  "nbformat": 4,
  "nbformat_minor": 0
}