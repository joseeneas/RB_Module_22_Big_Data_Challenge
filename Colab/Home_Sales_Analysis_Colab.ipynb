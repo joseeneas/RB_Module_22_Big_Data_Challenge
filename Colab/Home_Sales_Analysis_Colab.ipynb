{
  "cells": [
    {
      "cell_type": "markdown",
      "metadata": {
        "id": "sZlWhOE3JZb4"
      },
      "source": [
        "# MODULE 22 - BIG DATA ANALYSIS WITH SPARK"
      ]
    },
    {
      "cell_type": "markdown",
      "metadata": {
        "id": "c1au99tFJZb6"
      },
      "source": [
        "Step 0 - Environment Setup\n"
      ]
    },
    {
      "cell_type": "code",
      "execution_count": 1,
      "metadata": {
        "colab": {
          "base_uri": "https://localhost:8080/"
        },
        "id": "Oa3EJlGgJZb7",
        "outputId": "f13977c5-4de4-48e1-ffb2-d41301047dc2"
      },
      "outputs": [
        {
          "output_type": "stream",
          "name": "stdout",
          "text": [
            "\r0% [Working]\r            \rHit:1 http://archive.ubuntu.com/ubuntu jammy InRelease\n",
            "\r0% [Waiting for headers] [Waiting for headers] [Waiting for headers] [Connectin\r                                                                               \rGet:2 http://security.ubuntu.com/ubuntu jammy-security InRelease [110 kB]\n",
            "\r                                                                               \rGet:3 https://cloud.r-project.org/bin/linux/ubuntu jammy-cran40/ InRelease [3,626 B]\n",
            "\r0% [Waiting for headers] [2 InRelease 14.2 kB/110 kB 13%] [Connecting to ppa.la\r                                                                               \rGet:4 http://archive.ubuntu.com/ubuntu jammy-updates InRelease [119 kB]\n",
            "Hit:5 https://developer.download.nvidia.com/compute/cuda/repos/ubuntu2204/x86_64  InRelease\n",
            "Get:6 http://archive.ubuntu.com/ubuntu jammy-backports InRelease [109 kB]\n",
            "Get:7 http://security.ubuntu.com/ubuntu jammy-security/main amd64 Packages [915 kB]\n",
            "Hit:8 https://ppa.launchpadcontent.net/c2d4u.team/c2d4u4.0+/ubuntu jammy InRelease\n",
            "Get:9 http://archive.ubuntu.com/ubuntu jammy-updates/main amd64 Packages [1,185 kB]\n",
            "Get:10 http://security.ubuntu.com/ubuntu jammy-security/restricted amd64 Packages [995 kB]\n",
            "Get:11 http://archive.ubuntu.com/ubuntu jammy-updates/universe amd64 Packages [1,251 kB]\n",
            "Get:12 http://archive.ubuntu.com/ubuntu jammy-updates/restricted amd64 Packages [1,015 kB]\n",
            "Get:13 http://archive.ubuntu.com/ubuntu jammy-backports/universe amd64 Packages [28.1 kB]\n",
            "Get:14 http://archive.ubuntu.com/ubuntu jammy-backports/main amd64 Packages [50.3 kB]\n",
            "Hit:15 https://ppa.launchpadcontent.net/deadsnakes/ppa/ubuntu jammy InRelease\n",
            "Get:16 https://ppa.launchpadcontent.net/graphics-drivers/ppa/ubuntu jammy InRelease [24.3 kB]\n",
            "Hit:17 https://ppa.launchpadcontent.net/ubuntugis/ppa/ubuntu jammy InRelease\n",
            "Get:18 https://ppa.launchpadcontent.net/graphics-drivers/ppa/ubuntu jammy/main amd64 Packages [37.3 kB]\n",
            "Fetched 5,843 kB in 3s (2,234 kB/s)\n",
            "Reading package lists... Done\n",
            "Collecting colorama\n",
            "  Downloading colorama-0.4.6-py2.py3-none-any.whl (25 kB)\n",
            "Installing collected packages: colorama\n",
            "Successfully installed colorama-0.4.6\n"
          ]
        }
      ],
      "source": [
        "import os\n",
        "# Find the latest version of spark 3.x  from http://www.apache.org/dist/spark/ and enter as the spark version\n",
        "# For example:\n",
        "# spark_version = 'spark-3.4.0'\n",
        "spark_version = 'spark-3.4.1'\n",
        "os.environ['SPARK_VERSION']=spark_version\n",
        "\n",
        "# Install Spark and Java\n",
        "!apt-get update\n",
        "!apt-get install openjdk-11-jdk-headless -qq > /dev/null\n",
        "!wget -q http://www.apache.org/dist/spark/$SPARK_VERSION/$SPARK_VERSION-bin-hadoop3.tgz\n",
        "!tar xf $SPARK_VERSION-bin-hadoop3.tgz\n",
        "!pip install -q findspark\n",
        "!pip install colorama\n",
        "\n",
        "# Set Environment Variables\n",
        "os.environ[\"JAVA_HOME\"] = \"/usr/lib/jvm/java-11-openjdk-amd64\"\n",
        "os.environ[\"SPARK_HOME\"] = f\"/content/{spark_version}-bin-hadoop3\""
      ]
    },
    {
      "cell_type": "code",
      "execution_count": 3,
      "metadata": {
        "colab": {
          "base_uri": "https://localhost:8080/"
        },
        "id": "a_KW73O2e3dw",
        "notebookRunGroups": {
          "groupValue": ""
        },
        "outputId": "98afda13-671f-4ca2-e18b-f9a22b89b470"
      },
      "outputs": [
        {
          "output_type": "stream",
          "name": "stdout",
          "text": [
            "Collecting pyspark\n",
            "  Downloading pyspark-3.4.1.tar.gz (310.8 MB)\n",
            "\u001b[2K     \u001b[90m━━━━━━━━━━━━━━━━━━━━━━━━━━━━━━━━━━━━━━━\u001b[0m \u001b[32m310.8/310.8 MB\u001b[0m \u001b[31m4.5 MB/s\u001b[0m eta \u001b[36m0:00:00\u001b[0m\n",
            "\u001b[?25h  Preparing metadata (setup.py) ... \u001b[?25l\u001b[?25hdone\n",
            "Requirement already satisfied: py4j==0.10.9.7 in /usr/local/lib/python3.10/dist-packages (from pyspark) (0.10.9.7)\n",
            "Building wheels for collected packages: pyspark\n",
            "  Building wheel for pyspark (setup.py) ... \u001b[?25l\u001b[?25hdone\n",
            "  Created wheel for pyspark: filename=pyspark-3.4.1-py2.py3-none-any.whl size=311285387 sha256=eecc61dabd964579e2774cba0cb468f450eb524b756f4d12748bedab2e1572cb\n",
            "  Stored in directory: /root/.cache/pip/wheels/0d/77/a3/ff2f74cc9ab41f8f594dabf0579c2a7c6de920d584206e0834\n",
            "Successfully built pyspark\n",
            "Installing collected packages: pyspark\n",
            "Successfully installed pyspark-3.4.1\n",
            "\u001b[37m2023-09-04 03:05:50.729402 \u001b[33mSTEP 0 - ENVIRONMENT PREPARATION======================\u001b[37m\n",
            "\u001b[37m2023-09-04 03:05:50.786270 \u001b[33mSTEP 0 - DONE=========================================\u001b[37m\n",
            "\u001b[37m2023-09-04 03:05:50.787657 \u001b[33mSTEP 0 - ELAPSED TIME: 0:00:00.058191 seconds=========\u001b[37m\n"
          ]
        }
      ],
      "source": [
        "#\n",
        "# Step 0 - Environment Setup\n",
        "#\n",
        "!pip install pyspark\n",
        "\n",
        "import sys\n",
        "from   colorama import Fore\n",
        "import datetime\n",
        "\n",
        "def logStep(msg):\n",
        "    print(Fore.WHITE + str(datetime.datetime.now()) + ' ' + Fore.YELLOW + msg + Fore.WHITE)\n",
        "    sys.stdout.flush()\n",
        "\n",
        "start_time = datetime.datetime.now()\n",
        "logStep('STEP 0 - ENVIRONMENT PREPARATION======================')\n",
        "\n",
        "import warnings\n",
        "import findspark\n",
        "from   pyspark     import SparkFiles\n",
        "from   pyspark.sql import SparkSession\n",
        "\n",
        "warnings.filterwarnings('ignore')\n",
        "\n",
        "logStep(\"STEP 0 - DONE=========================================\");\n",
        "end_time           = datetime.datetime.now()\n",
        "step0_elapsed_time = end_time - start_time\n",
        "logStep(F\"STEP 0 - ELAPSED TIME: {step0_elapsed_time} seconds=========\")"
      ]
    },
    {
      "cell_type": "markdown",
      "metadata": {
        "id": "Zhf45DUdJZb8"
      },
      "source": [
        "Step 1 - Read in the source file into a DataFrame"
      ]
    },
    {
      "cell_type": "code",
      "execution_count": 4,
      "metadata": {
        "colab": {
          "base_uri": "https://localhost:8080/"
        },
        "id": "wOJqxG_RPSwp",
        "outputId": "71c7d634-9f7f-4037-d95e-3786b8db87a7"
      },
      "outputs": [
        {
          "output_type": "stream",
          "name": "stdout",
          "text": [
            "\u001b[37m2023-09-04 03:05:55.717692 \u001b[33mSTEP 1 - READ SOURCE DATA=============================\u001b[37m\n",
            "\u001b[32m\n",
            "+--------------------+----------+----------+------+--------+---------+-----------+--------+------+----------+----+\n",
            "|                  id|      date|date_built| price|bedrooms|bathrooms|sqft_living|sqft_lot|floors|waterfront|view|\n",
            "+--------------------+----------+----------+------+--------+---------+-----------+--------+------+----------+----+\n",
            "|f8a53099-ba1c-47d...|2022-04-08|      2016|936923|       4|        3|       3167|   11733|     2|         1|  76|\n",
            "|7530a2d8-1ae3-451...|2021-06-13|      2013|379628|       2|        2|       2235|   14384|     1|         0|  23|\n",
            "|43de979c-0bf0-4c9...|2019-04-12|      2014|417866|       2|        2|       2127|   10575|     2|         0|   0|\n",
            "|b672c137-b88c-48b...|2019-10-16|      2016|239895|       2|        2|       1631|   11149|     2|         0|   0|\n",
            "|e0726d4d-d595-407...|2022-01-08|      2017|424418|       3|        2|       2249|   13878|     2|         0|   4|\n",
            "|5aa00529-0533-46b...|2019-01-30|      2017|218712|       2|        3|       1965|   14375|     2|         0|   7|\n",
            "|131492a1-72e2-4a8...|2020-02-08|      2017|419199|       2|        3|       2062|    8876|     2|         0|   6|\n",
            "|8d54a71b-c520-44e...|2019-07-21|      2010|323956|       2|        3|       1506|   11816|     1|         0|  25|\n",
            "|e81aacfe-17fe-46b...|2020-06-16|      2016|181925|       3|        3|       2137|   11709|     2|         0|  22|\n",
            "|2ed8d509-7372-46d...|2021-08-06|      2015|258710|       3|        3|       1918|    9666|     1|         0|  25|\n",
            "|f876d86f-3c9f-42b...|2019-02-27|      2011|167864|       3|        3|       2471|   13924|     2|         0|  15|\n",
            "|0a2bd445-8508-4d8...|2021-12-30|      2014|337527|       2|        3|       1926|   12556|     1|         0|  23|\n",
            "|941bad30-eb49-4a7...|2020-05-09|      2015|229896|       3|        3|       2197|    8641|     1|         0|   3|\n",
            "|dd61eb34-6589-4c0...|2021-07-25|      2016|210247|       3|        2|       1672|   11986|     2|         0|  28|\n",
            "|f1e4cef7-d151-439...|2019-02-01|      2011|398667|       2|        3|       2331|   11356|     1|         0|   7|\n",
            "|ea620c7b-c2f7-4c6...|2021-05-31|      2011|437958|       3|        3|       2356|   11052|     1|         0|  26|\n",
            "|f233cb41-6f33-4b0...|2021-07-18|      2016|437375|       4|        3|       1704|   11721|     2|         0|  34|\n",
            "|c797ca12-52cd-4b1...|2019-06-08|      2015|288650|       2|        3|       2100|   10419|     2|         0|   7|\n",
            "|0cfe57f3-28c2-472...|2019-10-04|      2015|308313|       3|        3|       1960|    9453|     2|         0|   2|\n",
            "|4566cd2a-ac6e-435...|2019-07-15|      2016|177541|       3|        3|       2130|   10517|     2|         0|  25|\n",
            "+--------------------+----------+----------+------+--------+---------+-----------+--------+------+----------+----+\n",
            "only showing top 20 rows\n",
            "\n",
            "\u001b[37m2023-09-04 03:06:09.019377 \u001b[33mSTEP 1 - DONE=========================================\u001b[37m\n",
            "\u001b[37m2023-09-04 03:06:09.026120 \u001b[33mSTEP 1 - ELAPSED TIME: 0:00:13.308183 seconds=========\u001b[37m\n"
          ]
        }
      ],
      "source": [
        "#\n",
        "# Step 1 - Read in the source file into a DataFrame.\n",
        "#\n",
        "\n",
        "start_time = datetime.datetime.now()\n",
        "logStep(\"STEP 1 - READ SOURCE DATA=============================\");\n",
        "print(Fore.GREEN)\n",
        "findspark.init()\n",
        "spark = SparkSession.builder.appName(\"SparkSQL\").getOrCreate()\n",
        "\n",
        "url = \"https://2u-data-curriculum-team.s3.amazonaws.com/dataviz-classroom/v1.2/22-big-data/home_sales_revised.csv\"\n",
        "\n",
        "spark.sparkContext.addFile(url)\n",
        "home_df = spark.read.csv(SparkFiles.get(\"home_sales_revised.csv\"), sep=\",\", header=True, ignoreLeadingWhiteSpace=True)\n",
        "home_df.show()\n",
        "\n",
        "logStep(\"STEP 1 - DONE=========================================\");\n",
        "end_time           = datetime.datetime.now()\n",
        "step1_elapsed_time = end_time - start_time\n",
        "logStep(F\"STEP 1 - ELAPSED TIME: {step1_elapsed_time} seconds=========\")"
      ]
    },
    {
      "cell_type": "markdown",
      "metadata": {
        "id": "9YUNnUsyJZb9"
      },
      "source": [
        "Step 2 - Create a temporary view of the DataFrame."
      ]
    },
    {
      "cell_type": "code",
      "execution_count": 5,
      "metadata": {
        "id": "RoljcJ7WPpnm",
        "colab": {
          "base_uri": "https://localhost:8080/"
        },
        "outputId": "f612d3ca-a2a8-48b0-dc3e-30aae4a4260c"
      },
      "outputs": [
        {
          "output_type": "stream",
          "name": "stdout",
          "text": [
            "\u001b[37m2023-09-04 03:06:13.238143 \u001b[33mSTEP 2 - CREATE A TEMPORARY VIEW======================\u001b[37m\n",
            "\u001b[32m\n",
            "\u001b[37m2023-09-04 03:06:13.288527 \u001b[33mSTEP 2 - DONE=========================================\u001b[37m\n",
            "\u001b[37m2023-09-04 03:06:13.289923 \u001b[33mSTEP 2 - ELAPSED TIME: 0:00:00.051701 seconds=========\u001b[37m\n"
          ]
        }
      ],
      "source": [
        "#\n",
        "# Step 2 - Create a temporary view of the DataFrame.\n",
        "#\n",
        "\n",
        "start_time         = datetime.datetime.now()\n",
        "logStep(\"STEP 2 - CREATE A TEMPORARY VIEW======================\")\n",
        "print(Fore.GREEN)\n",
        "\n",
        "home_df.createOrReplaceTempView('home_sales')\n",
        "\n",
        "logStep(\"STEP 2 - DONE=========================================\")\n",
        "end_time           = datetime.datetime.now()\n",
        "step2_elapsed_time = end_time - start_time\n",
        "logStep(F\"STEP 2 - ELAPSED TIME: {step2_elapsed_time} seconds=========\")"
      ]
    },
    {
      "cell_type": "markdown",
      "metadata": {
        "id": "FPHFVKO1JZb-"
      },
      "source": [
        "Step 3 - What is the average price for a four bedroom house sold in each year rounded to two decimal places?\n"
      ]
    },
    {
      "cell_type": "code",
      "execution_count": 6,
      "metadata": {
        "colab": {
          "base_uri": "https://localhost:8080/"
        },
        "id": "L6fkwOeOmqvq",
        "outputId": "7bee54a9-7715-486a-cf4f-031b5114b00c"
      },
      "outputs": [
        {
          "output_type": "stream",
          "name": "stdout",
          "text": [
            "\u001b[37m2023-09-04 03:06:16.889844 \u001b[33mSTEP 3 - WHAT IS THE AVERAGE PRICE?=4BR===============\u001b[37m\n",
            "\u001b[32m\n",
            "+----+---------+\n",
            "|YEAR|  AVERAGE|\n",
            "+----+---------+\n",
            "|2022|296363.88|\n",
            "|2021|301819.44|\n",
            "|2020|298353.78|\n",
            "|2019| 300263.7|\n",
            "+----+---------+\n",
            "\n",
            "\u001b[37m2023-09-04 03:06:19.267095 \u001b[33mSTEP 3 - DONE=========================================\u001b[37m\n",
            "\u001b[37m2023-09-04 03:06:19.268530 \u001b[33mSTEP 3 - ELAPSED TIME: 0:00:02.378606 seconds=========\u001b[37m\n"
          ]
        }
      ],
      "source": [
        "#\n",
        "# Step 3 - What is the average price for a four bedroom house sold in each year rounded to two decimal places?\n",
        "#\n",
        "\n",
        "start_time         = datetime.datetime.now()\n",
        "logStep(\"STEP 3 - WHAT IS THE AVERAGE PRICE?=4BR===============\")\n",
        "print(Fore.GREEN)\n",
        "\n",
        "spark.sql(\"SELECT YEAR(date)          as YEAR, \\\n",
        "                  ROUND(AVG(price),2) as AVERAGE \\\n",
        "             FROM home_sales WHERE bedrooms == 4 \\\n",
        "                  GROUP BY YEAR(date) \\\n",
        "                  ORDER BY YEAR(date) desc\").show()\n",
        "\n",
        "logStep(\"STEP 3 - DONE=========================================\")\n",
        "end_time           = datetime.datetime.now()\n",
        "step3_elapsed_time = end_time - start_time\n",
        "logStep(F\"STEP 3 - ELAPSED TIME: {step3_elapsed_time} seconds=========\")"
      ]
    },
    {
      "cell_type": "markdown",
      "metadata": {
        "id": "MKu5xocIJZcW"
      },
      "source": [
        "Set 4 - What is the average price of a home for each year the home was built that have 3 bedrooms and 3 bathrooms rounded to two decimal places?"
      ]
    },
    {
      "cell_type": "code",
      "execution_count": 7,
      "metadata": {
        "colab": {
          "base_uri": "https://localhost:8080/"
        },
        "id": "l8p_tUS8h8it",
        "outputId": "6baba307-549d-4b86-b71d-29c47b8091e8"
      },
      "outputs": [
        {
          "output_type": "stream",
          "name": "stdout",
          "text": [
            "\u001b[37m2023-09-04 03:06:23.105099 \u001b[33mSTEP 4 - WHAT IS THE AVERAGE PRICE?=3BR/3B============\u001b[37m\n",
            "\u001b[32m\n",
            "+----+---------+\n",
            "|YEAR|  AVERAGE|\n",
            "+----+---------+\n",
            "|2017|292676.79|\n",
            "|2016|290555.07|\n",
            "|2015| 288770.3|\n",
            "|2014|290852.27|\n",
            "|2013|295962.27|\n",
            "|2012|293683.19|\n",
            "|2011|291117.47|\n",
            "|2010|292859.62|\n",
            "+----+---------+\n",
            "\n",
            "\u001b[37m2023-09-04 03:06:23.753174 \u001b[33mSTEP 4 - DONE=========================================\u001b[37m\n",
            "\u001b[37m2023-09-04 03:06:23.755434 \u001b[33mSTEP 4 - ELAPSED TIME: 0:00:00.648040 seconds=========\u001b[37m\n"
          ]
        }
      ],
      "source": [
        "#\n",
        "# 4. What is the average price of a home for each year the home was built that have 3 bedrooms and 3 bathrooms rounded to two decimal places?\n",
        "#\n",
        "\n",
        "start_time         = datetime.datetime.now()\n",
        "logStep(\"STEP 4 - WHAT IS THE AVERAGE PRICE?=3BR/3B============\")\n",
        "print(Fore.GREEN)\n",
        "\n",
        "spark.sql(\"SELECT date_built as YEAR , \\\n",
        "                  ROUND(AVG(price),2) as AVERAGE  \\\n",
        "             FROM home_sales WHERE bedrooms == 3 AND \\\n",
        "                                   bathrooms == 3 \\\n",
        "                  GROUP BY date_built \\\n",
        "                  ORDER BY date_built desc\").show()\n",
        "\n",
        "end_time           = datetime.datetime.now()\n",
        "logStep(\"STEP 4 - DONE=========================================\")\n",
        "step4_elapsed_time = end_time - start_time\n",
        "logStep(F\"STEP 4 - ELAPSED TIME: {step4_elapsed_time} seconds=========\")\n"
      ]
    },
    {
      "cell_type": "markdown",
      "metadata": {
        "id": "_UOPUq_MJZcW"
      },
      "source": [
        "Step 5 - What is the average price of a home for each year built that have 3 bedrooms, 3 bathrooms, with two floors, and are greater than or equal to 2,000 square feet rounded to two decimal places?"
      ]
    },
    {
      "cell_type": "code",
      "execution_count": 8,
      "metadata": {
        "colab": {
          "base_uri": "https://localhost:8080/"
        },
        "id": "Y-Eytz64liDU",
        "outputId": "baf54bb1-3ff6-4f30-9f7f-ae27fbac5afe"
      },
      "outputs": [
        {
          "output_type": "stream",
          "name": "stdout",
          "text": [
            "\u001b[37m2023-09-04 03:06:28.504590 \u001b[33mSTEP 5 - WHAT IS THE AVERAGE PRICE?=3R/3/2============\u001b[37m\n",
            "\u001b[32m\n",
            "+----+---------+\n",
            "|YEAR|  AVERAGE|\n",
            "+----+---------+\n",
            "|2017|280317.58|\n",
            "|2016| 293965.1|\n",
            "|2015|297609.97|\n",
            "|2014|298264.72|\n",
            "|2013|303676.79|\n",
            "|2012|307539.97|\n",
            "|2011|276553.81|\n",
            "|2010|285010.22|\n",
            "+----+---------+\n",
            "\n",
            "\u001b[37m2023-09-04 03:06:29.778376 \u001b[33mSTEP 5 - DONE=========================================\u001b[37m\n",
            "\u001b[37m2023-09-04 03:06:29.785157 \u001b[33mSTEP 5 - ELAPSED TIME: 0:00:01.273759 seconds=========\u001b[37m\n"
          ]
        }
      ],
      "source": [
        "#\n",
        "# Step 5 - What is the average price of a home for each year built that have 3 bedrooms, 3 bathrooms, with two floors,\n",
        "# and are greater than or equal to 2,000 square feet rounded to two decimal places?\n",
        "#\n",
        "\n",
        "start_time         = datetime.datetime.now()\n",
        "logStep(\"STEP 5 - WHAT IS THE AVERAGE PRICE?=3R/3/2============\")\n",
        "print(Fore.GREEN)\n",
        "\n",
        "spark.sql(\"SELECT date_built as YEAR, \\\n",
        "           ROUND(AVG(price),2) as AVERAGE from home_sales \\\n",
        "           where bedrooms  == 3 AND \\\n",
        "                 bathrooms == 3 AND \\\n",
        "                    floors == 2 AND \\\n",
        "               sqft_living >= 2000 \\\n",
        "                 group by date_built \\\n",
        "                 order by date_built desc\").show()\n",
        "\n",
        "end_time           = datetime.datetime.now()\n",
        "logStep(\"STEP 5 - DONE=========================================\")\n",
        "step5_elapsed_time = end_time - start_time\n",
        "logStep(F\"STEP 5 - ELAPSED TIME: {step5_elapsed_time} seconds=========\")\n"
      ]
    },
    {
      "cell_type": "markdown",
      "metadata": {
        "id": "VVyZ4j29JZcX"
      },
      "source": [
        "Step 6 - What is the \"view\" rating for the average price of a home, rounded to two decimal places, where the homes are greater than or equal to $350,000? Although this is a small dataset, determine the run time for this query."
      ]
    },
    {
      "cell_type": "code",
      "execution_count": 9,
      "metadata": {
        "colab": {
          "base_uri": "https://localhost:8080/"
        },
        "id": "GUrfgOX1pCRd",
        "outputId": "aba2e0a1-49d1-4c02-dc32-3d0d1670b8b8"
      },
      "outputs": [
        {
          "output_type": "stream",
          "name": "stdout",
          "text": [
            "\u001b[37m2023-09-04 03:06:34.244271 \u001b[33mSTEP 6 - WHAT IS THE AVERAGE PRICE?=300K==============\u001b[37m\n",
            "\u001b[32m\n",
            "+----+---------+\n",
            "|VIEW|  AVERAGE|\n",
            "+----+---------+\n",
            "| 100|1026669.5|\n",
            "|  51|788128.21|\n",
            "|  52|733780.26|\n",
            "|  53| 755214.8|\n",
            "|  54|798684.82|\n",
            "|  55|771153.32|\n",
            "|  56| 718176.4|\n",
            "|  57| 734340.5|\n",
            "|  58|759764.65|\n",
            "|  59| 791453.0|\n",
            "|  60|754939.65|\n",
            "|  61|746877.59|\n",
            "|  62|759150.14|\n",
            "|  63|711614.55|\n",
            "|  64|767036.67|\n",
            "|  65|736679.93|\n",
            "|  66| 712475.0|\n",
            "|  67|737970.96|\n",
            "|  68|716785.44|\n",
            "|  69|750537.94|\n",
            "+----+---------+\n",
            "only showing top 20 rows\n",
            "\n",
            "\u001b[37m2023-09-04 03:06:34.969393 \u001b[33mSTEP 6 - DONE=========================================\u001b[37m\n",
            "\u001b[37m2023-09-04 03:06:34.975122 \u001b[33mSTEP 6 - ELAPSED TIME: 0:00:00.725098 seconds=========\u001b[37m\n"
          ]
        }
      ],
      "source": [
        "#\n",
        "# Ste 6 - What is the \"view\" rating for the average price of a home, rounded to two decimal places, where the homes are greater than or equal to $350,000? Although this is a small dataset, determine the run time for this query.\n",
        "#\n",
        "\n",
        "start_time         = datetime.datetime.now()\n",
        "logStep(\"STEP 6 - WHAT IS THE AVERAGE PRICE?=300K==============\")\n",
        "print(Fore.GREEN)\n",
        "\n",
        "spark.sql(\"SELECT view as VIEW, \\\n",
        "                  ROUND(AVG(price),2) AS AVERAGE \\\n",
        "             FROM home_sales \\\n",
        "             GROUP BY view \\\n",
        "           HAVING ROUND(AVG(price),2) >= 350000 \\\n",
        "           ORDER BY view\").show()\n",
        "\n",
        "end_time           = datetime.datetime.now()\n",
        "logStep(\"STEP 6 - DONE=========================================\")\n",
        "step6_elapsed_time = end_time - start_time\n",
        "logStep(F\"STEP 6 - ELAPSED TIME: {step6_elapsed_time} seconds=========\")\n"
      ]
    },
    {
      "cell_type": "markdown",
      "metadata": {
        "id": "uNhp7WMFJZcX"
      },
      "source": [
        "Step 7 - Cache the the temporary table home_sales."
      ]
    },
    {
      "cell_type": "code",
      "execution_count": 10,
      "metadata": {
        "colab": {
          "base_uri": "https://localhost:8080/"
        },
        "id": "KAhk3ZD2tFy8",
        "outputId": "6ba29c62-5ee7-422a-9450-a789c9616bc6"
      },
      "outputs": [
        {
          "output_type": "stream",
          "name": "stdout",
          "text": [
            "\u001b[37m2023-09-04 03:06:40.091516 \u001b[33mSTEP 7 - CACHE HOME DATA==============================\u001b[37m\n",
            "\u001b[32m\n",
            "\u001b[37m2023-09-04 03:06:42.224384 \u001b[33mSTEP 7 - DONE=========================================\u001b[37m\n",
            "\u001b[37m2023-09-04 03:06:42.236014 \u001b[33mSTEP 7 - ELAPSED TIME: 0:00:02.132835 seconds=========\u001b[37m\n"
          ]
        }
      ],
      "source": [
        "#\n",
        "# Step 7 - Cache the the temporary table home_sales.\n",
        "#\n",
        "\n",
        "start_time         = datetime.datetime.now()\n",
        "logStep(\"STEP 7 - CACHE HOME DATA==============================\")\n",
        "print(Fore.GREEN)\n",
        "\n",
        "spark.sql(\"cache table home_sales\")\n",
        "\n",
        "end_time           = datetime.datetime.now()\n",
        "logStep(\"STEP 7 - DONE=========================================\")\n",
        "step7_elapsed_time = end_time - start_time\n",
        "logStep(F\"STEP 7 - ELAPSED TIME: {step7_elapsed_time} seconds=========\")"
      ]
    },
    {
      "cell_type": "markdown",
      "metadata": {
        "id": "M7Yn-pbbJZcY"
      },
      "source": [
        "Step 8 - Check if the table is cached."
      ]
    },
    {
      "cell_type": "code",
      "execution_count": 11,
      "metadata": {
        "colab": {
          "base_uri": "https://localhost:8080/"
        },
        "id": "4opVhbvxtL-i",
        "outputId": "5b74657e-11f2-440f-a5eb-44f2f4f7bef2"
      },
      "outputs": [
        {
          "output_type": "stream",
          "name": "stdout",
          "text": [
            "\u001b[37m2023-09-04 03:06:44.169440 \u001b[33mSTEP 8 - IS THE DATA CACHED===========================\u001b[37m\n",
            "\u001b[32m\n",
            "home_sales is cached\n",
            "\u001b[32m\n",
            "\u001b[37m2023-09-04 03:06:44.192631 \u001b[33mSTEP 8 - DONE=========================================\u001b[37m\n",
            "\u001b[37m2023-09-04 03:06:44.197540 \u001b[33mSTEP 8 - ELAPSED TIME: 0:00:00.023178 seconds=========\u001b[37m\n"
          ]
        }
      ],
      "source": [
        "#\n",
        "# Step 8 - Check if the table is cached.\n",
        "#\n",
        "\n",
        "start_time         = datetime.datetime.now()\n",
        "logStep(\"STEP 8 - IS THE DATA CACHED===========================\")\n",
        "print(Fore.GREEN)\n",
        "\n",
        "if (spark.catalog.isCached('home_sales') == False):\n",
        "    print(\"home_sales is not cached\")\n",
        "else:\n",
        "    print(\"home_sales is cached\")\n",
        "print(Fore.GREEN)\n",
        "end_time           = datetime.datetime.now()\n",
        "logStep(\"STEP 8 - DONE=========================================\")\n",
        "step8_elapsed_time = end_time - start_time\n",
        "logStep(F\"STEP 8 - ELAPSED TIME: {step8_elapsed_time} seconds=========\")"
      ]
    },
    {
      "cell_type": "markdown",
      "metadata": {
        "id": "yBgGdDGNJZcY"
      },
      "source": [
        "Step 9 - Using the cached data, run the query that filters out the view ratings with average price greater than or equal to $350,000. Determine the runtime and compare it to uncached runtime."
      ]
    },
    {
      "cell_type": "code",
      "execution_count": 12,
      "metadata": {
        "colab": {
          "base_uri": "https://localhost:8080/"
        },
        "id": "5GnL46lwTSEk",
        "outputId": "437e668f-fbb7-41c0-8126-e9326632c823"
      },
      "outputs": [
        {
          "output_type": "stream",
          "name": "stdout",
          "text": [
            "\u001b[37m2023-09-04 03:06:47.226330 \u001b[33mSTEP 9 - REPEAT QUERY=================================\u001b[37m\n",
            "\u001b[32m\n",
            "+----+---------+\n",
            "|VIEW|  AVERAGE|\n",
            "+----+---------+\n",
            "| 100|1026669.5|\n",
            "|  51|788128.21|\n",
            "|  52|733780.26|\n",
            "|  53| 755214.8|\n",
            "|  54|798684.82|\n",
            "|  55|771153.32|\n",
            "|  56| 718176.4|\n",
            "|  57| 734340.5|\n",
            "|  58|759764.65|\n",
            "|  59| 791453.0|\n",
            "|  60|754939.65|\n",
            "|  61|746877.59|\n",
            "|  62|759150.14|\n",
            "|  63|711614.55|\n",
            "|  64|767036.67|\n",
            "|  65|736679.93|\n",
            "|  66| 712475.0|\n",
            "|  67|737970.96|\n",
            "|  68|716785.44|\n",
            "|  69|750537.94|\n",
            "+----+---------+\n",
            "only showing top 20 rows\n",
            "\n",
            "\u001b[37m2023-09-04 03:06:47.638668 \u001b[33mSTEP 9 - DONE=========================================\u001b[37m\n",
            "\u001b[37m2023-09-04 03:06:47.640969 \u001b[33mSTEP 9 - ELAPSED TIME: 0:00:00.412322 seconds=========\u001b[37m\n"
          ]
        }
      ],
      "source": [
        "#\n",
        "# Step 9 - Using the cached data, run the query that filters out the view ratings with average price greater than or equal to $350,000. Determine the runtime and compare it to uncached runtime.\n",
        "#\n",
        "\n",
        "start_time         = datetime.datetime.now()\n",
        "logStep(\"STEP 9 - REPEAT QUERY=================================\")\n",
        "print(Fore.GREEN)\n",
        "\n",
        "spark.sql(\"SELECT view as VIEW, \\\n",
        "                  ROUND(AVG(price),2) AS AVERAGE \\\n",
        "             FROM home_sales \\\n",
        "             GROUP BY view \\\n",
        "           HAVING ROUND(AVG(price),2) >= 350000 \\\n",
        "           ORDER BY view\").show()\n",
        "\n",
        "end_time           = datetime.datetime.now()\n",
        "logStep(\"STEP 9 - DONE=========================================\")\n",
        "step9_elapsed_time = end_time - start_time\n",
        "logStep(F\"STEP 9 - ELAPSED TIME: {step9_elapsed_time} seconds=========\")\n"
      ]
    },
    {
      "cell_type": "markdown",
      "metadata": {
        "id": "AQgywhyyJZcY"
      },
      "source": [
        "Step 9.1 - Determine the runtime and compare to the original runtime"
      ]
    },
    {
      "cell_type": "code",
      "execution_count": 13,
      "metadata": {
        "colab": {
          "base_uri": "https://localhost:8080/"
        },
        "id": "GAYsuFaZuCmw",
        "outputId": "fe39d5fe-4081-4c06-8592-606371fdb915"
      },
      "outputs": [
        {
          "output_type": "stream",
          "name": "stdout",
          "text": [
            "\u001b[37m2023-09-04 03:06:51.128151 \u001b[33mSTEP 9.1 - RUNTIME DIFFERENCE =========================\u001b[37m\n",
            "\u001b[32m\n",
            "Time required for a non-cached Query: 0:00:00.725098\n",
            "Time required for a cached Query    : 0:00:00.412322\n",
            "Time difference                     : 0:00:00.312776\n",
            "\u001b[32m\n",
            "\u001b[37m2023-09-04 03:06:51.131891 \u001b[33mSTEP 9.1 - DONE========================================\u001b[37m\n",
            "\u001b[37m2023-09-04 03:06:51.134178 \u001b[33mSTEP 9.1 - ELAPSED TIME: 0:00:00.003696 seconds========\u001b[37m\n"
          ]
        }
      ],
      "source": [
        "#\n",
        "# Step 9.1 Determine the runtime and compare to the original runtime\n",
        "#\n",
        "\n",
        "start_time         = datetime.datetime.now()\n",
        "logStep(\"STEP 9.1 - RUNTIME DIFFERENCE =========================\")\n",
        "print(Fore.GREEN)\n",
        "\n",
        "print(F\"Time required for a non-cached Query: {step6_elapsed_time}\")\n",
        "print(F\"Time required for a cached Query    : {step9_elapsed_time}\")\n",
        "time_difference = step6_elapsed_time - step9_elapsed_time\n",
        "print(F\"Time difference                     : {time_difference}\")\n",
        "end_time           = datetime.datetime.now()\n",
        "print(Fore.GREEN)\n",
        "\n",
        "logStep(\"STEP 9.1 - DONE========================================\")\n",
        "step91_elapsed_time = end_time - start_time\n",
        "logStep(F\"STEP 9.1 - ELAPSED TIME: {step91_elapsed_time} seconds========\")"
      ]
    },
    {
      "cell_type": "markdown",
      "metadata": {
        "id": "iG7Ef4SkJZcY"
      },
      "source": [
        "Step 10 - Partition by the \"date_built\" field on the formatted parquet home sales data\n"
      ]
    },
    {
      "cell_type": "code",
      "execution_count": 14,
      "metadata": {
        "id": "Qm12WN9isHBR",
        "colab": {
          "base_uri": "https://localhost:8080/"
        },
        "outputId": "288902bb-3d18-48cf-ef58-d7190b010eb2"
      },
      "outputs": [
        {
          "output_type": "stream",
          "name": "stdout",
          "text": [
            "\u001b[37m2023-09-04 03:06:55.950875 \u001b[33mSTEP 10 - FORMATTED PARQUET============================\u001b[37m\n",
            "\u001b[32m\n",
            "+--------------------+----------+----------+------+--------+---------+-----------+--------+------+----------+----+\n",
            "|                  id|      date|date_built| price|bedrooms|bathrooms|sqft_living|sqft_lot|floors|waterfront|view|\n",
            "+--------------------+----------+----------+------+--------+---------+-----------+--------+------+----------+----+\n",
            "|f8a53099-ba1c-47d...|2022-04-08|      2016|936923|       4|        3|       3167|   11733|     2|         1|  76|\n",
            "|7530a2d8-1ae3-451...|2021-06-13|      2013|379628|       2|        2|       2235|   14384|     1|         0|  23|\n",
            "|43de979c-0bf0-4c9...|2019-04-12|      2014|417866|       2|        2|       2127|   10575|     2|         0|   0|\n",
            "|b672c137-b88c-48b...|2019-10-16|      2016|239895|       2|        2|       1631|   11149|     2|         0|   0|\n",
            "|e0726d4d-d595-407...|2022-01-08|      2017|424418|       3|        2|       2249|   13878|     2|         0|   4|\n",
            "|5aa00529-0533-46b...|2019-01-30|      2017|218712|       2|        3|       1965|   14375|     2|         0|   7|\n",
            "|131492a1-72e2-4a8...|2020-02-08|      2017|419199|       2|        3|       2062|    8876|     2|         0|   6|\n",
            "|8d54a71b-c520-44e...|2019-07-21|      2010|323956|       2|        3|       1506|   11816|     1|         0|  25|\n",
            "|e81aacfe-17fe-46b...|2020-06-16|      2016|181925|       3|        3|       2137|   11709|     2|         0|  22|\n",
            "|2ed8d509-7372-46d...|2021-08-06|      2015|258710|       3|        3|       1918|    9666|     1|         0|  25|\n",
            "|f876d86f-3c9f-42b...|2019-02-27|      2011|167864|       3|        3|       2471|   13924|     2|         0|  15|\n",
            "|0a2bd445-8508-4d8...|2021-12-30|      2014|337527|       2|        3|       1926|   12556|     1|         0|  23|\n",
            "|941bad30-eb49-4a7...|2020-05-09|      2015|229896|       3|        3|       2197|    8641|     1|         0|   3|\n",
            "|dd61eb34-6589-4c0...|2021-07-25|      2016|210247|       3|        2|       1672|   11986|     2|         0|  28|\n",
            "|f1e4cef7-d151-439...|2019-02-01|      2011|398667|       2|        3|       2331|   11356|     1|         0|   7|\n",
            "|ea620c7b-c2f7-4c6...|2021-05-31|      2011|437958|       3|        3|       2356|   11052|     1|         0|  26|\n",
            "|f233cb41-6f33-4b0...|2021-07-18|      2016|437375|       4|        3|       1704|   11721|     2|         0|  34|\n",
            "|c797ca12-52cd-4b1...|2019-06-08|      2015|288650|       2|        3|       2100|   10419|     2|         0|   7|\n",
            "|0cfe57f3-28c2-472...|2019-10-04|      2015|308313|       3|        3|       1960|    9453|     2|         0|   2|\n",
            "|4566cd2a-ac6e-435...|2019-07-15|      2016|177541|       3|        3|       2130|   10517|     2|         0|  25|\n",
            "+--------------------+----------+----------+------+--------+---------+-----------+--------+------+----------+----+\n",
            "only showing top 20 rows\n",
            "\n",
            "\u001b[37m2023-09-04 03:06:58.022709 \u001b[33mSTEP 10 - DONE=========================================\u001b[37m\n",
            "\u001b[37m2023-09-04 03:06:58.029080 \u001b[33mSTEP 10 - ELAPSED TIME: 0:00:02.071815 seconds=========\u001b[37m\n"
          ]
        }
      ],
      "source": [
        "#\n",
        "# Step 10 - Partition by the \"date_built\" field on the formatted parquet home sales data\n",
        "#\n",
        "\n",
        "start_time         = datetime.datetime.now()\n",
        "logStep(\"STEP 10 - FORMATTED PARQUET============================\")\n",
        "print(Fore.GREEN)\n",
        "home_df.write.parquet('home_parquet', mode='overwrite',partitionBy='date_built')\n",
        "home_df.show()\n",
        "\n",
        "\n",
        "end_time           = datetime.datetime.now()\n",
        "logStep(\"STEP 10 - DONE=========================================\")\n",
        "step10_elapsed_time = end_time - start_time\n",
        "logStep(F\"STEP 10 - ELAPSED TIME: {step10_elapsed_time} seconds=========\")"
      ]
    },
    {
      "cell_type": "code",
      "execution_count": 15,
      "metadata": {
        "id": "AZ7BgY61sRqY",
        "colab": {
          "base_uri": "https://localhost:8080/"
        },
        "outputId": "3d00eae0-d2ac-40ab-d6ae-b978e9f21d08"
      },
      "outputs": [
        {
          "output_type": "stream",
          "name": "stdout",
          "text": [
            "\u001b[37m2023-09-04 03:07:01.740537 \u001b[33mSTEP 11 - READ PARQUET=================================\u001b[37m\n",
            "\u001b[32m\n",
            "+--------------------+----------+------+--------+---------+-----------+--------+------+----------+----+----------+\n",
            "|                  id|      date| price|bedrooms|bathrooms|sqft_living|sqft_lot|floors|waterfront|view|date_built|\n",
            "+--------------------+----------+------+--------+---------+-----------+--------+------+----------+----+----------+\n",
            "|2ed8d509-7372-46d...|2021-08-06|258710|       3|        3|       1918|    9666|     1|         0|  25|      2015|\n",
            "|941bad30-eb49-4a7...|2020-05-09|229896|       3|        3|       2197|    8641|     1|         0|   3|      2015|\n",
            "|c797ca12-52cd-4b1...|2019-06-08|288650|       2|        3|       2100|   10419|     2|         0|   7|      2015|\n",
            "|0cfe57f3-28c2-472...|2019-10-04|308313|       3|        3|       1960|    9453|     2|         0|   2|      2015|\n",
            "|d715f295-2fbf-4e9...|2021-05-17|391574|       3|        2|       1635|    8040|     2|         0|  10|      2015|\n",
            "|a18515a2-86f3-46b...|2022-02-18|419543|       3|        2|       1642|   12826|     2|         0|  24|      2015|\n",
            "|98f6a9ad-8870-474...|2022-05-07|136752|       2|        3|       1701|   10771|     2|         0|   5|      2015|\n",
            "|7ac67498-b6f3-403...|2021-05-12|349318|       4|        3|       2417|   11304|     2|         0|  37|      2015|\n",
            "|c9bfdb1c-2499-4e3...|2021-12-07|268874|       2|        2|       1537|   12177|     1|         0|  10|      2015|\n",
            "|34c31a34-220d-469...|2019-02-06|409011|       3|        3|       2356|   10507|     1|         0|   1|      2015|\n",
            "|be0ccb95-415d-411...|2020-05-15|425154|       4|        3|       2120|   14229|     2|         0|   4|      2015|\n",
            "|e9031a86-1294-444...|2021-10-09|222322|       4|        3|       1928|   10510|     1|         0|  38|      2015|\n",
            "|e6d7c2a7-596e-4ec...|2019-03-15|131201|       4|        3|       1633|   14655|     1|         0|  22|      2015|\n",
            "|6683714b-3df7-454...|2022-02-01|333403|       4|        2|       2059|    9793|     2|         0|   4|      2015|\n",
            "|00fc996f-508c-430...|2021-07-15|373139|       3|        3|       1763|   11363|     1|         0|  39|      2015|\n",
            "|3d5545f8-bd3b-476...|2020-09-19|797862|       4|        6|       3494|   10385|     2|         0|  90|      2015|\n",
            "|ec6d357c-2435-43e...|2019-05-28|401792|       3|        2|       1627|   10765|     1|         0|  50|      2015|\n",
            "|c2be38fb-814a-403...|2020-03-20|352237|       3|        3|       2485|   10954|     2|         0|   6|      2015|\n",
            "|9570de1f-5a74-45b...|2021-11-29|298453|       3|        2|       2222|   10634|     1|         0|   6|      2015|\n",
            "|1baeff4f-fc00-489...|2020-12-17|152775|       3|        2|       1623|   13851|     1|         0|  41|      2015|\n",
            "+--------------------+----------+------+--------+---------+-----------+--------+------+----------+----+----------+\n",
            "only showing top 20 rows\n",
            "\n",
            "\u001b[37m2023-09-04 03:07:02.210111 \u001b[33mSTEP 11 - DONE=========================================\u001b[37m\n",
            "\u001b[37m2023-09-04 03:07:02.215916 \u001b[33mSTEP 11 - ELAPSED TIME: 0:00:00.469531 seconds=========\u001b[37m\n"
          ]
        }
      ],
      "source": [
        "#\n",
        "# Step 11 - Read the parquet formatted data.\n",
        "#\n",
        "\n",
        "start_time         = datetime.datetime.now()\n",
        "logStep(\"STEP 11 - READ PARQUET=================================\")\n",
        "print(Fore.GREEN)\n",
        "\n",
        "parquet_home_df = spark.read.parquet('home_parquet')\n",
        "parquet_home_df.show()\n",
        "\n",
        "end_time           = datetime.datetime.now()\n",
        "logStep(\"STEP 11 - DONE=========================================\")\n",
        "step11_elapsed_time = end_time - start_time\n",
        "logStep(F\"STEP 11 - ELAPSED TIME: {step11_elapsed_time} seconds=========\")"
      ]
    },
    {
      "cell_type": "markdown",
      "metadata": {
        "id": "2scshuaWJZcZ"
      },
      "source": [
        "Step 12 - Create a temporary table for the parquet data."
      ]
    },
    {
      "cell_type": "code",
      "execution_count": 16,
      "metadata": {
        "id": "J6MJkHfvVcvh",
        "colab": {
          "base_uri": "https://localhost:8080/"
        },
        "outputId": "d3e5f0e9-1ec9-409a-9a3d-b6bb08cc4256"
      },
      "outputs": [
        {
          "output_type": "stream",
          "name": "stdout",
          "text": [
            "\u001b[37m2023-09-04 03:07:06.820829 \u001b[33mSTEP 12 - CREATE PARQUET VIEW==========================\u001b[37m\n",
            "\u001b[32m\n",
            "+--------------------+----------+------+--------+---------+-----------+--------+------+----------+----+----------+\n",
            "|                  id|      date| price|bedrooms|bathrooms|sqft_living|sqft_lot|floors|waterfront|view|date_built|\n",
            "+--------------------+----------+------+--------+---------+-----------+--------+------+----------+----+----------+\n",
            "|2ed8d509-7372-46d...|2021-08-06|258710|       3|        3|       1918|    9666|     1|         0|  25|      2015|\n",
            "|941bad30-eb49-4a7...|2020-05-09|229896|       3|        3|       2197|    8641|     1|         0|   3|      2015|\n",
            "|c797ca12-52cd-4b1...|2019-06-08|288650|       2|        3|       2100|   10419|     2|         0|   7|      2015|\n",
            "|0cfe57f3-28c2-472...|2019-10-04|308313|       3|        3|       1960|    9453|     2|         0|   2|      2015|\n",
            "|d715f295-2fbf-4e9...|2021-05-17|391574|       3|        2|       1635|    8040|     2|         0|  10|      2015|\n",
            "|a18515a2-86f3-46b...|2022-02-18|419543|       3|        2|       1642|   12826|     2|         0|  24|      2015|\n",
            "|98f6a9ad-8870-474...|2022-05-07|136752|       2|        3|       1701|   10771|     2|         0|   5|      2015|\n",
            "|7ac67498-b6f3-403...|2021-05-12|349318|       4|        3|       2417|   11304|     2|         0|  37|      2015|\n",
            "|c9bfdb1c-2499-4e3...|2021-12-07|268874|       2|        2|       1537|   12177|     1|         0|  10|      2015|\n",
            "|34c31a34-220d-469...|2019-02-06|409011|       3|        3|       2356|   10507|     1|         0|   1|      2015|\n",
            "|be0ccb95-415d-411...|2020-05-15|425154|       4|        3|       2120|   14229|     2|         0|   4|      2015|\n",
            "|e9031a86-1294-444...|2021-10-09|222322|       4|        3|       1928|   10510|     1|         0|  38|      2015|\n",
            "|e6d7c2a7-596e-4ec...|2019-03-15|131201|       4|        3|       1633|   14655|     1|         0|  22|      2015|\n",
            "|6683714b-3df7-454...|2022-02-01|333403|       4|        2|       2059|    9793|     2|         0|   4|      2015|\n",
            "|00fc996f-508c-430...|2021-07-15|373139|       3|        3|       1763|   11363|     1|         0|  39|      2015|\n",
            "|3d5545f8-bd3b-476...|2020-09-19|797862|       4|        6|       3494|   10385|     2|         0|  90|      2015|\n",
            "|ec6d357c-2435-43e...|2019-05-28|401792|       3|        2|       1627|   10765|     1|         0|  50|      2015|\n",
            "|c2be38fb-814a-403...|2020-03-20|352237|       3|        3|       2485|   10954|     2|         0|   6|      2015|\n",
            "|9570de1f-5a74-45b...|2021-11-29|298453|       3|        2|       2222|   10634|     1|         0|   6|      2015|\n",
            "|1baeff4f-fc00-489...|2020-12-17|152775|       3|        2|       1623|   13851|     1|         0|  41|      2015|\n",
            "+--------------------+----------+------+--------+---------+-----------+--------+------+----------+----+----------+\n",
            "only showing top 20 rows\n",
            "\n",
            "\u001b[37m2023-09-04 03:07:07.019202 \u001b[33mSTEP 12 - DONE=========================================\u001b[37m\n",
            "\u001b[37m2023-09-04 03:07:07.021076 \u001b[33mSTEP 12 - ELAPSED TIME: 0:00:00.198306 seconds=========\u001b[37m\n"
          ]
        }
      ],
      "source": [
        "#\n",
        "# Step 12 - Create a temporary table for the parquet data.\n",
        "#\n",
        "\n",
        "start_time         = datetime.datetime.now()\n",
        "logStep(\"STEP 12 - CREATE PARQUET VIEW==========================\")\n",
        "print(Fore.GREEN)\n",
        "\n",
        "parquet_home_df.createOrReplaceTempView('parquet_temp_home')\n",
        "parquet_home_df.show()\n",
        "\n",
        "end_time           = datetime.datetime.now()\n",
        "logStep(\"STEP 12 - DONE=========================================\")\n",
        "step12_elapsed_time = end_time - start_time\n",
        "logStep(F\"STEP 12 - ELAPSED TIME: {step12_elapsed_time} seconds=========\")"
      ]
    },
    {
      "cell_type": "markdown",
      "metadata": {
        "id": "J002yT2JJZcZ"
      },
      "source": [
        "Step 13 - Run the query that filters out the view ratings with average price of greater than or equal to $350,000 with the parquet DataFrame. Round your average to two decimal places"
      ]
    },
    {
      "cell_type": "code",
      "execution_count": 17,
      "metadata": {
        "colab": {
          "base_uri": "https://localhost:8080/"
        },
        "id": "G_Vhb52rU1Sn",
        "outputId": "0493bbc3-5737-49b7-8b0f-33842d90f4ba"
      },
      "outputs": [
        {
          "output_type": "stream",
          "name": "stdout",
          "text": [
            "\u001b[37m2023-09-04 03:07:10.357381 \u001b[33mSTEP 13 - REPEAT QUERY=================================\u001b[37m\n",
            "\u001b[32m\n",
            "+----+---------+\n",
            "|VIEW|  AVERAGE|\n",
            "+----+---------+\n",
            "| 100|1026669.5|\n",
            "|  51|788128.21|\n",
            "|  52|733780.26|\n",
            "|  53| 755214.8|\n",
            "|  54|798684.82|\n",
            "|  55|771153.32|\n",
            "|  56| 718176.4|\n",
            "|  57| 734340.5|\n",
            "|  58|759764.65|\n",
            "|  59| 791453.0|\n",
            "|  60|754939.65|\n",
            "|  61|746877.59|\n",
            "|  62|759150.14|\n",
            "|  63|711614.55|\n",
            "|  64|767036.67|\n",
            "|  65|736679.93|\n",
            "|  66| 712475.0|\n",
            "|  67|737970.96|\n",
            "|  68|716785.44|\n",
            "|  69|750537.94|\n",
            "+----+---------+\n",
            "only showing top 20 rows\n",
            "\n",
            "\u001b[37m2023-09-04 03:07:10.868643 \u001b[33mSTEP 13 - DONE=========================================\u001b[37m\n",
            "\u001b[37m2023-09-04 03:07:10.874190 \u001b[33mSTEP 13 - ELAPSED TIME: 0:00:00.511225 seconds=========\u001b[37m\n"
          ]
        }
      ],
      "source": [
        "#\n",
        "# Step 13 - Run the query that filters out the view ratings with average price of greater than or equal to $350,000 with the parquet DataFrame. Round your average to two decimal places.\n",
        "#\n",
        "\n",
        "start_time         = datetime.datetime.now()\n",
        "logStep(\"STEP 13 - REPEAT QUERY=================================\")\n",
        "print(Fore.GREEN)\n",
        "\n",
        "spark.sql(\"SELECT view as VIEW, \\\n",
        "                  ROUND(AVG(price),2) AS AVERAGE \\\n",
        "             FROM parquet_temp_home \\\n",
        "             GROUP BY view \\\n",
        "           HAVING ROUND(AVG(price),2) >= 350000 \\\n",
        "           ORDER BY view\").show()\n",
        "\n",
        "end_time           = datetime.datetime.now()\n",
        "logStep(\"STEP 13 - DONE=========================================\")\n",
        "step13_elapsed_time = end_time - start_time\n",
        "logStep(F\"STEP 13 - ELAPSED TIME: {step13_elapsed_time} seconds=========\")"
      ]
    },
    {
      "cell_type": "code",
      "execution_count": 18,
      "metadata": {
        "colab": {
          "base_uri": "https://localhost:8080/"
        },
        "id": "oEkIu5yYuWlW",
        "outputId": "e11ba707-b58d-482e-f1d4-77690ae30711"
      },
      "outputs": [
        {
          "output_type": "stream",
          "name": "stdout",
          "text": [
            "\u001b[37m2023-09-04 03:07:14.857425 \u001b[33mSTEP 13.1 - RUNTIME DIFFERENCE ========================\u001b[37m\n",
            "\u001b[32m\n",
            "Time required for a non-cached Query    : 0:00:00.725098\n",
            "Time required for a parquet cached Query: 0:00:00.511225\n",
            "Time difference                         : 0:00:00.213873\n",
            "\u001b[32m\n",
            "\u001b[37m2023-09-04 03:07:14.859467 \u001b[33mSTEP 13.1 - DONE=======================================\u001b[37m\n",
            "\u001b[37m2023-09-04 03:07:14.864400 \u001b[33mSTEP 13.1 - ELAPSED TIME: 0:00:00.002044 seconds=======\u001b[37m\n"
          ]
        }
      ],
      "source": [
        "#\n",
        "# Step 13.1 - Determine the runtime and compare it to the cached version.\n",
        "#\n",
        "\n",
        "start_time         = datetime.datetime.now()\n",
        "logStep(\"STEP 13.1 - RUNTIME DIFFERENCE ========================\")\n",
        "print(Fore.GREEN)\n",
        "print(F\"Time required for a non-cached Query    : {step6_elapsed_time}\")\n",
        "print(F\"Time required for a parquet cached Query: {step13_elapsed_time}\")\n",
        "time_difference = step6_elapsed_time - step13_elapsed_time\n",
        "print(F\"Time difference                         : {time_difference}\")\n",
        "print(Fore.GREEN)\n",
        "end_time           = datetime.datetime.now()\n",
        "logStep(\"STEP 13.1 - DONE=======================================\")\n",
        "step131_elapsed_time = end_time - start_time\n",
        "logStep(F\"STEP 13.1 - ELAPSED TIME: {step131_elapsed_time} seconds=======\")"
      ]
    },
    {
      "cell_type": "code",
      "execution_count": 19,
      "metadata": {
        "colab": {
          "base_uri": "https://localhost:8080/"
        },
        "id": "hjjYzQGjtbq8",
        "outputId": "e4e106e1-d72d-4e7e-af6f-eef428476b2d"
      },
      "outputs": [
        {
          "output_type": "stream",
          "name": "stdout",
          "text": [
            "\u001b[37m2023-09-04 03:07:25.612105 \u001b[33mSTEP 14 - UN-CACHE=====================================\u001b[37m\n",
            "\u001b[32m\n",
            "\u001b[37m2023-09-04 03:07:25.658234 \u001b[33mSTEP 14 - DONE=========================================\u001b[37m\n",
            "\u001b[37m2023-09-04 03:07:25.661242 \u001b[33mSTEP 14 - ELAPSED TIME: 0:00:00.046097 seconds=========\u001b[37m\n"
          ]
        }
      ],
      "source": [
        "#\n",
        "# 14. Un-cache the home_sales temporary table.\n",
        "#\n",
        "\n",
        "start_time         = datetime.datetime.now()\n",
        "logStep(\"STEP 14 - UN-CACHE=====================================\")\n",
        "print(Fore.GREEN)\n",
        "\n",
        "spark.sql(\"uncache table home_sales\")\n",
        "\n",
        "end_time           = datetime.datetime.now()\n",
        "logStep(\"STEP 14 - DONE=========================================\")\n",
        "step14_elapsed_time = end_time - start_time\n",
        "logStep(F\"STEP 14 - ELAPSED TIME: {step14_elapsed_time} seconds=========\")"
      ]
    },
    {
      "cell_type": "code",
      "execution_count": 20,
      "metadata": {
        "colab": {
          "base_uri": "https://localhost:8080/"
        },
        "id": "Sy9NBvO7tlmm",
        "outputId": "fc79393d-6904-43c0-961d-bb24c6724d05"
      },
      "outputs": [
        {
          "output_type": "stream",
          "name": "stdout",
          "text": [
            "\u001b[37m2023-09-04 03:07:27.494549 \u001b[33mSTEP 15 - CACHE= CHECK=================================\u001b[37m\n",
            "\u001b[32m\n",
            "home_sales is not cached\n",
            "\u001b[32m\n",
            "\u001b[37m2023-09-04 03:07:27.518418 \u001b[33mSTEP 15 - DONE=========================================\u001b[37m\n",
            "\u001b[37m2023-09-04 03:07:27.520610 \u001b[33mSTEP 15 - ELAPSED TIME: 0:00:00.023891 seconds=========\u001b[37m\n"
          ]
        }
      ],
      "source": [
        "#\n",
        "# Step 15. Check if the home_sales is no longer cached\n",
        "#\n",
        "start_time         = datetime.datetime.now()\n",
        "logStep(\"STEP 15 - CACHE= CHECK=================================\")\n",
        "print(Fore.GREEN)\n",
        "\n",
        "if (spark.catalog.isCached('home_sales') == False):\n",
        "    print(\"home_sales is not cached\")\n",
        "else:\n",
        "    print(\"home_sales is cached\")\n",
        "print(Fore.GREEN)\n",
        "\n",
        "end_time           = datetime.datetime.now()\n",
        "logStep(\"STEP 15 - DONE=========================================\")\n",
        "step15_elapsed_time = end_time - start_time\n",
        "logStep(F\"STEP 15 - ELAPSED TIME: {step15_elapsed_time} seconds=========\")\n"
      ]
    },
    {
      "cell_type": "code",
      "execution_count": 21,
      "metadata": {
        "colab": {
          "base_uri": "https://localhost:8080/"
        },
        "id": "vBGDrQnjJZca",
        "outputId": "6ffefe2c-1836-46ba-d648-582368c2a2d4"
      },
      "outputs": [
        {
          "output_type": "stream",
          "name": "stdout",
          "text": [
            "\u001b[37m2023-09-04 03:07:30.250867 \u001b[33m=========TOTAL RUN TIME================================\u001b[37m\n",
            "\u001b[32m\n",
            "Total Runtime, per Step\n",
            "\n",
            "Step  0:   0:00:00.058191 seconds\n",
            "Step  1:   0:00:13.308183 seconds\n",
            "Step  2:   0:00:00.051701 seconds\n",
            "Step  3:   0:00:02.378606 seconds\n",
            "Step  4:   0:00:00.648040 seconds\n",
            "Step  5:   0:00:01.273759 seconds\n",
            "\u001b[31mStep  6:   0:00:00.725098 seconds - non-cached query\u001b[32m\n",
            "\u001b[32mStep  7:   0:00:02.132835 seconds\n",
            "Step  8:   0:00:00.023178 seconds\n",
            "\u001b[31mStep  9:   0:00:00.412322 seconds - cached query\n",
            "\u001b[32mStep  9.1: 0:00:00.003696 seconds\n",
            "Step 10:   0:00:02.071815 seconds\n",
            "Step 11:   0:00:00.469531 seconds\n",
            "Step 12:   0:00:00.198306 seconds\n",
            "\u001b[31mStep 13:   0:00:00.511225 seconds - parquet cached query\n",
            "\u001b[32mStep 13.1: 0:00:00.002044 seconds\n",
            "Step 14:   0:00:00.046097 seconds\n",
            "Step 15:   0:00:00.023891 seconds\n",
            "\u001b[33mTotal  :   0:00:24.338518 seconds\n",
            "\n",
            "\u001b[32mRuntime Reduction\n",
            "\n",
            "\u001b[31mCached Query Reduction  : 43.14%\n",
            "Parquet Query Reduction : 29.50%\n",
            "\n",
            "\u001b[37m2023-09-04 03:07:30.268366 \u001b[33m=========END============================================\u001b[37m\n"
          ]
        }
      ],
      "source": [
        "logStep(\"=========TOTAL RUN TIME================================\")\n",
        "print(Fore.GREEN)\n",
        "print('Total Runtime, per Step')\n",
        "print('')\n",
        "print(F\"Step  0:   {step0_elapsed_time} seconds\")\n",
        "print(F\"Step  1:   {step1_elapsed_time} seconds\")\n",
        "print(F\"Step  2:   {step2_elapsed_time} seconds\")\n",
        "print(F\"Step  3:   {step3_elapsed_time} seconds\")\n",
        "print(F\"Step  4:   {step4_elapsed_time} seconds\")\n",
        "print(F\"Step  5:   {step5_elapsed_time} seconds\")\n",
        "print(F\"{Fore.RED}Step  6:   {step6_elapsed_time} seconds - non-cached query{Fore.GREEN}\")\n",
        "print(F\"{Fore.GREEN}Step  7:   {step7_elapsed_time} seconds\")\n",
        "print(F\"Step  8:   {step8_elapsed_time} seconds\")\n",
        "print(F\"{Fore.RED}Step  9:   {step9_elapsed_time} seconds - cached query\")\n",
        "print(F\"{Fore.GREEN}Step  9.1: {step91_elapsed_time} seconds\")\n",
        "print(F\"Step 10:   {step10_elapsed_time} seconds\")\n",
        "print(F\"Step 11:   {step11_elapsed_time} seconds\")\n",
        "print(F\"Step 12:   {step12_elapsed_time} seconds\")\n",
        "print(F\"{Fore.RED}Step 13:   {step13_elapsed_time} seconds - parquet cached query\")\n",
        "print(F\"{Fore.GREEN}Step 13.1: {step131_elapsed_time} seconds\")\n",
        "print(F\"Step 14:   {step14_elapsed_time} seconds\")\n",
        "print(F\"Step 15:   {step15_elapsed_time} seconds\")\n",
        "print(F\"{Fore.YELLOW}Total  :   {step0_elapsed_time + step1_elapsed_time + step2_elapsed_time + step3_elapsed_time + step4_elapsed_time + step5_elapsed_time + step6_elapsed_time + step7_elapsed_time + step8_elapsed_time + step9_elapsed_time + step91_elapsed_time + step10_elapsed_time + step11_elapsed_time + step12_elapsed_time + step13_elapsed_time + step131_elapsed_time + step14_elapsed_time + step15_elapsed_time} seconds\")\n",
        "print('')\n",
        "print(Fore.GREEN + 'Runtime Reduction')\n",
        "print('')\n",
        "print(F'{Fore.RED}Cached Query Reduction  : {100-(step9_elapsed_time/step6_elapsed_time*100):.2f}%')\n",
        "print(F'Parquet Query Reduction : {100-(step13_elapsed_time/step6_elapsed_time*100):.2f}%')\n",
        "print('')\n",
        "logStep(\"=========END============================================\")"
      ]
    }
  ],
  "metadata": {
    "colab": {
      "provenance": []
    },
    "gpuClass": "standard",
    "kernelspec": {
      "display_name": "Python 3 (ipykernel)",
      "language": "python",
      "name": "python3"
    },
    "language_info": {
      "codemirror_mode": {
        "name": "ipython",
        "version": 3
      },
      "file_extension": ".py",
      "mimetype": "text/x-python",
      "name": "python",
      "nbconvert_exporter": "python",
      "pygments_lexer": "ipython3",
      "version": "3.10.8"
    },
    "nteract": {
      "version": "0.28.0"
    }
  },
  "nbformat": 4,
  "nbformat_minor": 0
}