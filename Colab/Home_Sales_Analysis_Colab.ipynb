{
  "cells": [
    {
      "cell_type": "markdown",
      "metadata": {
        "id": "ARyWLJN1d6Yl"
      },
      "source": [
        "# MODULE 22 - BIG DATA ANALYSIS WITH SPARK"
      ]
    },
    {
      "cell_type": "markdown",
      "metadata": {
        "id": "ERtYS3wXd6Ym"
      },
      "source": [
        "Step 00 - Environment Setup"
      ]
    },
    {
      "cell_type": "code",
      "execution_count": 1,
      "metadata": {
        "colab": {
          "base_uri": "https://localhost:8080/"
        },
        "id": "a_KW73O2e3dw",
        "notebookRunGroups": {
          "groupValue": ""
        },
        "outputId": "ebb72d8e-a2e2-43ff-c642-a6654b94e3fb"
      },
      "outputs": [
        {
          "output_type": "stream",
          "name": "stdout",
          "text": [
            "Collecting pyspark\n",
            "  Downloading pyspark-3.4.1.tar.gz (310.8 MB)\n",
            "\u001b[2K     \u001b[90m━━━━━━━━━━━━━━━━━━━━━━━━━━━━━━━━━━━━━━━\u001b[0m \u001b[32m310.8/310.8 MB\u001b[0m \u001b[31m2.6 MB/s\u001b[0m eta \u001b[36m0:00:00\u001b[0m\n",
            "\u001b[?25h  Preparing metadata (setup.py) ... \u001b[?25l\u001b[?25hdone\n",
            "Requirement already satisfied: py4j==0.10.9.7 in /usr/local/lib/python3.10/dist-packages (from pyspark) (0.10.9.7)\n",
            "Building wheels for collected packages: pyspark\n",
            "  Building wheel for pyspark (setup.py) ... \u001b[?25l\u001b[?25hdone\n",
            "  Created wheel for pyspark: filename=pyspark-3.4.1-py2.py3-none-any.whl size=311285387 sha256=efe969f34ba3290b1ec693e6ed1d23dd60d1d47debd0e81551da13e7ab6f1ae6\n",
            "  Stored in directory: /root/.cache/pip/wheels/0d/77/a3/ff2f74cc9ab41f8f594dabf0579c2a7c6de920d584206e0834\n",
            "Successfully built pyspark\n",
            "Installing collected packages: pyspark\n",
            "Successfully installed pyspark-3.4.1\n",
            "Get:1 http://security.ubuntu.com/ubuntu jammy-security InRelease [110 kB]\n",
            "Get:2 https://cloud.r-project.org/bin/linux/ubuntu jammy-cran40/ InRelease [3,626 B]\n",
            "Hit:3 http://archive.ubuntu.com/ubuntu jammy InRelease\n",
            "Get:4 https://developer.download.nvidia.com/compute/cuda/repos/ubuntu2204/x86_64  InRelease [1,581 B]\n",
            "Get:5 http://archive.ubuntu.com/ubuntu jammy-updates InRelease [119 kB]\n",
            "Get:6 http://archive.ubuntu.com/ubuntu jammy-backports InRelease [109 kB]\n",
            "Get:7 https://ppa.launchpadcontent.net/c2d4u.team/c2d4u4.0+/ubuntu jammy InRelease [18.1 kB]\n",
            "Get:8 https://developer.download.nvidia.com/compute/cuda/repos/ubuntu2204/x86_64  Packages [495 kB]\n",
            "Get:9 http://security.ubuntu.com/ubuntu jammy-security/universe amd64 Packages [991 kB]\n",
            "Get:10 http://archive.ubuntu.com/ubuntu jammy-updates/main amd64 Packages [1,223 kB]\n",
            "Get:11 http://security.ubuntu.com/ubuntu jammy-security/restricted amd64 Packages [1,041 kB]\n",
            "Get:12 http://security.ubuntu.com/ubuntu jammy-security/main amd64 Packages [949 kB]\n",
            "Get:13 http://archive.ubuntu.com/ubuntu jammy-updates/universe amd64 Packages [1,252 kB]\n",
            "Get:14 http://archive.ubuntu.com/ubuntu jammy-updates/restricted amd64 Packages [1,069 kB]\n",
            "Get:15 http://archive.ubuntu.com/ubuntu jammy-backports/main amd64 Packages [50.3 kB]\n",
            "Get:16 http://archive.ubuntu.com/ubuntu jammy-backports/universe amd64 Packages [28.1 kB]\n",
            "Hit:17 https://ppa.launchpadcontent.net/deadsnakes/ppa/ubuntu jammy InRelease\n",
            "Hit:18 https://ppa.launchpadcontent.net/graphics-drivers/ppa/ubuntu jammy InRelease\n",
            "Hit:19 https://ppa.launchpadcontent.net/ubuntugis/ppa/ubuntu jammy InRelease\n",
            "Get:20 https://ppa.launchpadcontent.net/c2d4u.team/c2d4u4.0+/ubuntu jammy/main Sources [2,180 kB]\n",
            "Get:21 https://ppa.launchpadcontent.net/c2d4u.team/c2d4u4.0+/ubuntu jammy/main amd64 Packages [1,119 kB]\n",
            "Fetched 10.8 MB in 5s (2,328 kB/s)\n",
            "Reading package lists... Done\n",
            "Collecting colorama\n",
            "  Downloading colorama-0.4.6-py2.py3-none-any.whl (25 kB)\n",
            "Installing collected packages: colorama\n",
            "Successfully installed colorama-0.4.6\n",
            "\u001b[37m2023-09-06 01:19:40.833338\u001b[33m STEP 00 - ENVIRONMENT PREPARATION\u001b[37m----------------------------------------------------\n",
            "Copyright        : Copyright (c) 2001-2023 Python Software Foundation.\n",
            "All Rights Reserved.\n",
            "\n",
            "Copyright (c) 2000 BeOpen.com.\n",
            "All Rights Reserved.\n",
            "\n",
            "Copyright (c) 1995-2001 Corporation for National Research Initiatives.\n",
            "All Rights Reserved.\n",
            "\n",
            "Copyright (c) 1991-1995 Stichting Mathematisch Centrum, Amsterdam.\n",
            "All Rights Reserved.\n",
            "OS Platform      : linux\n",
            "OS Name          : posix\n",
            "OS HOME          : /root\n",
            "OS uName         : Linux\n",
            "OS NodeName      : 93b6ccbe833d\n",
            "OS Release       : 5.15.109+\n",
            "OS Release Ver   : #1 SMP Fri Jun 9 10:57:30 UTC 2023\n",
            "OS Machine       : x86_64\n",
            "Process ID       : 4965\n",
            "Parent Process   : 99\n",
            "Current dir      : /content\n",
            "Python version   : 3.10.12 (main, Jun 11 2023, 05:26:28) [GCC 11.4.0]\n",
            "Version info     : sys.version_info(major=3, minor=10, micro=12, releaselevel='final', serial=0)\n",
            "Python API Ver   : 1013\n",
            "Executable       : /usr/bin/python3\n",
            "Hadoop home      : None\n",
            "Spark version    : 2.0.1\n",
            "Spark home(Find) : /content/spark-3.4.1-bin-hadoop3\n",
            "Spark Home(Env)  : /content/spark-3.4.1-bin-hadoop3\n",
            "Spark UI         : http://localhost:4040\n",
            "Spark submit     : /usr/local/lib/python3.10/dist-packages/ipykernel_launcher.py\n",
            "Java home        : /usr/lib/jvm/java-11-openjdk-amd64\n",
            "\u001b[37m2023-09-06 01:19:40.837271\u001b[33m STEP 00 - DONE\u001b[37m-----------------------------------------------------------------------\n",
            "\u001b[37m2023-09-06 01:19:40.840535\u001b[33m STEP 00 - ELAPSED TIME: 0:00:00.007319 seconds\u001b[37m---------------------------------------\n"
          ]
        }
      ],
      "source": [
        "#\n",
        "# Step 00 - Environment Setup\n",
        "#\n",
        "!pip install pyspark\n",
        "import sys\n",
        "import os\n",
        "import shutil          as shu\n",
        "import datetime\n",
        "import warnings\n",
        "\n",
        "\n",
        "spark_version = 'spark-3.4.1'\n",
        "os.environ['SPARK_VERSION']=spark_version\n",
        "\n",
        "# Install Spark and Java\n",
        "!apt-get update\n",
        "!apt-get install openjdk-11-jdk-headless -qq > /dev/null\n",
        "!wget -q http://www.apache.org/dist/spark/$SPARK_VERSION/$SPARK_VERSION-bin-hadoop3.tgz\n",
        "!tar xf $SPARK_VERSION-bin-hadoop3.tgz\n",
        "!pip install -q findspark\n",
        "!pip install colorama\n",
        "\n",
        "import findspark\n",
        "from   colorama    import Fore\n",
        "from   pyspark     import SparkFiles\n",
        "from   pyspark.sql import SparkSession\n",
        "\n",
        "# Set Environment Variables\n",
        "os.environ[\"JAVA_HOME\"] = \"/usr/lib/jvm/java-11-openjdk-amd64\"\n",
        "os.environ[\"SPARK_HOME\"] = f\"/content/{spark_version}-bin-hadoop3\"\n",
        "\n",
        "start_time = datetime.datetime.now()\n",
        "w, h       = shu.get_terminal_size()\n",
        "\n",
        "def logStep(msg):\n",
        "    l1 = len(msg)\n",
        "    l2 = w - l1\n",
        "    print(Fore.WHITE + str(datetime.datetime.now()) +  Fore.YELLOW + ' STEP ' + msg + Fore.WHITE + '-' * l2  )\n",
        "    sys.stdout.flush()\n",
        "\n",
        "def printSeparator():\n",
        "    print(Fore.GREEN + '-' * w + Fore.WHITE)\n",
        "\n",
        "logStep('00 - ENVIRONMENT PREPARATION')\n",
        "\n",
        "\n",
        "warnings.filterwarnings('ignore')\n",
        "\n",
        "print(F'Copyright        : {sys.copyright}')\n",
        "print(F'OS Platform      : {sys.platform}')\n",
        "print(F'OS Name          : {os.name}')\n",
        "print(F'OS HOME          : {os.environ.get(\"HOME\")}')\n",
        "print(F'OS uName         : {os.uname().sysname}')\n",
        "print(F'OS NodeName      : {os.uname().nodename}')\n",
        "print(F'OS Release       : {os.uname().release}')\n",
        "print(F'OS Release Ver   : {os.uname().version}')\n",
        "print(F'OS Machine       : {os.uname().machine}')\n",
        "print(F'Process ID       : {os.getpid()}')\n",
        "print(F'Parent Process   : {os.getppid()}')\n",
        "#print(F'OS User          : {os.getlogin()}')\n",
        "#print(F'OS User ID       : {os.getuid()}')\n",
        "#print(F'OS Group ID      : {os.getgid()}')\n",
        "#print(F'OS Effective ID  : {os.geteuid()}')\n",
        "#print(F'OS Effective GID : {os.getegid()}')\n",
        "print(F'Current dir      : {os.getcwd()}')\n",
        "print(F'Python version   : {sys.version}')\n",
        "print(F'Version info     : {sys.version_info}')\n",
        "print(F'Python API Ver   : {sys.api_version}')\n",
        "print(F'Executable       : {sys.executable}')\n",
        "print(F'Hadoop home      : {os.environ.get(\"HADOOP_HOME\")}')\n",
        "print(F'Spark version    : {findspark.__version__}')\n",
        "print(F'Spark home(Find) : {findspark.find()}')\n",
        "print(F'Spark Home(Env)  : {os.environ.get(\"SPARK_HOME\")}')\n",
        "print(F'Spark UI         : http://localhost:4040')\n",
        "print(F'Spark submit     : {sys.argv[0]}')\n",
        "print(F'Java home        : {os.environ.get(\"JAVA_HOME\")}')\n",
        "\n",
        "logStep(\"00 - DONE\");\n",
        "end_time           = datetime.datetime.now()\n",
        "step00_elapsed_time = end_time - start_time\n",
        "logStep(F\"00 - ELAPSED TIME: {step00_elapsed_time} seconds\")"
      ]
    },
    {
      "cell_type": "markdown",
      "metadata": {
        "id": "n8fpxoFKd6Yo"
      },
      "source": [
        "Step 01 - Read in the source file into a DataFrame"
      ]
    },
    {
      "cell_type": "code",
      "execution_count": 2,
      "metadata": {
        "colab": {
          "base_uri": "https://localhost:8080/"
        },
        "id": "wOJqxG_RPSwp",
        "outputId": "ee87ed8e-b423-4e08-d56f-8ddc1914d026"
      },
      "outputs": [
        {
          "output_type": "stream",
          "name": "stdout",
          "text": [
            "\u001b[37m2023-09-06 01:19:40.867055\u001b[33m STEP 01 - READ SOURCE DATA\u001b[37m-----------------------------------------------------------\n",
            "+--------------------+----------+----------+------+--------+---------+-----------+--------+------+----------+----+\n",
            "|                  id|      date|date_built| price|bedrooms|bathrooms|sqft_living|sqft_lot|floors|waterfront|view|\n",
            "+--------------------+----------+----------+------+--------+---------+-----------+--------+------+----------+----+\n",
            "|f8a53099-ba1c-47d...|2022-04-08|      2016|936923|       4|        3|       3167|   11733|     2|         1|  76|\n",
            "|7530a2d8-1ae3-451...|2021-06-13|      2013|379628|       2|        2|       2235|   14384|     1|         0|  23|\n",
            "|43de979c-0bf0-4c9...|2019-04-12|      2014|417866|       2|        2|       2127|   10575|     2|         0|   0|\n",
            "|b672c137-b88c-48b...|2019-10-16|      2016|239895|       2|        2|       1631|   11149|     2|         0|   0|\n",
            "|e0726d4d-d595-407...|2022-01-08|      2017|424418|       3|        2|       2249|   13878|     2|         0|   4|\n",
            "+--------------------+----------+----------+------+--------+---------+-----------+--------+------+----------+----+\n",
            "only showing top 5 rows\n",
            "\n",
            "\u001b[37m2023-09-06 01:20:09.624815\u001b[33m STEP 01 - Spark operation - Source data read successfully\u001b[37m----------------------------\n",
            "\u001b[37m2023-09-06 01:20:09.626715\u001b[33m STEP 01 - DONE\u001b[37m-----------------------------------------------------------------------\n",
            "\u001b[37m2023-09-06 01:20:09.637245\u001b[33m STEP 01 - ELAPSED TIME: 0:00:28.770066 seconds\u001b[37m---------------------------------------\n"
          ]
        }
      ],
      "source": [
        "#\n",
        "# Step 01 - Read in the source file into a DataFrame.\n",
        "#\n",
        "\n",
        "start_time = datetime.datetime.now()\n",
        "logStep(\"01 - READ SOURCE DATA\");\n",
        "\n",
        "try:\n",
        "  findspark.init()\n",
        "  spark = SparkSession.builder.appName(\"SparkSQL\").getOrCreate()\n",
        "  spark.sparkContext.setLogLevel(\"ERROR\")\n",
        "  url   = \"https://2u-data-curriculum-team.s3.amazonaws.com/dataviz-classroom/v1.2/22-big-data/home_sales_revised.csv\"\n",
        "  spark.sparkContext.addFile(url)\n",
        "  home_df = spark.read.csv(SparkFiles.get(\"home_sales_revised.csv\"), sep=\",\", header=True, ignoreLeadingWhiteSpace=True)\n",
        "  home_df.show(5)\n",
        "except Exception as e:\n",
        "  logStep(F\"Exception: {e}\")\n",
        "  sys.exit(1)\n",
        "else:\n",
        "  logStep(\"01 - Spark operation - Source data read successfully\")\n",
        "\n",
        "logStep(\"01 - DONE\");\n",
        "end_time           = datetime.datetime.now()\n",
        "step01_elapsed_time = end_time - start_time\n",
        "logStep(F\"01 - ELAPSED TIME: {step01_elapsed_time} seconds\")"
      ]
    },
    {
      "cell_type": "markdown",
      "metadata": {
        "id": "__nYOhFQd6Yp"
      },
      "source": [
        "Step 02 - Create a temporary view of the DataFrame."
      ]
    },
    {
      "cell_type": "code",
      "execution_count": 3,
      "metadata": {
        "id": "RoljcJ7WPpnm",
        "colab": {
          "base_uri": "https://localhost:8080/"
        },
        "outputId": "68fb2335-12c7-4bd5-f5cc-6d46dde4c95e"
      },
      "outputs": [
        {
          "output_type": "stream",
          "name": "stdout",
          "text": [
            "\u001b[37m2023-09-06 01:20:09.650543\u001b[33m STEP 02 - CREATE A TEMPORARY VIEW\u001b[37m----------------------------------------------------\n",
            "\u001b[37m2023-09-06 01:20:09.732856\u001b[33m STEP 02 - Spark operation - Temporary view created successfully\u001b[37m----------------------\n",
            "\u001b[37m2023-09-06 01:20:09.735424\u001b[33m STEP 02 - DONE\u001b[37m-----------------------------------------------------------------------\n",
            "\u001b[37m2023-09-06 01:20:09.736962\u001b[33m STEP 02 - ELAPSED TIME: 0:00:00.086202 seconds\u001b[37m---------------------------------------\n"
          ]
        }
      ],
      "source": [
        "#\n",
        "# Step 02 - Create a temporary view of the DataFrame.\n",
        "#\n",
        "\n",
        "start_time         = datetime.datetime.now()\n",
        "logStep(\"02 - CREATE A TEMPORARY VIEW\")\n",
        "\n",
        "try:\n",
        "  home_df.createOrReplaceTempView('home_sales')\n",
        "except Exception as e:\n",
        "  logStep(F\"Exception: {e}\")\n",
        "  sys.exit(1)\n",
        "else:\n",
        "  logStep(\"02 - Spark operation - Temporary view created successfully\")\n",
        "\n",
        "logStep(\"02 - DONE\")\n",
        "end_time           = datetime.datetime.now()\n",
        "step02_elapsed_time = end_time - start_time\n",
        "logStep(F\"02 - ELAPSED TIME: {step02_elapsed_time} seconds\")"
      ]
    },
    {
      "cell_type": "markdown",
      "metadata": {
        "id": "sgaa8ukyd6Yp"
      },
      "source": [
        "Step 03 - What is the average price for a four bedroom house sold in each year rounded to two decimal places?"
      ]
    },
    {
      "cell_type": "code",
      "execution_count": 4,
      "metadata": {
        "colab": {
          "base_uri": "https://localhost:8080/"
        },
        "id": "L6fkwOeOmqvq",
        "outputId": "533fe183-26cc-47e6-c595-d799b0fd205d"
      },
      "outputs": [
        {
          "output_type": "stream",
          "name": "stdout",
          "text": [
            "\u001b[37m2023-09-06 01:20:09.748889\u001b[33m STEP 03 - WHAT IS THE AVERAGE PRICE?=4BR\u001b[37m---------------------------------------------\n",
            "+----+---------+\n",
            "|YEAR|  AVERAGE|\n",
            "+----+---------+\n",
            "|2022|296363.88|\n",
            "|2021|301819.44|\n",
            "|2020|298353.78|\n",
            "|2019| 300263.7|\n",
            "+----+---------+\n",
            "\n",
            "\u001b[37m2023-09-06 01:20:15.734538\u001b[33m STEP 03 - Spark operation - Query executed successfully\u001b[37m------------------------------\n",
            "\u001b[37m2023-09-06 01:20:15.737727\u001b[33m STEP 03 - DONE\u001b[37m-----------------------------------------------------------------------\n",
            "\u001b[37m2023-09-06 01:20:15.739796\u001b[33m STEP 03 - ELAPSED TIME: 0:00:05.990850 seconds\u001b[37m---------------------------------------\n"
          ]
        }
      ],
      "source": [
        "#\n",
        "# Step 03 - What is the average price for a four bedroom house sold in each year rounded to two decimal places?\n",
        "#\n",
        "\n",
        "start_time         = datetime.datetime.now()\n",
        "logStep(\"03 - WHAT IS THE AVERAGE PRICE?=4BR\")\n",
        "\n",
        "try:\n",
        "  spark.sql(\"SELECT YEAR(date)          AS YEAR, \\\n",
        "                    ROUND(AVG(price),2) AS AVERAGE \\\n",
        "               FROM home_sales \\\n",
        "              WHERE bedrooms == 4 \\\n",
        "           GROUP BY YEAR(date) \\\n",
        "           ORDER BY YEAR(date) DESC\").show(5)\n",
        "except Exception as e:\n",
        "     logStep(F\"Exception: {e}\")\n",
        "     sys.exit(1)\n",
        "else:\n",
        "     logStep(\"03 - Spark operation - Query executed successfully\")\n",
        "\n",
        "\n",
        "logStep(\"03 - DONE\")\n",
        "end_time           = datetime.datetime.now()\n",
        "step03_elapsed_time = end_time - start_time\n",
        "logStep(F\"03 - ELAPSED TIME: {step03_elapsed_time} seconds\")"
      ]
    },
    {
      "cell_type": "markdown",
      "metadata": {
        "id": "eIqWtU70d6Yq"
      },
      "source": [
        "Step 04 - What is the average price of a home for each year the home was built that have 3 bedrooms and 3 bathrooms rounded to two decimal places?"
      ]
    },
    {
      "cell_type": "code",
      "execution_count": 5,
      "metadata": {
        "colab": {
          "base_uri": "https://localhost:8080/"
        },
        "id": "l8p_tUS8h8it",
        "outputId": "eea9e4ab-2678-4b49-8667-4d06f442b671"
      },
      "outputs": [
        {
          "output_type": "stream",
          "name": "stdout",
          "text": [
            "\u001b[37m2023-09-06 01:20:15.758704\u001b[33m STEP 04 - WHAT IS THE AVERAGE PRICE?=3BR/3B\u001b[37m------------------------------------------\n",
            "+----+---------+\n",
            "|YEAR|  AVERAGE|\n",
            "+----+---------+\n",
            "|2017|292676.79|\n",
            "|2016|290555.07|\n",
            "|2015| 288770.3|\n",
            "|2014|290852.27|\n",
            "|2013|295962.27|\n",
            "+----+---------+\n",
            "only showing top 5 rows\n",
            "\n",
            "\u001b[37m2023-09-06 01:20:19.971614\u001b[33m STEP 04 - Spark operation - Query executed successfully\u001b[37m------------------------------\n",
            "\u001b[37m2023-09-06 01:20:19.975483\u001b[33m STEP 04 - DONE\u001b[37m-----------------------------------------------------------------------\n",
            "\u001b[37m2023-09-06 01:20:19.977222\u001b[33m STEP 04 - ELAPSED TIME: 0:00:04.216756 seconds\u001b[37m---------------------------------------\n"
          ]
        }
      ],
      "source": [
        "#\n",
        "# Step 04 - What is the average price of a home for each year the home was built that have 3 bedrooms and 3 bathrooms rounded to two decimal places?\n",
        "#\n",
        "\n",
        "start_time         = datetime.datetime.now()\n",
        "logStep(\"04 - WHAT IS THE AVERAGE PRICE?=3BR/3B\")\n",
        "\n",
        "try:\n",
        "  spark.sql(\"SELECT date_built          AS YEAR , \\\n",
        "                    ROUND(AVG(price),2) AS AVERAGE  \\\n",
        "               FROM home_sales \\\n",
        "              WHERE bedrooms == 3 AND \\\n",
        "                    bathrooms == 3 \\\n",
        "          GROUP BY date_built \\\n",
        "          ORDER BY date_built DESC\").show(5)\n",
        "except Exception as e:\n",
        "     logStep(F\"Exception: {e}\")\n",
        "     sys.exit(1)\n",
        "else:\n",
        "     logStep(\"04 - Spark operation - Query executed successfully\")\n",
        "\n",
        "\n",
        "end_time           = datetime.datetime.now()\n",
        "logStep(\"04 - DONE\")\n",
        "step04_elapsed_time = end_time - start_time\n",
        "logStep(F\"04 - ELAPSED TIME: {step04_elapsed_time} seconds\")\n"
      ]
    },
    {
      "cell_type": "markdown",
      "metadata": {
        "id": "3GdRzLDRd6Yq"
      },
      "source": [
        "Step 05 - What is the average price of a home for each year built that have 3 bedrooms, 3 bathrooms, with two floors, and are greater than or equal to 2,000 square feet rounded to two decimal places?"
      ]
    },
    {
      "cell_type": "code",
      "execution_count": 6,
      "metadata": {
        "colab": {
          "base_uri": "https://localhost:8080/"
        },
        "id": "Y-Eytz64liDU",
        "outputId": "e36b4e64-992b-453d-99bf-1141a5ad0cc8"
      },
      "outputs": [
        {
          "output_type": "stream",
          "name": "stdout",
          "text": [
            "\u001b[37m2023-09-06 01:20:20.004660\u001b[33m STEP 05 - WHAT IS THE AVERAGE PRICE?=3R/3/2\u001b[37m------------------------------------------\n",
            "+----+---------+\n",
            "|YEAR|  AVERAGE|\n",
            "+----+---------+\n",
            "|2017|280317.58|\n",
            "|2016| 293965.1|\n",
            "|2015|297609.97|\n",
            "|2014|298264.72|\n",
            "|2013|303676.79|\n",
            "+----+---------+\n",
            "only showing top 5 rows\n",
            "\n",
            "\u001b[37m2023-09-06 01:20:22.088113\u001b[33m STEP 05 = Spark operation - Query executed successfully\u001b[37m------------------------------\n",
            "\u001b[37m2023-09-06 01:20:22.091447\u001b[33m STEP 05 - DONE\u001b[37m-----------------------------------------------------------------------\n",
            "\u001b[37m2023-09-06 01:20:22.092647\u001b[33m STEP 05 - ELAPSED TIME: 0:00:02.086773 seconds\u001b[37m---------------------------------------\n"
          ]
        }
      ],
      "source": [
        "#\n",
        "# Step 05 - What is the average price of a home for each year built that have 3 bedrooms, 3 bathrooms, with two floors,\n",
        "# and are greater than or equal to 2,000 square feet rounded to two decimal places?\n",
        "#\n",
        "\n",
        "start_time         = datetime.datetime.now()\n",
        "logStep(\"05 - WHAT IS THE AVERAGE PRICE?=3R/3/2\")\n",
        "\n",
        "try:\n",
        "  spark.sql(\"SELECT date_built          AS YEAR, \\\n",
        "                    ROUND(AVG(price),2) AS AVERAGE \\\n",
        "               FROM home_sales \\\n",
        "              WHERE bedrooms    == 3 AND \\\n",
        "                    bathrooms   == 3 AND \\\n",
        "                    floors      == 2 AND \\\n",
        "                    sqft_living >= 2000 \\\n",
        "           GROUP BY date_built \\\n",
        "           ORDER BY date_built DESC\").show(5)\n",
        "except Exception as e:\n",
        "  LogStep(F\"Exception: {e}\")\n",
        "  sys.exit(1)\n",
        "else:\n",
        "  logStep(\"05 = Spark operation - Query executed successfully\")\n",
        "\n",
        "\n",
        "end_time           = datetime.datetime.now()\n",
        "logStep(\"05 - DONE\")\n",
        "step05_elapsed_time = end_time - start_time\n",
        "logStep(F\"05 - ELAPSED TIME: {step05_elapsed_time} seconds\")\n"
      ]
    },
    {
      "cell_type": "markdown",
      "metadata": {
        "id": "mkWhkkBud6Yr"
      },
      "source": [
        "Step 06 - What is the \"view\" rating for the average price of a home, rounded to two decimal places, where the homes are greater than or equal to $350,000? Although this is a small dataset, determine the run time for this query."
      ]
    },
    {
      "cell_type": "code",
      "execution_count": 7,
      "metadata": {
        "colab": {
          "base_uri": "https://localhost:8080/"
        },
        "id": "GUrfgOX1pCRd",
        "outputId": "57f21848-9ec0-4e55-9ba6-90ba4d8b545e"
      },
      "outputs": [
        {
          "output_type": "stream",
          "name": "stdout",
          "text": [
            "\u001b[37m2023-09-06 01:20:22.102053\u001b[33m STEP 06 - WHAT IS THE AVERAGE PRICE?=300K\u001b[37m--------------------------------------------\n",
            "+----+----------+\n",
            "|VIEW|   AVERAGE|\n",
            "+----+----------+\n",
            "|  99|1061201.42|\n",
            "|  98|1053739.33|\n",
            "|  97|1129040.15|\n",
            "|  96|1017815.92|\n",
            "|  95| 1054325.6|\n",
            "+----+----------+\n",
            "only showing top 5 rows\n",
            "\n",
            "\u001b[37m2023-09-06 01:20:24.133981\u001b[33m STEP 06 - Spark operation - Query executed successfully\u001b[37m------------------------------\n",
            "\u001b[37m2023-09-06 01:20:24.137354\u001b[33m STEP 06 - DONE\u001b[37m-----------------------------------------------------------------------\n",
            "\u001b[37m2023-09-06 01:20:24.138486\u001b[33m STEP 06 - ELAPSED TIME: 0:00:02.035284 seconds\u001b[37m---------------------------------------\n"
          ]
        }
      ],
      "source": [
        "#\n",
        "# Ste 06 - What is the \"view\" rating for the average price of a home, rounded to two decimal places, where the homes are greater than or equal to $350,000? Although this is a small dataset, determine the run time for this query.\n",
        "#\n",
        "\n",
        "start_time         = datetime.datetime.now()\n",
        "logStep(\"06 - WHAT IS THE AVERAGE PRICE?=300K\")\n",
        "\n",
        "try:\n",
        "  spark.sql(\"SELECT view                AS VIEW, \\\n",
        "                    ROUND(AVG(price),2) AS AVERAGE \\\n",
        "               FROM home_sales \\\n",
        "           GROUP BY view \\\n",
        "             HAVING ROUND(AVG(price),2) >= 350000 \\\n",
        "           ORDER BY view DESC\").show(5)\n",
        "except Exception as e:\n",
        "  logStep(F\"Exception: {e}\")\n",
        "  sys.exit(1)\n",
        "else:\n",
        "  logStep(\"06 - Spark operation - Query executed successfully\")\n",
        "\n",
        "end_time           = datetime.datetime.now()\n",
        "logStep(\"06 - DONE\")\n",
        "step06_elapsed_time = end_time - start_time\n",
        "logStep(F\"06 - ELAPSED TIME: {step06_elapsed_time} seconds\")\n"
      ]
    },
    {
      "cell_type": "markdown",
      "metadata": {
        "id": "O--pkcmAd6Yr"
      },
      "source": [
        "Step 07 - Cache the the temporary table home_sales."
      ]
    },
    {
      "cell_type": "code",
      "execution_count": 8,
      "metadata": {
        "colab": {
          "base_uri": "https://localhost:8080/"
        },
        "id": "KAhk3ZD2tFy8",
        "outputId": "113c33f6-f0d4-40ae-ac38-6aea47786695"
      },
      "outputs": [
        {
          "output_type": "stream",
          "name": "stdout",
          "text": [
            "\u001b[37m2023-09-06 01:20:24.164700\u001b[33m STEP 07 - CACHE HOME DATA\u001b[37m------------------------------------------------------------\n",
            "\u001b[37m2023-09-06 01:20:27.137922\u001b[33m STEP 07 - Spark operation - Cache executed successfully\u001b[37m------------------------------\n",
            "\u001b[37m2023-09-06 01:20:27.140948\u001b[33m STEP 07 - DONE\u001b[37m-----------------------------------------------------------------------\n",
            "\u001b[37m2023-09-06 01:20:27.142119\u001b[33m STEP 07 - ELAPSED TIME: 0:00:02.976222 seconds\u001b[37m---------------------------------------\n"
          ]
        }
      ],
      "source": [
        "#\n",
        "# Step 07 - Cache the the temporary table home_sales.\n",
        "#\n",
        "\n",
        "start_time         = datetime.datetime.now()\n",
        "logStep(\"07 - CACHE HOME DATA\")\n",
        "\n",
        "try:\n",
        "  spark.sql(\"cache table home_sales\")\n",
        "except Exception as e:\n",
        "    logStep(F\"Exception: {e}\")\n",
        "    sys.exit(1)\n",
        "else:\n",
        "    logStep(\"07 - Spark operation - Cache executed successfully\")\n",
        "\n",
        "\n",
        "end_time           = datetime.datetime.now()\n",
        "logStep(\"07 - DONE\")\n",
        "step07_elapsed_time = end_time - start_time\n",
        "logStep(F\"07 - ELAPSED TIME: {step07_elapsed_time} seconds\")"
      ]
    },
    {
      "cell_type": "markdown",
      "metadata": {
        "id": "7aOaAJ8Dd6Ys"
      },
      "source": [
        "Step 08 - Check if the table is cached."
      ]
    },
    {
      "cell_type": "code",
      "execution_count": 9,
      "metadata": {
        "colab": {
          "base_uri": "https://localhost:8080/"
        },
        "id": "4opVhbvxtL-i",
        "outputId": "f700058a-729f-486a-e25c-0e0dbf00e065"
      },
      "outputs": [
        {
          "output_type": "stream",
          "name": "stdout",
          "text": [
            "\u001b[37m2023-09-06 01:20:27.155680\u001b[33m STEP 08 - IS THE DATA CACHED?\u001b[37m--------------------------------------------------------\n",
            "\u001b[37m2023-09-06 01:20:27.192789\u001b[33m STEP 08 - home_sales is cached\u001b[37m-------------------------------------------------------\n",
            "\u001b[37m2023-09-06 01:20:27.195463\u001b[33m STEP 08 - Spark operation - Cache check executed successfully\u001b[37m------------------------\n",
            "\u001b[37m2023-09-06 01:20:27.196701\u001b[33m STEP 08 - DONE\u001b[37m-----------------------------------------------------------------------\n",
            "\u001b[37m2023-09-06 01:20:27.198125\u001b[33m STEP 08 - ELAPSED TIME: 0:00:00.041023 seconds\u001b[37m---------------------------------------\n"
          ]
        }
      ],
      "source": [
        "#\n",
        "# Step 08 - Check if the table is cached.\n",
        "#\n",
        "\n",
        "start_time         = datetime.datetime.now()\n",
        "logStep(\"08 - IS THE DATA CACHED?\")\n",
        "\n",
        "try:\n",
        "  if (spark.catalog.isCached('home_sales') == False):\n",
        "    logStep(\"08 - home_sales is not cached\")\n",
        "  else:\n",
        "    logStep(\"08 - home_sales is cached\")\n",
        "except Exception as e:\n",
        "    logStep(F\"Exception: {e}\")\n",
        "    sys.exit(1)\n",
        "else:\n",
        "    logStep(\"08 - Spark operation - Cache check executed successfully\")\n",
        "\n",
        "end_time           = datetime.datetime.now()\n",
        "logStep(\"08 - DONE\")\n",
        "step08_elapsed_time = end_time - start_time\n",
        "logStep(F\"08 - ELAPSED TIME: {step08_elapsed_time} seconds\")"
      ]
    },
    {
      "cell_type": "markdown",
      "metadata": {
        "id": "JfxFJOhqd6Ys"
      },
      "source": [
        "Step 09 - Using the cached data, run the query that filters out the view ratings with average price greater than or equal to $350,000. Determine the runtime and compare it to uncached runtime."
      ]
    },
    {
      "cell_type": "code",
      "execution_count": 10,
      "metadata": {
        "colab": {
          "base_uri": "https://localhost:8080/"
        },
        "id": "5GnL46lwTSEk",
        "outputId": "18893502-9d94-41b4-aad8-19cfab1ba127"
      },
      "outputs": [
        {
          "output_type": "stream",
          "name": "stdout",
          "text": [
            "\u001b[37m2023-09-06 01:20:27.206910\u001b[33m STEP 09 - REPEAT QUERY\u001b[37m---------------------------------------------------------------\n",
            "+----+----------+\n",
            "|VIEW|   AVERAGE|\n",
            "+----+----------+\n",
            "|  99|1061201.42|\n",
            "|  98|1053739.33|\n",
            "|  97|1129040.15|\n",
            "|  96|1017815.92|\n",
            "|  95| 1054325.6|\n",
            "+----+----------+\n",
            "only showing top 5 rows\n",
            "\n",
            "\u001b[37m2023-09-06 01:20:27.840644\u001b[33m STEP 09 - Spark operation - Query executed successfully\u001b[37m------------------------------\n",
            "\u001b[37m2023-09-06 01:20:27.844012\u001b[33m STEP 09 - DONE\u001b[37m-----------------------------------------------------------------------\n",
            "\u001b[37m2023-09-06 01:20:27.845699\u001b[33m STEP 09 - ELAPSED TIME: 0:00:00.637128 seconds\u001b[37m---------------------------------------\n"
          ]
        }
      ],
      "source": [
        "#\n",
        "# Step 09 - Using the cached data, run the query that filters out the view ratings with average price greater than or equal to $350,000. Determine the runtime and compare it to uncached runtime.\n",
        "#\n",
        "\n",
        "start_time         = datetime.datetime.now()\n",
        "logStep(\"09 - REPEAT QUERY\")\n",
        "\n",
        "try:\n",
        "  spark.sql(\"SELECT view                AS VIEW, \\\n",
        "                    ROUND(AVG(price),2) AS AVERAGE \\\n",
        "               FROM home_sales \\\n",
        "           GROUP BY view \\\n",
        "             HAVING ROUND(AVG(price),2) >= 350000 \\\n",
        "           ORDER BY view DESC\").show(5)\n",
        "except Exception as e:\n",
        "  logStep(F\"Exception: {e}\")\n",
        "  sys.exit(1)\n",
        "else:\n",
        "  logStep(\"09 - Spark operation - Query executed successfully\")\n",
        "\n",
        "end_time           = datetime.datetime.now()\n",
        "logStep(\"09 - DONE\")\n",
        "step09_elapsed_time = end_time - start_time\n",
        "logStep(F\"09 - ELAPSED TIME: {step09_elapsed_time} seconds\")\n"
      ]
    },
    {
      "cell_type": "markdown",
      "metadata": {
        "id": "IP3XJmHgd6Yt"
      },
      "source": [
        "Step 10 - Determine the runtime and compare to the original runtime"
      ]
    },
    {
      "cell_type": "code",
      "execution_count": 11,
      "metadata": {
        "colab": {
          "base_uri": "https://localhost:8080/"
        },
        "id": "GAYsuFaZuCmw",
        "outputId": "c9f9608f-c427-49f4-c0b7-9afe4529b93a"
      },
      "outputs": [
        {
          "output_type": "stream",
          "name": "stdout",
          "text": [
            "\u001b[37m2023-09-06 01:20:27.860589\u001b[33m STEP 10 - RUNTIME DIFFERENCE\u001b[37m---------------------------------------------------------\n",
            "\u001b[37m2023-09-06 01:20:27.863880\u001b[33m STEP 10 - Time required for a non-cached Query: 0:00:02.035284\u001b[37m-----------------------\n",
            "\u001b[37m2023-09-06 01:20:27.866016\u001b[33m STEP 10 - Time required for a cached Query    : 0:00:00.637128\u001b[37m-----------------------\n",
            "\u001b[37m2023-09-06 01:20:27.867402\u001b[33m STEP 10 - Time difference                     : 0:00:01.398156\u001b[37m-----------------------\n",
            "\u001b[37m2023-09-06 01:20:27.870299\u001b[33m STEP 10 - DONE\u001b[37m-----------------------------------------------------------------------\n",
            "\u001b[37m2023-09-06 01:20:27.871701\u001b[33m STEP 10 - ELAPSED TIME: 0:00:00.009663 seconds\u001b[37m---------------------------------------\n"
          ]
        }
      ],
      "source": [
        "#\n",
        "# Step 10 Determine the runtime and compare to the original runtime\n",
        "#\n",
        "\n",
        "start_time         = datetime.datetime.now()\n",
        "logStep(\"10 - RUNTIME DIFFERENCE\")\n",
        "\n",
        "time_difference = step06_elapsed_time - step09_elapsed_time\n",
        "logStep(F\"10 - Time required for a non-cached Query: {step06_elapsed_time}\")\n",
        "logStep(F\"10 - Time required for a cached Query    : {step09_elapsed_time}\")\n",
        "logStep(F\"10 - Time difference                     : {time_difference}\")\n",
        "\n",
        "\n",
        "end_time           = datetime.datetime.now()\n",
        "logStep(\"10 - DONE\")\n",
        "step10_elapsed_time = end_time - start_time\n",
        "logStep(F\"10 - ELAPSED TIME: {step10_elapsed_time} seconds\")"
      ]
    },
    {
      "cell_type": "markdown",
      "metadata": {
        "id": "8ZWQE2r_d6Yt"
      },
      "source": [
        "Step 11 - Partition by the \"date_built\" field on the formatted parquet home sales data"
      ]
    },
    {
      "cell_type": "code",
      "execution_count": 12,
      "metadata": {
        "id": "Qm12WN9isHBR",
        "colab": {
          "base_uri": "https://localhost:8080/"
        },
        "outputId": "54193a3e-daf0-4a5e-9c0f-aefc04e9fe56"
      },
      "outputs": [
        {
          "output_type": "stream",
          "name": "stdout",
          "text": [
            "\u001b[37m2023-09-06 01:20:27.903802\u001b[33m STEP 11 - FORMATTED PARQUET\u001b[37m----------------------------------------------------------\n",
            "+--------------------+----------+----------+------+--------+---------+-----------+--------+------+----------+----+\n",
            "|                  id|      date|date_built| price|bedrooms|bathrooms|sqft_living|sqft_lot|floors|waterfront|view|\n",
            "+--------------------+----------+----------+------+--------+---------+-----------+--------+------+----------+----+\n",
            "|f8a53099-ba1c-47d...|2022-04-08|      2016|936923|       4|        3|       3167|   11733|     2|         1|  76|\n",
            "|7530a2d8-1ae3-451...|2021-06-13|      2013|379628|       2|        2|       2235|   14384|     1|         0|  23|\n",
            "|43de979c-0bf0-4c9...|2019-04-12|      2014|417866|       2|        2|       2127|   10575|     2|         0|   0|\n",
            "|b672c137-b88c-48b...|2019-10-16|      2016|239895|       2|        2|       1631|   11149|     2|         0|   0|\n",
            "|e0726d4d-d595-407...|2022-01-08|      2017|424418|       3|        2|       2249|   13878|     2|         0|   4|\n",
            "+--------------------+----------+----------+------+--------+---------+-----------+--------+------+----------+----+\n",
            "only showing top 5 rows\n",
            "\n",
            "\u001b[37m2023-09-06 01:20:32.483241\u001b[33m STEP 11 - Spark operation - Parquet file created successfully.\u001b[37m-----------------------\n",
            "\u001b[37m2023-09-06 01:20:32.496054\u001b[33m STEP 11 - DONE\u001b[37m-----------------------------------------------------------------------\n",
            "\u001b[37m2023-09-06 01:20:32.498139\u001b[33m STEP 11 - ELAPSED TIME: 0:00:04.592222 seconds\u001b[37m---------------------------------------\n"
          ]
        }
      ],
      "source": [
        "#\n",
        "# Step 11 - Partition by the \"date_built\" field on the formatted parquet home sales data\n",
        "#\n",
        "\n",
        "start_time         = datetime.datetime.now()\n",
        "logStep(\"11 - FORMATTED PARQUET\")\n",
        "\n",
        "try:\n",
        "  home_df.write.parquet('home_parquet', mode='overwrite',partitionBy='date_built')\n",
        "  home_df.show(5)\n",
        "except Exception as e:\n",
        "  logStep(F\"Exception: {e}\")\n",
        "  sys.exit(1)\n",
        "else:\n",
        "  logStep(\"11 - Spark operation - Parquet file created successfully.\")\n",
        "\n",
        "end_time           = datetime.datetime.now()\n",
        "logStep(\"11 - DONE\")\n",
        "step11_elapsed_time = end_time - start_time\n",
        "logStep(F\"11 - ELAPSED TIME: {step11_elapsed_time} seconds\")"
      ]
    },
    {
      "cell_type": "markdown",
      "metadata": {
        "id": "y6RVDCk0d6Yt"
      },
      "source": [
        "Step 12 - Read the parquet formatted data."
      ]
    },
    {
      "cell_type": "code",
      "execution_count": 13,
      "metadata": {
        "id": "AZ7BgY61sRqY",
        "colab": {
          "base_uri": "https://localhost:8080/"
        },
        "outputId": "a083aad3-6a0f-47b1-ede8-31157621ad4d"
      },
      "outputs": [
        {
          "output_type": "stream",
          "name": "stdout",
          "text": [
            "\u001b[37m2023-09-06 01:20:32.535191\u001b[33m STEP 12 - READ PARQUET\u001b[37m---------------------------------------------------------------\n",
            "+--------------------+----------+------+--------+---------+-----------+--------+------+----------+----+----------+\n",
            "|                  id|      date| price|bedrooms|bathrooms|sqft_living|sqft_lot|floors|waterfront|view|date_built|\n",
            "+--------------------+----------+------+--------+---------+-----------+--------+------+----------+----+----------+\n",
            "|2ed8d509-7372-46d...|2021-08-06|258710|       3|        3|       1918|    9666|     1|         0|  25|      2015|\n",
            "|941bad30-eb49-4a7...|2020-05-09|229896|       3|        3|       2197|    8641|     1|         0|   3|      2015|\n",
            "|c797ca12-52cd-4b1...|2019-06-08|288650|       2|        3|       2100|   10419|     2|         0|   7|      2015|\n",
            "|0cfe57f3-28c2-472...|2019-10-04|308313|       3|        3|       1960|    9453|     2|         0|   2|      2015|\n",
            "|d715f295-2fbf-4e9...|2021-05-17|391574|       3|        2|       1635|    8040|     2|         0|  10|      2015|\n",
            "+--------------------+----------+------+--------+---------+-----------+--------+------+----------+----+----------+\n",
            "only showing top 5 rows\n",
            "\n",
            "\u001b[37m2023-09-06 01:20:34.353951\u001b[33m STEP 12 - Spark operation - Parquet file read successfully\u001b[37m---------------------------\n",
            "\u001b[37m2023-09-06 01:20:34.357974\u001b[33m STEP 12 - DONE\u001b[37m-----------------------------------------------------------------------\n",
            "\u001b[37m2023-09-06 01:20:34.363970\u001b[33m STEP 12 - ELAPSED TIME: 0:00:01.822762 seconds\u001b[37m---------------------------------------\n"
          ]
        }
      ],
      "source": [
        "#\n",
        "# Step 12 - Read the parquet formatted data.\n",
        "#\n",
        "\n",
        "start_time         = datetime.datetime.now()\n",
        "logStep(\"12 - READ PARQUET\")\n",
        "\n",
        "try:\n",
        "  parquet_home_df = spark.read.parquet('home_parquet')\n",
        "  parquet_home_df.show(5)\n",
        "except Exception as e:\n",
        "  logStep(Fore.RED + F\"Exception: {e}\")\n",
        "  sys.exit(1)\n",
        "else:\n",
        "  logStep(\"12 - Spark operation - Parquet file read successfully\")\n",
        "\n",
        "end_time           = datetime.datetime.now()\n",
        "logStep(\"12 - DONE\")\n",
        "step12_elapsed_time = end_time - start_time\n",
        "logStep(F\"12 - ELAPSED TIME: {step12_elapsed_time} seconds\")"
      ]
    },
    {
      "cell_type": "markdown",
      "metadata": {
        "id": "xwgUy1Qfd6Yu"
      },
      "source": [
        "Step 13 - Create a temporary table for the parquet data."
      ]
    },
    {
      "cell_type": "code",
      "execution_count": 14,
      "metadata": {
        "id": "J6MJkHfvVcvh",
        "colab": {
          "base_uri": "https://localhost:8080/"
        },
        "outputId": "d81a07c9-6f6f-45bc-f6e8-f59ed175d9cf"
      },
      "outputs": [
        {
          "output_type": "stream",
          "name": "stdout",
          "text": [
            "\u001b[37m2023-09-06 01:20:34.385870\u001b[33m STEP 13 - CREATE PARQUET VIEW\u001b[37m--------------------------------------------------------\n",
            "+--------------------+----------+------+--------+---------+-----------+--------+------+----------+----+----------+\n",
            "|                  id|      date| price|bedrooms|bathrooms|sqft_living|sqft_lot|floors|waterfront|view|date_built|\n",
            "+--------------------+----------+------+--------+---------+-----------+--------+------+----------+----+----------+\n",
            "|2ed8d509-7372-46d...|2021-08-06|258710|       3|        3|       1918|    9666|     1|         0|  25|      2015|\n",
            "|941bad30-eb49-4a7...|2020-05-09|229896|       3|        3|       2197|    8641|     1|         0|   3|      2015|\n",
            "|c797ca12-52cd-4b1...|2019-06-08|288650|       2|        3|       2100|   10419|     2|         0|   7|      2015|\n",
            "|0cfe57f3-28c2-472...|2019-10-04|308313|       3|        3|       1960|    9453|     2|         0|   2|      2015|\n",
            "|d715f295-2fbf-4e9...|2021-05-17|391574|       3|        2|       1635|    8040|     2|         0|  10|      2015|\n",
            "+--------------------+----------+------+--------+---------+-----------+--------+------+----------+----+----------+\n",
            "only showing top 5 rows\n",
            "\n",
            "\u001b[37m2023-09-06 01:20:34.972907\u001b[33m STEP 13 - Spark operation - Parquet view created successfully\u001b[37m------------------------\n",
            "\u001b[37m2023-09-06 01:20:34.980511\u001b[33m STEP 13 - DONE\u001b[37m-----------------------------------------------------------------------\n",
            "\u001b[37m2023-09-06 01:20:34.981776\u001b[33m STEP 13 - ELAPSED TIME: 0:00:00.594672 seconds\u001b[37m---------------------------------------\n"
          ]
        }
      ],
      "source": [
        "#\n",
        "# Step 13 - Create a temporary table for the parquet data.\n",
        "#\n",
        "\n",
        "start_time         = datetime.datetime.now()\n",
        "logStep(\"13 - CREATE PARQUET VIEW\")\n",
        "\n",
        "try:\n",
        "  parquet_home_df.createOrReplaceTempView('parquet_temp_home')\n",
        "  parquet_home_df.show(5)\n",
        "except Exception as e:\n",
        "  print(Fore.RED + F\"Exception: {e}\")\n",
        "  sys.exit(1)\n",
        "else:\n",
        "  logStep(\"13 - Spark operation - Parquet view created successfully\")\n",
        "\n",
        "end_time           = datetime.datetime.now()\n",
        "logStep(\"13 - DONE\")\n",
        "step13_elapsed_time = end_time - start_time\n",
        "logStep(F\"13 - ELAPSED TIME: {step13_elapsed_time} seconds\")"
      ]
    },
    {
      "cell_type": "markdown",
      "metadata": {
        "id": "5P6NJJacd6Yu"
      },
      "source": [
        "Step 14 - Run the query that filters out the view ratings with average price of greater than or equal to $350,000 with the parquet DataFrame. Round your average to two decimal places"
      ]
    },
    {
      "cell_type": "code",
      "execution_count": 15,
      "metadata": {
        "colab": {
          "base_uri": "https://localhost:8080/"
        },
        "id": "G_Vhb52rU1Sn",
        "outputId": "af359383-d955-449d-906c-2f30e9ad2acc"
      },
      "outputs": [
        {
          "output_type": "stream",
          "name": "stdout",
          "text": [
            "\u001b[37m2023-09-06 01:20:35.018483\u001b[33m STEP 14 - REPEAT QUERY\u001b[37m---------------------------------------------------------------\n",
            "+----+----------+\n",
            "|VIEW|   AVERAGE|\n",
            "+----+----------+\n",
            "|  99|1061201.42|\n",
            "|  98|1053739.33|\n",
            "|  97|1129040.15|\n",
            "|  96|1017815.92|\n",
            "|  95| 1054325.6|\n",
            "+----+----------+\n",
            "only showing top 5 rows\n",
            "\n",
            "\u001b[37m2023-09-06 01:20:36.260975\u001b[33m STEP 14 - Spark operation - Parquet query executed successfully.\u001b[37m---------------------\n",
            "\u001b[37m2023-09-06 01:20:36.271403\u001b[33m STEP 14 - DONE\u001b[37m-----------------------------------------------------------------------\n",
            "\u001b[37m2023-09-06 01:20:36.281185\u001b[33m STEP 14 - ELAPSED TIME: 0:00:01.252779 seconds\u001b[37m---------------------------------------\n"
          ]
        }
      ],
      "source": [
        "#\n",
        "# Step 14 - Run the query that filters out the view ratings with average price of greater than or equal to $350,000 with the parquet DataFrame. Round your average to two decimal places.\n",
        "#\n",
        "\n",
        "start_time         = datetime.datetime.now()\n",
        "logStep(\"14 - REPEAT QUERY\")\n",
        "\n",
        "try:\n",
        "  spark.sql(\"SELECT view                AS VIEW, \\\n",
        "                    ROUND(AVG(price),2) AS AVERAGE \\\n",
        "               FROM parquet_temp_home \\\n",
        "           GROUP BY view \\\n",
        "             HAVING ROUND(AVG(price),2) >= 350000 \\\n",
        "           ORDER BY view DESC\").show(5)\n",
        "except Exception as e:\n",
        "  logStep(Fore.RED + F\"Exception: {e}\")\n",
        "  sys.exit(1)\n",
        "else:\n",
        "  logStep(\"14 - Spark operation - Parquet query executed successfully.\")\n",
        "\n",
        "end_time           = datetime.datetime.now()\n",
        "logStep(\"14 - DONE\")\n",
        "step14_elapsed_time = end_time - start_time\n",
        "logStep(F\"14 - ELAPSED TIME: {step14_elapsed_time} seconds\")"
      ]
    },
    {
      "cell_type": "markdown",
      "metadata": {
        "id": "GKzo6jebd6Yu"
      },
      "source": [
        "Step 15 Determine the runtime and compare to the original runtime"
      ]
    },
    {
      "cell_type": "code",
      "execution_count": 16,
      "metadata": {
        "colab": {
          "base_uri": "https://localhost:8080/"
        },
        "id": "oEkIu5yYuWlW",
        "outputId": "4d5de544-84e1-4532-9c05-00db6ac765fa"
      },
      "outputs": [
        {
          "output_type": "stream",
          "name": "stdout",
          "text": [
            "\u001b[37m2023-09-06 01:20:36.291405\u001b[33m STEP 15 - RUNTIME DIFFERENCE\u001b[37m---------------------------------------------------------\n",
            "\u001b[37m2023-09-06 01:20:36.293653\u001b[33m STEP 15 - Time required for a non-cached Query    : 0:00:02.035284\u001b[37m-------------------\n",
            "\u001b[37m2023-09-06 01:20:36.296898\u001b[33m STEP 15 - Time required for a parquet cached Query: 0:00:01.252779\u001b[37m-------------------\n",
            "\u001b[37m2023-09-06 01:20:36.298530\u001b[33m STEP 15 - Time difference                         : 0:00:00.782505\u001b[37m-------------------\n",
            "\u001b[37m2023-09-06 01:20:36.300586\u001b[33m STEP 15 - DONE\u001b[37m-----------------------------------------------------------------------\n",
            "\u001b[37m2023-09-06 01:20:36.301991\u001b[33m STEP 15 - ELAPSED TIME: 0:00:00.010490 seconds\u001b[37m---------------------------------------\n"
          ]
        }
      ],
      "source": [
        "#\n",
        "# Step 15 - Determine the runtime and compare it to the cached version.\n",
        "#\n",
        "\n",
        "start_time          = datetime.datetime.now()\n",
        "logStep(\"15 - RUNTIME DIFFERENCE\")\n",
        "\n",
        "time_difference     = step06_elapsed_time - step14_elapsed_time\n",
        "logStep(F\"15 - Time required for a non-cached Query    : {step06_elapsed_time}\")\n",
        "logStep(F\"15 - Time required for a parquet cached Query: {step14_elapsed_time}\")\n",
        "logStep(F\"15 - Time difference                         : {time_difference}\")\n",
        "logStep(\"15 - DONE\")\n",
        "end_time            = datetime.datetime.now()\n",
        "step15_elapsed_time = end_time - start_time\n",
        "logStep(F\"15 - ELAPSED TIME: {step15_elapsed_time} seconds\")"
      ]
    },
    {
      "cell_type": "markdown",
      "metadata": {
        "id": "9kiDgFkzd6Yv"
      },
      "source": [
        "Step 16 - Un-cache the home_sales temporary table."
      ]
    },
    {
      "cell_type": "code",
      "execution_count": 17,
      "metadata": {
        "colab": {
          "base_uri": "https://localhost:8080/"
        },
        "id": "hjjYzQGjtbq8",
        "outputId": "d16a6c0a-ec9b-46b6-ad72-08448de43e78"
      },
      "outputs": [
        {
          "output_type": "stream",
          "name": "stdout",
          "text": [
            "\u001b[37m2023-09-06 01:20:36.312424\u001b[33m STEP 16 - UNCACHE\u001b[37m--------------------------------------------------------------------\n",
            "\u001b[37m2023-09-06 01:20:36.410382\u001b[33m STEP 16 - Spark operation - Uncache executed successfully\u001b[37m----------------------------\n",
            "\u001b[37m2023-09-06 01:20:36.413409\u001b[33m STEP 16 - DONE\u001b[37m-----------------------------------------------------------------------\n",
            "\u001b[37m2023-09-06 01:20:36.414744\u001b[33m STEP 16 - ELAPSED TIME: 0:00:00.100961 seconds\u001b[37m---------------------------------------\n"
          ]
        }
      ],
      "source": [
        "#\n",
        "# Step 16 - Un-cache the home_sales temporary table.\n",
        "#\n",
        "\n",
        "start_time         = datetime.datetime.now()\n",
        "logStep(\"16 - UNCACHE\")\n",
        "\n",
        "try:\n",
        "  spark.sql(\"uncache table home_sales\")\n",
        "except Exception as e:\n",
        "  logStep(Fore.RED + F\"Exception: {e}\")\n",
        "  sys.exit(1)\n",
        "else:\n",
        "  logStep(\"16 - Spark operation - Uncache executed successfully\")\n",
        "\n",
        "end_time           = datetime.datetime.now()\n",
        "logStep(\"16 - DONE\")\n",
        "step16_elapsed_time = end_time - start_time\n",
        "logStep(F\"16 - ELAPSED TIME: {step16_elapsed_time} seconds\")"
      ]
    },
    {
      "cell_type": "markdown",
      "metadata": {
        "id": "pNA_qHJsd6Yv"
      },
      "source": [
        "Step 17 - Check if the home_sales is no longer cached"
      ]
    },
    {
      "cell_type": "code",
      "execution_count": 18,
      "metadata": {
        "colab": {
          "base_uri": "https://localhost:8080/"
        },
        "id": "Sy9NBvO7tlmm",
        "outputId": "e3c5a87f-d878-4629-f55a-fef6d6fd067b"
      },
      "outputs": [
        {
          "output_type": "stream",
          "name": "stdout",
          "text": [
            "\u001b[37m2023-09-06 01:20:36.425238\u001b[33m STEP 17 - CACHE CHECK\u001b[37m----------------------------------------------------------------\n",
            "\u001b[37m2023-09-06 01:20:36.459050\u001b[33m STEP 17 - home_sales is not cached\u001b[37m---------------------------------------------------\n",
            "\u001b[37m2023-09-06 01:20:36.462025\u001b[33m STEP 17 - Spark operation - Cache check executed successfully\u001b[37m------------------------\n",
            "\u001b[37m2023-09-06 01:20:36.463631\u001b[33m STEP 17 - DONE\u001b[37m-----------------------------------------------------------------------\n",
            "\u001b[37m2023-09-06 01:20:36.465290\u001b[33m STEP 17 - ELAPSED TIME: 0:00:00.038359 seconds\u001b[37m---------------------------------------\n"
          ]
        }
      ],
      "source": [
        "#\n",
        "# Step 17 - Check if the home_sales is no longer cached\n",
        "#\n",
        "start_time         = datetime.datetime.now()\n",
        "logStep(\"17 - CACHE CHECK\")\n",
        "\n",
        "try:\n",
        "  if (spark.catalog.isCached('home_sales') == False):\n",
        "      logStep(\"17 - home_sales is not cached\")\n",
        "  else:\n",
        "      logStep(\"17 - home_sales is cached\")\n",
        "except Exception as e:\n",
        "  logStep(F\"Exception: {e}\")\n",
        "  sys.exit(1)\n",
        "else:\n",
        "  logStep(\"17 - Spark operation - Cache check executed successfully\")\n",
        "\n",
        "end_time           = datetime.datetime.now()\n",
        "logStep(\"17 - DONE\")\n",
        "step17_elapsed_time = end_time - start_time\n",
        "logStep(F\"17 - ELAPSED TIME: {step17_elapsed_time} seconds\")\n"
      ]
    },
    {
      "cell_type": "code",
      "execution_count": 19,
      "metadata": {
        "colab": {
          "base_uri": "https://localhost:8080/"
        },
        "id": "bvi6AKd8d6Yv",
        "outputId": "bab5c27a-adc6-47d7-f80a-77e37e6521b2"
      },
      "outputs": [
        {
          "output_type": "stream",
          "name": "stdout",
          "text": [
            "\u001b[37m2023-09-06 01:20:36.478884\u001b[33m STEP TOTAL RUN TIME\u001b[37m------------------------------------------------------------------\n",
            "\u001b[37m2023-09-06 01:20:36.490187\u001b[33m STEP  0:   0:00:00.007319 seconds\u001b[37m----------------------------------------------------\n",
            "\u001b[37m2023-09-06 01:20:36.491488\u001b[33m STEP  1:   0:00:28.770066 seconds\u001b[37m----------------------------------------------------\n",
            "\u001b[37m2023-09-06 01:20:36.492820\u001b[33m STEP  2:   0:00:00.086202 seconds\u001b[37m----------------------------------------------------\n",
            "\u001b[37m2023-09-06 01:20:36.493913\u001b[33m STEP  3:   0:00:05.990850 seconds\u001b[37m----------------------------------------------------\n",
            "\u001b[37m2023-09-06 01:20:36.495234\u001b[33m STEP  4:   0:00:04.216756 seconds\u001b[37m----------------------------------------------------\n",
            "\u001b[37m2023-09-06 01:20:36.496366\u001b[33m STEP  5:   0:00:02.086773 seconds\u001b[37m----------------------------------------------------\n",
            "\u001b[37m2023-09-06 01:20:36.497384\u001b[33m STEP  6:   0:00:02.035284 seconds - non-cached query\u001b[37m---------------------------------\n",
            "\u001b[37m2023-09-06 01:20:36.498429\u001b[33m STEP  7:   0:00:02.976222 seconds\u001b[37m----------------------------------------------------\n",
            "\u001b[37m2023-09-06 01:20:36.499620\u001b[33m STEP  8:   0:00:00.041023 seconds\u001b[37m----------------------------------------------------\n",
            "\u001b[37m2023-09-06 01:20:36.500812\u001b[33m STEP  9:   0:00:00.637128 seconds - cached query\u001b[37m-------------------------------------\n",
            "\u001b[37m2023-09-06 01:20:36.501980\u001b[33m STEP 10:   0:00:00.009663 seconds\u001b[37m----------------------------------------------------\n",
            "\u001b[37m2023-09-06 01:20:36.503161\u001b[33m STEP 11:   0:00:04.592222 seconds\u001b[37m----------------------------------------------------\n",
            "\u001b[37m2023-09-06 01:20:36.505205\u001b[33m STEP 12:   0:00:01.822762 seconds\u001b[37m----------------------------------------------------\n",
            "\u001b[37m2023-09-06 01:20:36.506349\u001b[33m STEP 13:   0:00:00.594672 seconds\u001b[37m----------------------------------------------------\n",
            "\u001b[37m2023-09-06 01:20:36.508047\u001b[33m STEP 14:   0:00:01.252779 seconds - parquet cached query\u001b[37m-----------------------------\n",
            "\u001b[37m2023-09-06 01:20:36.509523\u001b[33m STEP 15:   0:00:00.010490 seconds\u001b[37m----------------------------------------------------\n",
            "\u001b[37m2023-09-06 01:20:36.514801\u001b[33m STEP 16:   0:00:00.100961 seconds\u001b[37m----------------------------------------------------\n",
            "\u001b[37m2023-09-06 01:20:36.515950\u001b[33m STEP 17:   0:00:00.038359 seconds\u001b[37m----------------------------------------------------\n",
            "\u001b[37m2023-09-06 01:20:36.519431\u001b[33m STEP TT:   0:00:55.269531 seconds\u001b[37m----------------------------------------------------\n",
            "\u001b[37m2023-09-06 01:20:36.520645\u001b[33m STEP 06 Cached Query Reduction  : 68.70%\u001b[37m---------------------------------------------\n",
            "\u001b[37m2023-09-06 01:20:36.523462\u001b[33m STEP 14 Parquet Query Reduction : 38.45%\u001b[37m---------------------------------------------\n",
            "\u001b[37m2023-09-06 01:20:36.524947\u001b[33m STEP END OF PROGRAM-\u001b[37m-----------------------------------------------------------------\n"
          ]
        }
      ],
      "source": [
        "logStep(\"TOTAL RUN TIME\")\n",
        "logStep(F\" 0:   {step00_elapsed_time} seconds\")\n",
        "logStep(F\" 1:   {step01_elapsed_time} seconds\")\n",
        "logStep(F\" 2:   {step02_elapsed_time} seconds\")\n",
        "logStep(F\" 3:   {step03_elapsed_time} seconds\")\n",
        "logStep(F\" 4:   {step04_elapsed_time} seconds\")\n",
        "logStep(F\" 5:   {step05_elapsed_time} seconds\")\n",
        "logStep(F\" 6:   {step06_elapsed_time} seconds - non-cached query\")\n",
        "logStep(F\" 7:   {step07_elapsed_time} seconds\")\n",
        "logStep(F\" 8:   {step08_elapsed_time} seconds\")\n",
        "logStep(F\" 9:   {step09_elapsed_time} seconds - cached query\")\n",
        "logStep(F\"10:   {step10_elapsed_time} seconds\")\n",
        "logStep(F\"11:   {step11_elapsed_time} seconds\")\n",
        "logStep(F\"12:   {step12_elapsed_time} seconds\")\n",
        "logStep(F\"13:   {step13_elapsed_time} seconds\")\n",
        "logStep(F\"14:   {step14_elapsed_time} seconds - parquet cached query\")\n",
        "logStep(F\"15:   {step15_elapsed_time} seconds\")\n",
        "logStep(F\"16:   {step16_elapsed_time} seconds\")\n",
        "logStep(F\"17:   {step17_elapsed_time} seconds\")\n",
        "logStep(F\"TT:   {step00_elapsed_time + step01_elapsed_time + step02_elapsed_time + step03_elapsed_time + step04_elapsed_time + step05_elapsed_time + step06_elapsed_time + step07_elapsed_time + step08_elapsed_time + step09_elapsed_time + step10_elapsed_time + step11_elapsed_time + step12_elapsed_time + step13_elapsed_time + step14_elapsed_time + step15_elapsed_time + step16_elapsed_time + step17_elapsed_time} seconds\")\n",
        "logStep(F'06 Cached Query Reduction  : {100-(step09_elapsed_time/step06_elapsed_time*100):.2f}%')\n",
        "logStep(F'14 Parquet Query Reduction : {100-(step14_elapsed_time/step06_elapsed_time*100):.2f}%')\n",
        "logStep(\"END OF PROGRAM-\")"
      ]
    }
  ],
  "metadata": {
    "colab": {
      "provenance": []
    },
    "kernelspec": {
      "display_name": "Python 3",
      "name": "python3"
    },
    "language_info": {
      "codemirror_mode": {
        "name": "ipython",
        "version": 3
      },
      "file_extension": ".py",
      "mimetype": "text/x-python",
      "name": "python",
      "nbconvert_exporter": "python",
      "pygments_lexer": "ipython3",
      "version": "3.11.5"
    },
    "nteract": {
      "version": "0.28.0"
    },
    "accelerator": "TPU"
  },
  "nbformat": 4,
  "nbformat_minor": 0
}